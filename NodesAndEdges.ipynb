{
 "cells": [
  {
   "cell_type": "markdown",
   "metadata": {},
   "source": [
    "# SigB\n",
    "\n",
    "from 7:\n",
    "\n",
    "https://www.ncbi.nlm.nih.gov/pmc/articles/PMC2758279/\n",
    "\n",
    "**Statement:**\n",
    "\"SigB contributes to the nitrogen responsive transcription of glnB and other ntcA dependent genes.\" \n",
    "\n",
    "**Why:**\n",
    "In 6803 from source 7:\n",
    "\n",
    "\"In the process of identifying the σ factor using group 2 σ factor knockout strains, it was found that SigB specifically contributed to transcription of glnB under nitrogen depri-\n",
    "vation in the logarithmic phase, but other group 2 σ factors did not. MOreover, the SigB protein level was increased approximately 2-fold in response to nitrogen deprivation in both growth phases. Furthermore, transcripts synthesized from the NtcA-dependent glnB, glnA, amt1, and glnN in vitro were detected by RNAP-SigB and their levels were significantly increased when NtcA and 2-oxoglutarate (2-OG, a signaling metabolite accumulated under nitrogen deprivation) were added to the reaction mixture. These results indicated that SigB plays a central role in the NtcA- dependent nitrogen-related gene expression in PCC 6803.\""
   ]
  },
  {
   "cell_type": "markdown",
   "metadata": {},
   "source": [
    "## SigB - ntcA\n",
    "\n",
    "interaction: positive\n",
    "source: 2\n",
    "\n",
    "Therefore it makes makes sense to assume that sigB plays a similar role in Cyanothece 51142. "
   ]
  },
  {
   "cell_type": "markdown",
   "metadata": {},
   "source": [
    "# SigE\n",
    "\n",
    "from 7:\n",
    "\n",
    "https://www.ncbi.nlm.nih.gov/pmc/articles/PMC2758279/\n",
    "\n",
    "**Statement:**\n",
    "\"\n",
    "genome-wide DNA microarray analysis was performed to identify genes controlled by SigE under normal physiological conditions. The downregulated genes included several whose products contribute to sugar catabolism, including enzymes that participate in glycolysis \\[pfkA (encoding one of two phosphofructokinases), gap1 (one of two glyceraldehyde-3-dehydrogenases catalyzing catabolic reactions), pyk1 (one of two pyruvate kinases)], the oxidative pentose phosphate (OPP) pathway [zwf (a glucose-6-phosphate dehydroge- nase, G6PD), opcA (a positive regulator for G6PD), gnd (6-phosphogluconate dehydrogenase, 6PGD), and tal (transaldolase)], or glycogen breakdown [glgX (one of two glycogen isoamylases) and glgP (one of two glycogen phosphorylases)]. \" \n",
    "\n",
    "**Why:**\n",
    "In 6803 from source 7:\n",
    "\n",
    "\"Consistent with the analysis of the transcripts, the sigE knock- out strain showed a reduced rate of glucose uptake and an increased intracellular level of glycogen. Moreover, the mutant was unable to proliferate under light-activated heterotrophic growth conditions. These results clearly indicate that SigE functions in the transcriptional activation of sugar catabolic pathway-related genes in PCC 6803.\"\n"
   ]
  },
  {
   "cell_type": "markdown",
   "metadata": {},
   "source": [
    "## SigE - cce_3941\n",
    "\n",
    "interaction: positive\n",
    "source: 5\n",
    "\n",
    "\n",
    "cce_3941 is an alpha amylase, an enzyme EC 3.2.1.1 that hydrolyses alpha bonds of large, alpha-linked polysaccharides, such as starch and glycogen, yielding glucose and maltose.\n",
    "This observation is in conjunction with the above statement in 6803."
   ]
  },
  {
   "cell_type": "markdown",
   "metadata": {},
   "source": [
    "## SigE - cce_3870\n",
    "\n",
    "interaction: negative\n",
    "source: 5\n",
    "\n",
    "No notable literature with interaction\n",
    "\n",
    "\n",
    "cce_3870 is a sulphatase. \n",
    "\n",
    "Sulfatases EC 3.1.6.- are enzymes of the esterase class that catalyze the hydrolysis of sulfate esters. These may be found on a range of substrates, including steroids, carbohydrates and proteins. Sulfate esters may be formed from various alcohols and amines. In the latter case the resultant N-sulfates can also be termed sulfamates.\n",
    "\n",
    "Sulfatases play important roles in the cycling of sulfur in the environment, in the degradation of sulfated glycosaminoglycans and glycolipids in the lysosome, and in remodelling sulfated glycosaminoglycans in the extracellular space. Together with sulfotransferases, sulfatases form the major catalytic machinery for the synthesis and breakage of sulfate esters. \n",
    "\n",
    "No sufficient evidence for this interaction found in literature."
   ]
  },
  {
   "cell_type": "markdown",
   "metadata": {},
   "source": [
    "## SigE - cce_3627\n",
    "\n",
    "interaction: positive\n",
    "source: 5\n",
    "\n",
    "DUF1257: Domain of Unknown function\n",
    "\n",
    "This family contains hypothetical proteins of unknown function that are approximately 120 residues long. Family members include eukaryotic and bacterial proteins."
   ]
  },
  {
   "cell_type": "markdown",
   "metadata": {},
   "source": [
    "## SigE - ndhD2\n",
    "\n",
    "interaction: negative\n",
    "source: 5\n",
    "\n",
    "from source 7:\n",
    "\n",
    "SigE specifically contributes to the expression of genes related to sugar catabolism and photosynthesis, and is regulated by the circadian system at the transcript and protein levels. Therefore, SigE may be a σ factor controlling the balance of carbon and nitrogen\n",
    "metabolism with a rhythmic expression that peaks at 24-hour intervals according to the upcoming night. \n",
    "\n",
    "\n",
    "NADH Dehydrogenase in annotation\n",
    "pathway information CO2 uptake\n",
    "expression L\n",
    "\n",
    "from source 7:\n",
    "\n",
    "SigE specifically contributes to the expression of genes related to sugar catabolism and photosynthesis, and is regulated by the circadian system at the transcript and protein levels. Therefore, SigE may be a σ factor controlling the balance of carbon and nitrogen\n",
    "metabolism with a rhythmic expression that peaks at 24-hour intervals according to the upcoming night. \n",
    "\n",
    "Plays a part in nitrogen control and thus sigE may directly/indirectly affect this gene"
   ]
  },
  {
   "cell_type": "markdown",
   "metadata": {},
   "source": [
    "## SigE - hypE\n",
    "\n",
    "interaction: negative\n",
    "source: 5\n",
    "\n",
    "*hydrogenase expression protein*\n",
    "\n",
    "From Source 8\n",
    "\n",
    "https://academic.oup.com/femsre/article/31/6/692/2367442\n",
    "\n",
    "Role of Hydrogenase:\n",
    "\n",
    "In cyanobacteria, as in any diazotrophic bacteria, the reduction of N 2 to NH 3 is accompanied by the formation of molecular hydrogen. The H 2 produced by the nitrogenase is rapidly consumed by an uptake hydrogenase, an enzyme that has been found in almost all the N 2 -fixing cyanobacteria examined so far, with one reported exception – Synechococcus sp. BG 043511. A strong correlation between the nitrogen-fixation process and the uptake hydrogenase activity has been demonstrated for cyanobacteria and this indicates that the main physiological function of the uptake hydrogenase is to reutilize and regain the H 2 /electrons produced by the H 2 evolution through the nitrogenase. This recycling has been suggested to have at least three beneficial functions to the organism: (1) it provides ATP via the oxyhydrogen reaction, minimizing the loss of energy; (2) it removes the oxygen from nitrogenase, thereby protecting it from inactivation; and (3) it supplies reducing equivalents (electrons) to various cell functions.\n",
    "\n",
    "Role of hypE:\n",
    "\n",
    "Homologues of the hyp genes are present in all organisms capable of forming NiFe hydrogenases. Although little is known about the biosynthesis/maturation of the cyanobacterial hydrogenases, several genes presumably involved in this process have been identified clustered or scattered throughout the genomes of several cyanobacterial strains. The presence of a single copy of most of the hyp genes ( hypFCDEAB ) in the genome of cyanobacteria, regardless of possessing only the uptake hydrogenase (e.g. N. punctiforme ), the bidirectional hydrogenase (e.g. Synechocystis sp. PCC 6803) or both enzymes (e.g. Nostoc sp. PCC 7120) suggests that they might be responsible for the maturation of both hydrogenases.\n",
    "\n",
    "HypF and HypE are the proteins involved in the synthesis of the CN, and maybe the CO, ligands of iron. HypF accepts carbamoyl phosphate (CP) as a substrate, catalyzes a CP-dependent hydrolysis of ATP into AMP and inorganic phosphate (PPi) and forms an adenylated CP derivative. The carbamoyl group of CP is transferred to the cysteine at the C-terminus of HypE\n",
    "\n",
    "\n",
    "from source 7:\n",
    "\n",
    "SigE specifically contributes to the expression of genes related to sugar catabolism and photosynthesis, and is regulated by the circadian system at the transcript and protein levels. Therefore, SigE may be a σ factor controlling the balance of carbon and nitrogen\n",
    "metabolism with a rhythmic expression that peaks at 24-hour intervals according to the upcoming night. \n",
    "\n",
    "Plays a part in nitrogen control and thus sigE may directly/indirectly affect this gene"
   ]
  },
  {
   "cell_type": "markdown",
   "metadata": {},
   "source": [
    "## SigE - nirA\n",
    "\n",
    "interaction: positive\n",
    "source: 5\n",
    "\n",
    "\n",
    "\n",
    "From source 9\n",
    "\n",
    "For the assimilation of nitrate, an organism needs to have an active transporter for nitrate (NRT), nitrate reductase (NR) and nitrite reductase (NiR). NRT is essential for the transport of the substrate into the cell, and NR and NiR are required for the subsequent two-step reduction of nitrate into ammonium. \n",
    "\n",
    "\n",
    "ferredoxin-nitrite reductase in annotation\n",
    "expression L\n",
    "\n",
    "from source 7:\n",
    "\n",
    "SigE specifically contributes to the expression of genes related to sugar catabolism and photosynthesis, and is regulated by the circadian system at the transcript and protein levels. Therefore, SigE may be a σ factor controlling the balance of carbon and nitrogen\n",
    "metabolism with a rhythmic expression that peaks at 24-hour intervals according to the upcoming night. \n",
    "\n",
    "Plays a part in nitrogen control and thus sigE may directly/indirectly affect this gene"
   ]
  },
  {
   "cell_type": "markdown",
   "metadata": {},
   "source": [
    "## SigE - hupL\n",
    "\n",
    "interaction: positive\n",
    "source: 5\n",
    "\n",
    "\n",
    "From Source 8\n",
    "\n",
    "https://academic.oup.com/femsre/article/31/6/692/2367442\n",
    "\n",
    "The uptake hydrogenase (encoded by hupSL ) catalyzes the consumption of the H 2 produced during N 2 fixation\n",
    "\n",
    "\n",
    "from source 7:\n",
    "\n",
    "SigE specifically contributes to the expression of genes related to sugar catabolism and photosynthesis, and is regulated by the circadian system at the transcript and protein levels. Therefore, SigE may be a σ factor controlling the balance of carbon and nitrogen\n",
    "metabolism with a rhythmic expression that peaks at 24-hour intervals according to the upcoming night. \n",
    "\n",
    "hydrogenase uptake\n",
    "\n",
    "Plays a part in nitrogen control and thus sigE may directly/indirectly affect this gene"
   ]
  },
  {
   "cell_type": "markdown",
   "metadata": {},
   "source": [
    "## SigE - pstS\n",
    "\n",
    "interaction: negative\n",
    "source: 5\n",
    "\n",
    "\n",
    "From Source InterPro\n",
    "\n",
    "https://www.ebi.ac.uk/interpro/entry/InterPro/IPR005673/\n",
    "\n",
    "PstS is the substrate-binding component of the ABC-type transporter complex pstSACB, involved in phosphate import. This protein is accompanied, generally in the same operon, by an ATP binding protein (pstB) and two permease proteins (pstC and pstA). The accumulation of this protein is enhanced under phosphate starvation\n",
    "\n",
    "from source 10:\n",
    "\n",
    "Involved in phosphorous regultation\n",
    "\n",
    "No sufficient evidence for this interaction found in literature."
   ]
  },
  {
   "cell_type": "markdown",
   "metadata": {},
   "source": [
    "## SigE - pntB\n",
    "\n",
    "interaction: positive\n",
    "source: 5\n",
    "\n",
    "From Source 11:\n",
    "\n",
    "Pyridine nucleotide transhydrogenase (PntAB) is an integral membrane protein complex participating in the regulation of NAD(P)+ :NAD(P)H redox homeostasis \n",
    "\n",
    "No sufficient evidence for this interaction found in literature."
   ]
  },
  {
   "cell_type": "markdown",
   "metadata": {},
   "source": [
    "## SigE - cce_0720\n",
    "\n",
    "interaction: negative\n",
    "source: 5\n",
    "\n",
    "\n",
    "putative peptidoglycan-binding peptidase, M23B family\n",
    "\n",
    "No sufficient evidence for this interaction found in literature."
   ]
  },
  {
   "cell_type": "markdown",
   "metadata": {},
   "source": [
    "## SigE - cce_0589\n",
    "\n",
    "interaction: positive\n",
    "source: 5\n",
    "\n",
    "\n",
    "cytochrome c family protein\n",
    "Plays a role in cell apoptosis\n",
    "\n",
    "No sufficient evidence for this interaction found in literature."
   ]
  },
  {
   "cell_type": "markdown",
   "metadata": {},
   "source": [
    "## SigE - cce_0571\n",
    "\n",
    "interaction: positive\n",
    "source: 5\n",
    "\n",
    "\n",
    "2Fe-2S ferredoxin, putative nitrogen fixation related protein\n",
    "\n",
    "from source 7:\n",
    "\n",
    "SigE specifically contributes to the expression of genes related to sugar catabolism and photosynthesis, and is regulated by the circadian system at the transcript and protein levels. Therefore, SigE may be a σ factor controlling the balance of carbon and nitrogen\n",
    "metabolism with a rhythmic expression that peaks at 24-hour intervals according to the upcoming night. \n",
    "\n",
    "Plays a part in nitrogen control and thus sigE may directly/indirectly affect this gene"
   ]
  },
  {
   "cell_type": "markdown",
   "metadata": {},
   "source": [
    "## SigE - nifZ\n",
    "\n",
    "interaction: positive\n",
    "source: 5\n",
    "\n",
    "\n",
    "iron-sulfur cofactor synthesis protein; nitrogen fixation related\n",
    "\n",
    "from source 7:\n",
    "\n",
    "SigE specifically contributes to the expression of genes related to sugar catabolism and photosynthesis, and is regulated by the circadian system at the transcript and protein levels. Therefore, SigE may be a σ factor controlling the balance of carbon and nitrogen\n",
    "metabolism with a rhythmic expression that peaks at 24-hour intervals according to the upcoming night. \n",
    "\n",
    "Plays a part in nitrogen control and thus sigE may directly/indirectly affect this gene"
   ]
  },
  {
   "cell_type": "markdown",
   "metadata": {},
   "source": [
    "## SigE - cmpC\n",
    "\n",
    "interaction: positive\n",
    "source: 5\n",
    "\n",
    "\n",
    "bicarbontate transport system ATP-binding protein; takes part in CO2 uptake\n",
    "\n",
    "No sufficient evidence for this interaction found in literature."
   ]
  },
  {
   "cell_type": "markdown",
   "metadata": {},
   "source": [
    "# cce_4141"
   ]
  },
  {
   "cell_type": "markdown",
   "metadata": {},
   "source": [
    "## cce_4141-cce_3298\n",
    "\n",
    "interaction: positive\n",
    "source: 2\n",
    "\n",
    "An unknown TF affects and unknown TF. However, 3298 also takes part in interaction with sigB and ntcA. Therefore this interaction can be interesting. "
   ]
  },
  {
   "cell_type": "markdown",
   "metadata": {},
   "source": [
    "## cce_4141-glgP1\n",
    "\n",
    "interaction: negative\n",
    "source: 5\n",
    "\n",
    "glycogen phosphorylase\n",
    "\n",
    "glgP1 takes part in glycogen breakdown pathway. "
   ]
  },
  {
   "cell_type": "markdown",
   "metadata": {},
   "source": [
    "## cce_4141-gdhA\n",
    "\n",
    "interaction: positive\n",
    "source: 5\n",
    "\n",
    "glutamate dehhydrogenase\n",
    "gdhA takes part in amino acid biosynthesis pathway. "
   ]
  },
  {
   "cell_type": "markdown",
   "metadata": {},
   "source": [
    "# SigD\n",
    "\n"
   ]
  },
  {
   "cell_type": "markdown",
   "metadata": {},
   "source": [
    "From Source 7:\n",
    "\n",
    "In 2003, Imamura et al. examined fl uctuations in the protein levels of all σ factors under high-light conditions  in  PCC  6803  (transition  from  35  to  120 μmol photons m−2 s−1), and fi rst identifi ed a σ  factor,  SigD,  whose  protein  was  signifi cantly accumulated  in  response  to  the  change  in  light  intensity ... Further  studies  are  needed  to  clarify  the  regulatory  mechanism  of  sigD  expression  in  response to environmental stress.\n",
    "\n",
    "In  2003,  it  was  reported  that  the  light-induced  σ factor PCC 6803 SigD specifi cally recognized the  promoters  of  photosynthetic  genes,  psbA2and psbA3, and contributed to their light-induced transcription. Since then, it has been shown that SigD also contributes to the transcription of the light-induced  photosynthetic  genes  cpcBADC, petBD, and psaAB. This demonstrates a universal function of SigD for light-induced transcription in cyanobacteria."
   ]
  },
  {
   "cell_type": "markdown",
   "metadata": {},
   "source": [
    "## sigD - pheA\n",
    "\n",
    "From Uniprot:\n",
    "\n",
    "pheA - Prephenate dehydratase\n",
    "\n",
    "This protein is involved in step 1 of the subpathway that synthesizes phenylpyruvate from prephenate. This subpathway is part of the pathway L-phenylalanine biosynthesis, which is itself part of Amino-acid biosynthesis.\n",
    "\n",
    "No sufficient evidence for this interaction found in literature"
   ]
  },
  {
   "cell_type": "markdown",
   "metadata": {},
   "source": [
    "## sigD - cce_4412\n",
    "\n",
    "From Uniprot:\n",
    "\n",
    "magnesium-protoporphyrin IX monomethyl ester aerobic oxidative cyclase \n",
    "\n",
    "Involved in photosynthesis or chlorophyll biosynthetic process.\n",
    "\n",
    "Given SigD's role as given above, this is possible."
   ]
  },
  {
   "cell_type": "markdown",
   "metadata": {},
   "source": [
    "## sigD - chlH1\n",
    "\n",
    "From Uniprot:\n",
    "\n",
    "Magnesium chelatase subunit H\n",
    "\n",
    "Involved in chlorophyll biosynthetic process.\n",
    "\n",
    "Given SigD's role as given above, this is possible.\n"
   ]
  },
  {
   "cell_type": "markdown",
   "metadata": {},
   "source": [
    "## sigD - psaL1\n",
    "\n",
    "From Uniprot:\n",
    "\n",
    "Photosystem I reaction center subunit XI\n",
    "\n",
    "Involved in photosynthesis.\n",
    "\n",
    "Given SigD's role as given above, this is possible"
   ]
  },
  {
   "cell_type": "markdown",
   "metadata": {},
   "source": [
    "## sigD - cce_3941\n",
    "\n",
    "alpha amylase\n",
    "\n",
    "No sufficient evidence found in literature"
   ]
  },
  {
   "cell_type": "markdown",
   "metadata": {},
   "source": [
    "## sigD - cce_3870\n",
    "\n",
    "sulfatase\n",
    "\n",
    "No sufficient evidence found in literature\n"
   ]
  },
  {
   "cell_type": "markdown",
   "metadata": {},
   "source": [
    "## sigD - psb27\n",
    "\n",
    "From Uniprot:\n",
    "\n",
    "Photosystem II lipoprotein\n",
    "\n",
    "Involved in photosynthesis II repair and assembly.\n",
    "\n",
    "Given SigD's role as given above, this is possible\n",
    "`"
   ]
  },
  {
   "cell_type": "markdown",
   "metadata": {},
   "source": [
    "## sigD - ndhD2\n",
    "\n",
    "From Uniprot:\n",
    "\n",
    "NAD(P)H-quinone oxidoreductase chain 4\n",
    "\n",
    "NADH dehydrogenase (ubiquinone) activity\n",
    "\n",
    "No sufficient evidence found in literature\n"
   ]
  },
  {
   "cell_type": "markdown",
   "metadata": {},
   "source": [
    "## sigD - cce_3518\n",
    "\n",
    "From Uniprot:\n",
    "\n",
    "Putative S-layer OprB family carbohydrate-selective porin\n",
    "\n",
    "involved in carbohyrate transport \n",
    "\n",
    "No sufficient evidence found in literature\n"
   ]
  },
  {
   "cell_type": "markdown",
   "metadata": {},
   "source": [
    "## sigD - cce_3107\n",
    "\n",
    "From Uniprot:\n",
    "\n",
    "Elongation factor EF-G\n",
    "\n",
    "involved in protein biosynthesis\n",
    "\n",
    "No sufficient evidence found in literature\n"
   ]
  },
  {
   "cell_type": "markdown",
   "metadata": {},
   "source": [
    "## sigD - glgP1\n",
    "\n",
    "From Uniprot:\n",
    "\n",
    "glycogen phosphorylase\n",
    "\n",
    "glgP1 takes part in glycogen breakdown pathway. \n",
    "\n",
    "No sufficient evidence found in literature"
   ]
  },
  {
   "cell_type": "markdown",
   "metadata": {},
   "source": [
    "## sigD - rub1\n",
    "\n",
    "From Uniprot:\n",
    "\n",
    "rubredoxin\n",
    "\n",
    "Electron transport\n",
    "\n",
    "No sufficient evidence found in literature"
   ]
  },
  {
   "cell_type": "markdown",
   "metadata": {},
   "source": [
    "## sigD - cce_0571\n",
    "\n",
    "From Uniprot:\n",
    "\n",
    "2Fe-2S ferredoxin, putative nitrogen fixation related protein\n",
    "\n",
    "May take part in N2 fixation. \n",
    "\n",
    "No sufficient evidence found in literature"
   ]
  },
  {
   "cell_type": "markdown",
   "metadata": {},
   "source": [
    "# KaiB1\n",
    "\n",
    "part of the circadian clock protein complex KaiABC"
   ]
  },
  {
   "cell_type": "markdown",
   "metadata": {},
   "source": [
    "## KaiB1 - KaiB4\n",
    "\n",
    "KaiB4 is a putative circadian clock protein. \n",
    "\n",
    "KaiB has multiple copies in Cyanothece unlike Synechococcus elongatus 7942 which is the model organism for circadian clock study. Hence this interaction has no literature evidence.  "
   ]
  },
  {
   "cell_type": "markdown",
   "metadata": {},
   "source": [
    "# cce_3378\n",
    "\n",
    "This had been annotated as a part of the two component regulator and is expressed during the light to dark transition phase as obtained from the supplementary material in source 2. It was also classified as one of the top 25 topological bottlenecks in the netwrok developed by source 2. Source 5 predicts that it affects multiple target genes including the kaiB3 circadian clock protein. This can be a potential master regulator. "
   ]
  },
  {
   "cell_type": "markdown",
   "metadata": {},
   "source": [
    "**Since this Transcription factor is not well studied, there is no literature evidence available for the edges given below.**"
   ]
  },
  {
   "cell_type": "markdown",
   "metadata": {},
   "source": [
    "## cce_3378-pheA\n",
    "## cce_3378-chlH1\n",
    "## cce_3378-cysC\n",
    "## cce_3378-psb27\n",
    "## cce_3378-cce_3518\n",
    "## cce_3378-psbA4\n",
    "## cce_3378-groEL2\n",
    "## cce_3378-cce_3107\n",
    "## cce_3378-cce_2708\n",
    "## cce_3378-ho2\n",
    "## cce_3378-cce_1019\n",
    "## cce_3378-kaiB3"
   ]
  },
  {
   "cell_type": "markdown",
   "metadata": {},
   "source": [
    "# cce_3127\n",
    "\n",
    "Transcriptional Regulator, Fur Family\n",
    "\n",
    "From source 13:\n",
    "\n",
    "Fur-type transcriptional regulators are widespread among prokaryotes and are involved in regulating the uptake and homeostasis of severalmetal ions and related functions(e.g., oxidative stress response). Control of iron uptake was the first functionto be described for such a regulator, and subsequently the proteinwas named ferric uptake regulator (Fur). Fur-type regulators are homodimerswith both DNA and metal-binding domains. These regulators have commonly been described astranscriptional repressors that bind to the DNA operator siteswhen loaded with co-repressor, but there are also examples in which Fur-type regulators act as transcriptional activators. \n",
    "\n",
    "Synechococcussp. strain PCC 7002 encodes three genes that are annotated as Fur-type regulators. The transcriptome profiling results clearly show that allthree Fur-type regulators are transcriptional repressors and thatone (SYNPCC7002_A1649, annotated asfur) is an important regulator of iron homeostasis. Transcript levels of genes, which are specifically responsive to iron limitation, were maximally de-repressed in the merodiploid SYNPCC7002_A1649 strain, and expression levels of genes thatrespond to any other type of nutrient limitation were unchangedas long as no iron limitation was induced.\n",
    "\n",
    "The second Fur-type regulator, SYNPCC7002_A1836, has only two target genes in Synechococcus7002, which were de-repressed in the deletion mutant. Those two genes encode peroxiredoxin and thioredoxin reductase, both of which involved in detoxification of ROS.\n",
    "\n",
    "Deletion   of   the   third   Fur-type   regulator gene(SYNPCC7002_A2498)  resulted in  de-repression  of  genes encoding zinc-transporters and enzymes that are paralogs of zinc-containing enzymes encoded elsewhere in the genome.\n",
    "\n",
    "Based on the similarities of the three Fur-type regulators from Synechococcus 7002 to those of Anabaena 7120 and Synechocystis 6803 on the amino acid sequence level and on the functional level (target genes), we propose the following names for the three genes encoding Fur-type regulators in Synechococcus7002:SYNPCC7002_A1649 isfur, SYNPCC7002_A1836 perR and SYNPCC7002_A2498 is named zur."
   ]
  },
  {
   "cell_type": "markdown",
   "metadata": {},
   "source": [
    "## cce_3127 - pheA\n",
    "\n",
    "This protein is involved in step 1 of the subpathway that synthesizes phenylpyruvate from prephenate. This subpathway is part of the pathway L-phenylalanine biosynthesis, which is itself part of Amino-acid biosynthesis.\n",
    "\n",
    "No literature evidence found"
   ]
  },
  {
   "cell_type": "markdown",
   "metadata": {},
   "source": [
    "## cce_3127 - cce_4475\n",
    "\n",
    "arsenical pump-driving ATPase\n",
    "\n",
    "Catalyzes the extrusion of the oxyanions arsenite, antimonite and arsenate. Maintenance of a low intracellular concentration of oxyanion produces resistance to the toxic agents.\n",
    "\n",
    "NOt enough evidence.\n",
    "\n",
    "## cce_3127 - cce_4412\n",
    "\n",
    "Magnesium-protoporphyrin IX monomethyl ester \\[oxidative\\] cyclase\n",
    "\n",
    "Catalyzes the formation of the isocyclic ring in chlorophyll biosynthesis. Mediates the cyclase reaction, which results in the formation of divinylprotochlorophyllide (Pchlide) characteristic of all chlorophylls from magnesium-protoporphyrin IX 13-monomethyl ester (MgPMME).\n",
    "\n",
    "CoFactor- Fe cation\n",
    "\n",
    "Iron ion binding \n",
    "\n",
    "COuld affect it indirectly through iron.\n",
    "\n",
    "## cce_3127 - cce_3517\n",
    "\n",
    "Putative S-layer OprB family carbohydrate-selective porin\n",
    "\n",
    "porin activity: enables the transfer of substances less than 1000 Dam from one side of the membrane to other. \n",
    "\n",
    "Takes part in Carbohydrate transport\n",
    "\n",
    "No literature evidence found\n",
    "\n",
    "\n",
    "## cce_3127 - cce_2967\n",
    "\n",
    "Magnesium-protoporphyrin IX monomethyl ester \\[oxidative\\] cyclase\n",
    "\n",
    "description same as above\n",
    "\n",
    "COuld affect it indirectly through iron.\n",
    "\n",
    "## cce_3127 - ho2\n",
    "\n",
    "Heme Oxygenase\n",
    "\n",
    "Heme oxygenase (HO) in these organisms catalyzes the first step in phycobilin formation through the conversion of heme to biliverdin IXalpha, CO, and iron. (Yilmaz M et.al. https://www.ncbi.nlm.nih.gov/pubmed/19937118)\n",
    "\n",
    "Iron Ion binding\n",
    "\n",
    "This is possible.\n",
    "\n",
    "## cce_3127 - ndhF1\n",
    "\n",
    "NADH dehydrogenase (ubiquinone) activity\n",
    "\n",
    "No literature evidence found\n",
    "\n",
    "## cce_3127 - metS\n",
    "\n",
    "Methionine--tRNA ligase\n",
    "\n",
    "Is required not only for elongation of protein synthesis but also for the initiation of all mRNA translation through initiator tRNA(fMet) aminoacylation.\n",
    "\n",
    "Metal Binding Zinc\n",
    "\n",
    "This is possible.\n",
    "\n",
    "## cce_3127 - cce_1482\n",
    "\n",
    "conserved hypothetical protein\n",
    "\n",
    "\n",
    "## cce_3127 - isiB2\n",
    "\n",
    "Flavodoxin\n",
    "\n",
    "Low-potential electron donor to a number of redox enzymes.\n",
    "\n",
    "No literature evidence found\n",
    "\n",
    "## cce_3127 - cce_1155\n",
    "\n",
    "Peptidase M48, Ste24p\n",
    "\n",
    "metalloendopeptidase activity: Catalysis of the hydrolysis of internal, alpha-peptide bonds in a polypeptide chain by a mechanism in which water acts as a nucleophile, one or two metal ions hold the water molecule in place, and charged amino acid side chains are ligands for the metal ions. \n",
    "\n",
    "No literature evidence found\n",
    "\n",
    "## cce_3127 - sigE\n",
    "\n",
    "Group 2 sigma factor (not essential for cell viability but structurally similar to group 1. Mostly induced in stressful/unusual conditions)\n",
    "\n",
    "No literature evidence found"
   ]
  },
  {
   "cell_type": "markdown",
   "metadata": {},
   "source": [
    "# kaiB3\n",
    "\n",
    "part of the circadian clock protein complex\n",
    "\n",
    "KaiB negates KaiA's action in 7942"
   ]
  },
  {
   "cell_type": "markdown",
   "metadata": {},
   "source": [
    "## kaiB3 - kaiB1\n",
    "\n",
    "This interaction is not available in iterature. KaiB copies are not present in 7942."
   ]
  },
  {
   "cell_type": "markdown",
   "metadata": {},
   "source": [
    "## kaiB3 - sasA\n",
    "\n",
    "Through direct interaction with KaiC, temporal information flows from the oscillator to SasA. SasA is predicted to activate the response regulator RpaA."
   ]
  },
  {
   "cell_type": "markdown",
   "metadata": {},
   "source": [
    "# cce_0678\n",
    "\n",
    "The regulatory network generated by McDermott et. al source 2 had \"n  uncharacterized  two-component  regulator(cce_0678) that bears a strong resemblance to cce_0298 (rpaA).Both genes are similar to Ycf27 and Ycf29, chloroplastproteins that are found in all major plant and algal lineagesand that encode similar transcription factors with a HTHDNA binding motif. The exact function of these proteinsis not known, but the parallelism of cce_0678 for photo-synthesis and cce_0298 (rpaA) for nitrogen metabolism is striking. These two regulators may be positively or negatively regulated by similar input signals and work in parallel to favor either photosynthesis or nitrogenfixation.\n",
    "\n",
    "This is another interesting unknown protein. "
   ]
  },
  {
   "cell_type": "markdown",
   "metadata": {},
   "source": [
    "## cce_0678 - rbcS\n",
    "\n",
    "The RuBisCO complex is formed by therbcSandrbcLgeneproducts and plays a central role in carbon fixation, which isclosely linked to photosynthetic processes."
   ]
  },
  {
   "cell_type": "markdown",
   "metadata": {},
   "source": [
    "## cce_0678 - rbcL\n",
    "\n",
    "The RuBisCO complex is formed by therbcSandrbcLgeneproducts and plays a central role in carbon fixation, which isclosely linked to photosynthetic processes."
   ]
  },
  {
   "cell_type": "markdown",
   "metadata": {},
   "source": [
    "# kaiA\n",
    "\n",
    "part of the circadian clock protein complex kaiABC\n",
    "\n",
    "KaiC is both an autokinase and autophosphatase. KaiA shifts the equilibrium towards autokinase."
   ]
  },
  {
   "cell_type": "markdown",
   "metadata": {},
   "source": [
    "## kaiA - cce_2350\n",
    "\n",
    "Putative alpha-helical ferredoxin\n",
    "\n",
    "The alpha-helical ferredoxin domain contains two Fe4-S4 clusters, typical of bacterial ferredoxin. Iron-sulphur proteins play an important role in electron transfer processes and in various enzymatic reactions. \n",
    "\n",
    "No literature evidence found"
   ]
  },
  {
   "cell_type": "markdown",
   "metadata": {},
   "source": [
    "## kaiA - cce_4751\n",
    "\n",
    "Two-component hybrid sensor and regulator\n",
    "\n",
    "phosphorelay sensor kinase activity\n",
    "\n",
    "Catalysis of the phosphorylation of a histidine residue in response to detection of an extracellular signal such as a chemical ligand or change in environment, to initiate a change in cell state or activity. The two-component sensor is a histidine kinase that autophosphorylates a histidine residue in its active site. The phosphate is then transferred to an aspartate residue in a downstream response regulator, to trigger a response.\n",
    "\n",
    "No literature evidence found\n",
    "\n",
    "Another interesting response regulator that interacts with the clock."
   ]
  },
  {
   "cell_type": "markdown",
   "metadata": {},
   "source": [
    "# rpaA\n",
    "\n",
    "Two-component response regulator\n",
    "\n",
    "phosphorelay signal transduction system: A conserved series of molecular signals found in prokaryotes and eukaryotes; involves autophosphorylation of a histidine kinase and the transfer of the phosphate group to an aspartate that then acts as a phospho-donor to response regulator proteins.\n",
    "\n",
    "From Ashby MK1, Mullineaux CW. (https://www.ncbi.nlm.nih.gov/pubmed/10585546)\n",
    "\n",
    "Two open reading frames (slr0115 and slr0947) in the genome of the cyanobacterium Synechocystis sp. PCC 6803 are shown to be involved in the regulation of the coupling of phycobilisomes to photosynthetic reaction centres. Homologues of these genes, called ycf27, have been found in a range of phycobilin-containing organisms. The slr0115 and slr0947 gene products are OmpR-type DNA-binding response regulator proteins. Deletion of slr0115 results in increased efficiency of energy transfer from phycobilisomes to photosystem II relative to photosystem I. Reduction of the copy number of slr0947 has the opposite phenotypic effect. We have given the slr0115 and slr0947 genes the designations rpaA and rpaB respectively.\n",
    "\n",
    "From Naoki Takai, Masato Nakajima, Tokitaka Oyama, Ryotaku Kito, Chieko Sugita, Mamoru Sugita, Takao Kondo, and Hideo Iwasaki (https://www.pnas.org/content/103/32/12109.short)\n",
    "\n",
    "RpaA, a potential DNA-binding protein that acts as a cognate response regulator of the KaiC-interacting kinase SasA, mediates between KaiC phosphorylation and global transcription rhythms. Circadian transcription was severely attenuated in sasA (Synechococcus adaptive sensor A)- and rpaA (regulator of phycobilisome-associated)-mutant cells, and the phosphotransfer activity from SasA to RpaA changed dramatically depending on the circadian state of a coexisting Kai protein complex in vitro.\n",
    "\n",
    "Inactivation of sasA did not affect the growth rate of Synechococcus under various LL conditions,whereas the sasA-disrupted strain grows much slower than the WT or a kaiABC-deficient strain under LD cycles \\[periodic alteration of 12-h light and 12-h darkness (8)\\]. These results suggested an additional role for SasA in adapting the cell’s metabolism specifically to natural light and dark transitions. We examined whether RpaA is also involved in this type of SasA-mediated physiology by comparing the growth phenotypes of the WT,sasA-deficient, andr paA-deficient strains under LL and LDconditions. Both sasA-deficient and rpaA-deficient strains grow as well as the WT strain under LLconditions, whereas they grow much slower than the WT cellsunder LD cycles. These results further support the hypothesisthat SasA and RpaA are bona fide two-component partners,participating in both circadian output regulation and metabolic control.\n",
    "\n",
    "Therefore both sasA and rpaA are potential master regulators of the light dark transition phase.\n",
    "\n",
    "From source 14:\n",
    "\n",
    "We find that circadian gene expression oscillations are absent genome wide in an rpaA mutant, with cells being arrested in a subjective dawn-like transcriptional state. Through chro- matin immunoprecipitation with high-throughput sequencing ChIP-seq) and in vitro DNase I footprint- ing, we show that phosphorylated RpaA binds directly to >100 locations in the genome, including the promoter of kaiBC. Finally, we show that overexpression of a\n",
    "phosphomimetic mutant of RpaA is sufficient to drive cells from the subjective dawn to the subjective dusk gene expression state and also to close the cell division gate, demonstrating that RpaA is the global regulator of circadian output in Synechococcus elongatus PCC7942.\n",
    "\n",
    "Strongly downregulated genes in the rpaA mutant included four sigma factors, two transcription fac- tors, and several genes encoding proteins involved in energy production and metabolism (particularly carbohydrate metabolism). \n",
    "\n",
    "To distinguish between direct and indirect contributions of RpaA to circadian gene expression, we asked whether rescuing the posttranslational oscillator (PTO) in an rpaA mutant background would restore global gene expression oscillations. We rescued the PTO by ectopically expressing kaiBC from the IPTG-inducible Ptrc promoter in a DrpaA DkaiBC background (DrpaA DkaiBC Ptrc::kaiBC) and, as a control, in a DkaiBC background (DkaiBC Ptrc::kaiBC). We refer to these strains as the DrpaA clock rescue and the control clock rescue, respectively. In both strains, we obtained strong KaiC phosphorylation rhythms of similar amplitude in the presence of 6 mM IPTG . Note that ectopic expression of KaiA was not necessary because its levels are not substantially perturbed by deletion of rpaA.\n",
    "\n",
    "We used microarrays to examine global gene expression dynamics in the two rescue strains (Figure 2 and Table S2). In the control clock rescue, circadian gene expression oscillations were restored robustly for both subjective dusk and subjective dawn genes (Figures 2, S2B, and S2C). In contrast, no strong oscillations were observed in either class of genes in the DrpaA clock rescue (Figures 2, S2B, and S2C). We conclude that RpaA is required for the orchestration of robust circadian gene expres- sion by the PTO, ruling out the scenario in which RpaA’s role is limited to supporting oscillator function."
   ]
  },
  {
   "cell_type": "markdown",
   "metadata": {},
   "source": [
    "## rpaA - kaiB3\n",
    "\n",
    "kaiB3 is a circadian clock protein. \n",
    "\n",
    "This interaction has been shown in 7942 as described in source 14 ."
   ]
  },
  {
   "cell_type": "markdown",
   "metadata": {},
   "source": [
    "## rpaA - cce_2642\n",
    "\n",
    "cpmA like protein: cpmA has been previously described as involving in the output pathway of the cyanobacterial circadian clock, regulating the expression rhythm of kaiA and photosynthesis genes psbAI and psbAII\n",
    "\n",
    "This interaction is not seen in 7942."
   ]
  },
  {
   "cell_type": "markdown",
   "metadata": {},
   "source": [
    "## rpaA - cce_3378\n",
    "\n",
    "Two component response regulator\n",
    "\n",
    "No evidence in literature."
   ]
  },
  {
   "cell_type": "markdown",
   "metadata": {},
   "source": [
    "## rpaA - fur1\n",
    "\n",
    "ferric uptake regulation protein\n",
    "\n",
    "No evidence in literature\n"
   ]
  },
  {
   "cell_type": "markdown",
   "metadata": {},
   "source": [
    "## rpaA - sigD\n",
    "\n",
    "NO evidence of this in literature\n"
   ]
  },
  {
   "cell_type": "markdown",
   "metadata": {},
   "source": [
    "## rpaA - ntcA\n",
    "\n",
    "ntcA is a global nitrogen regulator and this is possible"
   ]
  },
  {
   "cell_type": "markdown",
   "metadata": {},
   "source": [
    "## rpaA - cce_4599\n",
    "\n",
    "Putative cytochrome oxidase assembly\n",
    "\n",
    "Not enough evidence in literature"
   ]
  },
  {
   "cell_type": "markdown",
   "metadata": {},
   "source": [
    "## rpaA - glnA\n",
    "\n",
    "Takes part in Amino Acid Biosynthesis pathway\n",
    "\n",
    "Expressed in Day\n",
    "\n",
    "rpaA affects negatively\n",
    "\n",
    "No evidence in literature"
   ]
  },
  {
   "cell_type": "markdown",
   "metadata": {},
   "source": [
    "## rpaA - cce_4412\n",
    "\n",
    "Magnesium-protoporphyrin IX monomethyl ester [oxidative] cyclase\n",
    "\n",
    "Not enough evidence in literature"
   ]
  },
  {
   "cell_type": "markdown",
   "metadata": {},
   "source": [
    "## rpaA - pgk\n",
    "\n",
    "part of glycolysis pathway\n",
    "\n",
    "Not enough evidence in literature\n",
    "\n",
    "## rpaA - psaL1\n",
    "\n",
    "photosystem I reaction centre subunit XI PsaL\n",
    "\n",
    "Not enough evidence in literature\n",
    "\n",
    "## rpaA - cce_3337\n",
    "\n",
    "Putative Glycosyl transferase, group 1\n",
    "\n",
    "possible as there is a glycosyl transferase that is affected in source 14.\n",
    "\n",
    "## rpaA - ho2\n",
    "\n",
    "heme oxygenase\n",
    "\n",
    "Not enough evidence in literature\n",
    "\n",
    "## rpaA - cce_1482\n",
    "\n",
    "uncharacterized protein\n",
    "\n",
    "Not enough evidence in literature\n",
    "\n",
    "## rpaA - cce_1155\n",
    "\n",
    "Peptidase M48, Ste24p\n",
    "\n",
    "possible because there is a peptidase in source 14\n",
    "\n",
    "## rpaA - gdhA\n",
    "\n",
    "Glutamate dehydrogenase\n",
    "\n",
    "possible because there are dehydrogenases in source 14 \n",
    "\n",
    "## rpaA - cce_0589\n",
    "\n",
    "Cytochrome c family protein\n",
    "\n",
    "Not enough evidence in literature\n",
    "\n",
    "## rpaA - cce_0319\n",
    "\n",
    "Putative S-layer OprB family carbohydrate-selective porin\n",
    "\n",
    "Not enough evidence in literature"
   ]
  },
  {
   "cell_type": "markdown",
   "metadata": {},
   "source": [
    "# cce_3298\n",
    "\n",
    "unknown protein However, it interacts with both sigB and ntcA. It is possible that it is involved in the transition phase."
   ]
  },
  {
   "cell_type": "markdown",
   "metadata": {},
   "source": [
    "## cce_3298 - sigB\n",
    "\n",
    "No literature evidence found\n",
    "\n",
    "## cce_3298 - ntcA\n",
    "\n",
    "No literature evidence found"
   ]
  },
  {
   "cell_type": "markdown",
   "metadata": {},
   "source": [
    "# patB\n",
    "\n",
    "From source 2:\n",
    "\n",
    "Both the regression model and CLR-based regulatory networkspredictpatBto inhibit rpaA and ntcA. The regulator ntcA is thought to play a central role in regulation of heterocyst formation in Anabaena in response to nitrogen starvation. Additionally, patB is known to be specifically upregulated late in heterocyst formation in response to nitrogen starvation, is a member of a conserved core set of genes along with nitrogenase, and is thought to be sensitive to redoxstate. Finally, rpaA is a member of a two-component system involving the sasA gene product that is closely coupled to the  KaiABC  circadian  oscillatory  system  and  regulates functions involved in energy transfer from photosystem tothe phycobilisome. Therefore, it appears that there may be a feedback loop between patB and ntcA, which seem to play opposing roles in Cyanothece51142."
   ]
  },
  {
   "cell_type": "markdown",
   "metadata": {},
   "source": [
    "## patB - rpaA\n",
    "\n",
    "Interaction in source 2 is possible if patB actually plays a role in nitrogen fixation which is evident in Anabaena sp. Strain PCC 7120 where a patB deletion mutant suffers an almost complete cessation of growth and nitrogen fixation within 24 h of combined nitrogen removal as demonstrated by Kathryn M. Jones et. al. (https://www.ncbi.nlm.nih.gov/pmc/articles/PMC151484/)."
   ]
  },
  {
   "cell_type": "markdown",
   "metadata": {},
   "source": [
    "## patB - ntcA\n",
    "\n",
    "possible as given above"
   ]
  },
  {
   "cell_type": "markdown",
   "metadata": {},
   "source": [
    "## patB - ntcA\n",
    "\n",
    "possible as given above"
   ]
  },
  {
   "cell_type": "markdown",
   "metadata": {},
   "source": [
    "## patB - nifH\n",
    "\n",
    "possible as given above"
   ]
  },
  {
   "cell_type": "markdown",
   "metadata": {},
   "source": [
    "## patB - nifD\n",
    "\n",
    "possible as given above"
   ]
  },
  {
   "cell_type": "markdown",
   "metadata": {},
   "source": [
    "## patB - nifK\n",
    "\n",
    "possible as given above"
   ]
  },
  {
   "cell_type": "markdown",
   "metadata": {},
   "source": [
    "# sasA\n",
    "\n",
    "is predicted to form a 2 component regulator with rpaA. "
   ]
  },
  {
   "cell_type": "markdown",
   "metadata": {},
   "source": [
    "## sasA - kaiC2\n",
    "\n",
    "opposite interaction is seen in 7942."
   ]
  },
  {
   "cell_type": "markdown",
   "metadata": {},
   "source": [
    "# KaiC2\n",
    "\n",
    "predicted to be the primary clock protein by source 1."
   ]
  },
  {
   "cell_type": "markdown",
   "metadata": {},
   "source": [
    "## KaiC2 - KaiA\n",
    "\n",
    "Is possible as in 7942"
   ]
  },
  {
   "cell_type": "markdown",
   "metadata": {},
   "source": [
    "## KaiC2 - KaiC1\n",
    "\n",
    "not enough literature evidence. "
   ]
  },
  {
   "cell_type": "markdown",
   "metadata": {},
   "source": [
    "## KaiC2 - rpaA\n",
    "\n",
    "Is possible as in 7942 "
   ]
  },
  {
   "cell_type": "markdown",
   "metadata": {},
   "source": [
    "# cce_1520\n",
    "\n",
    "Two-component response regulator\n",
    "\n",
    "Not enough information to say anything about the edges "
   ]
  },
  {
   "cell_type": "markdown",
   "metadata": {},
   "source": [
    "## cce_1520 - chlH1\n",
    "\n",
    "From interpro:\n",
    "\n",
    "This entry represents the H subunit of the magnesium chelatase complex responsible for magnesium insertion into the protoporphyrin IX ring in the biosynthesis of both chlorophyll and bacteriochlorophyll. In chlorophyll-utilizing species, this gene is known as ChlH, while in bacteriochlorophyll-utilizing spoecies it is called BchH. Subunit H is the largest (~140kDa) of the three subunits (the others being BchD/ChlD and BchI/ChlI), and is known to bind protoporphyrin IX. Subunit H is homologous to the CobN subunit of cobaltochelatase and by anology with that enzyme, subunit H is believed to also bind the magnesium ion which is inserted into the ring. In conjunction with the hydrolysis of ATP by subunits I and D, a conformation change is believed to happen in subunit H causing the magnesium ion insertion into the distorted protoporphyrin ring.\n",
    "\n",
    "Not enough literature.\n",
    "\n",
    "## cce_1520 - cce_3337\n",
    "\n",
    "Putative Glycosyl transferase, group 1\n",
    "\n",
    "Catalysis of the transfer of a group, e.g. a methyl group, glycosyl group, acyl group, phosphorus-containing, or other groups, from one compound (generally regarded as the donor) to another compound (generally regarded as the acceptor). Transferase is the systematic name for any enzyme of EC class 2. \n",
    "\n",
    "Not enough literature\n",
    "\n",
    "## cce_1520 - icd\n",
    "\n",
    "Isocitrate dehydrogenase [NADP]\n",
    "\n",
    "not enough literature\n",
    "\n",
    "## cce_1520 - cce_0042\n",
    "\n",
    "D,D-heptose 1,7-bisphosphate phosphatase\n",
    "\n",
    "Not enough evidence in literature"
   ]
  },
  {
   "cell_type": "markdown",
   "metadata": {},
   "source": [
    "# Sig J\n",
    "\n",
    "From source 7: \n",
    "\n",
    "PCC 7120 SigJ is a key regulator of desiccation tolerance and regulates the synthesis of  extracellular  polysaccharide.  Accommodating  dehydration  is  important  for  cell  survival,  since  drying  causes  cell  lysis  and  damage  to  nucleic  acids,  proteins,  and  membranes."
   ]
  },
  {
   "cell_type": "markdown",
   "metadata": {},
   "source": [
    "## sigJ - cysC\n",
    "\n",
    "Adenylyl-sulfate kinase\n",
    "\n",
    "Catalyzes the synthesis of activated sulfate.\n",
    "\n",
    "This subpathway is part of the pathway hydrogen sulfide biosynthesis, which is itself part of Sulfur metabolism.\n",
    "\n",
    "No lit evidence.\n",
    "\n",
    "## sigJ - nirA\n",
    "\n",
    "Ferredoxin-nitrite reductase\n",
    "\n",
    "Iron-sulfur binding\n",
    "\n",
    "No lit evidence."
   ]
  }
 ],
 "metadata": {
  "kernelspec": {
   "display_name": "Python 3",
   "language": "python",
   "name": "python3"
  },
  "language_info": {
   "codemirror_mode": {
    "name": "ipython",
    "version": 3
   },
   "file_extension": ".py",
   "mimetype": "text/x-python",
   "name": "python",
   "nbconvert_exporter": "python",
   "pygments_lexer": "ipython3",
   "version": "3.7.4"
  }
 },
 "nbformat": 4,
 "nbformat_minor": 2
}
