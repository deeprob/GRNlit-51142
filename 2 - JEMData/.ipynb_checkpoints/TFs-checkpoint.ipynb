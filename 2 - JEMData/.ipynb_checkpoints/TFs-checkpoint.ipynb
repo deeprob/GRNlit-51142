{
 "cells": [
  {
   "cell_type": "markdown",
   "metadata": {},
   "source": [
    "# Gathered all the identified regulators in cyanothece 51142\n",
    "Source: \n",
    "\n",
    "2. A model of cyclic transcriptomic behavior in the cyanobacterium Cyanothece sp. ATCC 51142†\n",
    "\n",
    "Jason E. McDermott,*a Christopher S. Oehmen,a Lee Ann McCue,a Eric Hill,b Daniel M. Choi,a Jana Stöckel,c Michelle Liberton,c Himadri B. Pakrasic and Louis A. Shermand\n",
    "\n",
    "https://pubs.rsc.org/en/content/articlelanding/2011/MB/c1mb05006k#!divAbstract"
   ]
  },
  {
   "cell_type": "code",
   "execution_count": 1,
   "metadata": {},
   "outputs": [],
   "source": [
    "import tabula"
   ]
  },
  {
   "cell_type": "code",
   "execution_count": 2,
   "metadata": {},
   "outputs": [],
   "source": [
    "import numpy as np\n",
    "import pandas as pd"
   ]
  },
  {
   "cell_type": "code",
   "execution_count": 3,
   "metadata": {},
   "outputs": [],
   "source": [
    "df = tabula.read_pdf(\"c1mb05006k.pdf\", pages=['10','11','12','13'])"
   ]
  },
  {
   "cell_type": "code",
   "execution_count": 4,
   "metadata": {},
   "outputs": [],
   "source": [
    "df.fillna(\"unknown\",inplace=True)"
   ]
  },
  {
   "cell_type": "markdown",
   "metadata": {},
   "source": [
    "add a separate column called TF/TG to all the factors in df"
   ]
  },
  {
   "cell_type": "code",
   "execution_count": 5,
   "metadata": {},
   "outputs": [],
   "source": [
    "df['TFTG'] = [dict() for i in range(len(df))] "
   ]
  },
  {
   "cell_type": "code",
   "execution_count": 6,
   "metadata": {},
   "outputs": [
    {
     "data": {
      "text/html": [
       "<div>\n",
       "<style scoped>\n",
       "    .dataframe tbody tr th:only-of-type {\n",
       "        vertical-align: middle;\n",
       "    }\n",
       "\n",
       "    .dataframe tbody tr th {\n",
       "        vertical-align: top;\n",
       "    }\n",
       "\n",
       "    .dataframe thead th {\n",
       "        text-align: right;\n",
       "    }\n",
       "</style>\n",
       "<table border=\"1\" class=\"dataframe\">\n",
       "  <thead>\n",
       "    <tr style=\"text-align: right;\">\n",
       "      <th></th>\n",
       "      <th>ORF</th>\n",
       "      <th>Name</th>\n",
       "      <th>Description</th>\n",
       "      <th>Cyclicity</th>\n",
       "      <th>TFTG</th>\n",
       "    </tr>\n",
       "  </thead>\n",
       "  <tbody>\n",
       "    <tr>\n",
       "      <td>0</td>\n",
       "      <td>cce_0012</td>\n",
       "      <td>unknown</td>\n",
       "      <td>unknown</td>\n",
       "      <td>unknown</td>\n",
       "      <td>{}</td>\n",
       "    </tr>\n",
       "    <tr>\n",
       "      <td>1</td>\n",
       "      <td>cce_0115</td>\n",
       "      <td>cce_0115</td>\n",
       "      <td>response regulator</td>\n",
       "      <td>acyclic</td>\n",
       "      <td>{}</td>\n",
       "    </tr>\n",
       "    <tr>\n",
       "      <td>2</td>\n",
       "      <td>cce_0145</td>\n",
       "      <td>kaiB4</td>\n",
       "      <td>putative circadian clock protein; KaiB4</td>\n",
       "      <td>acyclic</td>\n",
       "      <td>{}</td>\n",
       "    </tr>\n",
       "    <tr>\n",
       "      <td>3</td>\n",
       "      <td>cce_0165</td>\n",
       "      <td>cce_0165</td>\n",
       "      <td>two-component response regulator</td>\n",
       "      <td>acyclic</td>\n",
       "      <td>{}</td>\n",
       "    </tr>\n",
       "    <tr>\n",
       "      <td>4</td>\n",
       "      <td>unknown</td>\n",
       "      <td>unknown</td>\n",
       "      <td>LysR family transcriptional regulatory protein,</td>\n",
       "      <td>unknown</td>\n",
       "      <td>{}</td>\n",
       "    </tr>\n",
       "  </tbody>\n",
       "</table>\n",
       "</div>"
      ],
      "text/plain": [
       "        ORF      Name                                      Description  \\\n",
       "0  cce_0012   unknown                                          unknown   \n",
       "1  cce_0115  cce_0115                               response regulator   \n",
       "2  cce_0145     kaiB4          putative circadian clock protein; KaiB4   \n",
       "3  cce_0165  cce_0165                 two-component response regulator   \n",
       "4   unknown   unknown  LysR family transcriptional regulatory protein,   \n",
       "\n",
       "  Cyclicity TFTG  \n",
       "0   unknown   {}  \n",
       "1   acyclic   {}  \n",
       "2   acyclic   {}  \n",
       "3   acyclic   {}  \n",
       "4   unknown   {}  "
      ]
     },
     "execution_count": 6,
     "metadata": {},
     "output_type": "execute_result"
    }
   ],
   "source": [
    "df.head()"
   ]
  },
  {
   "cell_type": "markdown",
   "metadata": {},
   "source": [
    "# From the 6 papers, include the interactions  "
   ]
  },
  {
   "cell_type": "markdown",
   "metadata": {},
   "source": [
    " The number -1 is inhibitor, +1 is activator and 0 is an unknown interaction."
   ]
  },
  {
   "cell_type": "markdown",
   "metadata": {},
   "source": [
    "1. A model of the circadian clock in the cyanobacterium Cyanothece sp. ATCC 51142\n",
    "\n",
    "Nguyen Xuan Vinh, Madhu Chetty, Ross Coppel, Sandeep Gaudana & Pramod P Wangikar\n",
    "\n",
    "https://bmcbioinformatics.biomedcentral.com/articles/10.1186/1471-2105-14-S2-S14\n"
   ]
  },
  {
   "cell_type": "code",
   "execution_count": 50,
   "metadata": {},
   "outputs": [],
   "source": [
    "# include the clock mechanism\n",
    "# only included the interaction with valid images or files \n",
    "df.loc[df.ORF == 'cce_0424', 'TFTG'].values[0].update({'1': {'cce_2350':1,'cce_4751':1}})\n",
    "df.loc[df.ORF == 'cce_0423', 'TFTG'].values[0].update({'1':{'cce_0145':1}})\n",
    "df.loc[df.ORF == 'cce_0435', 'TFTG'].values[0].update({'1':{'cce_0423':1,'cce_1751':1}})\n",
    "df.loc[df.ORF == 'cce_4716', 'TFTG'].values[0].update({'1':{'cce_0424':1,'cce_0422':1,'cce_3317':1,'cce_0298':1}})\n",
    "df.loc[df.ORF == 'cce_0298', 'TFTG'].values[0].update({'1':{'cce_0435':1,'cce_2642':1}})\n",
    "df.loc[df.ORF == 'cce_1751', 'TFTG'].values[0].update({'1':{'cce_4716':1}})"
   ]
  },
  {
   "cell_type": "markdown",
   "metadata": {},
   "source": [
    "2. A model of cyclic transcriptomic behavior in the cyanobacterium Cyanothece sp. ATCC 51142†\n",
    "\n",
    "Jason E. McDermott,*a Christopher S. Oehmen,a Lee Ann McCue,a Eric Hill,b Daniel M. Choi,a Jana Stöckel,c Michelle Liberton,c Himadri B. Pakrasic and Louis A. Shermand\n",
    "\n",
    "https://pubs.rsc.org/en/content/articlelanding/2011/MB/c1mb05006k#!divAbstract"
   ]
  },
  {
   "cell_type": "code",
   "execution_count": 176,
   "metadata": {},
   "outputs": [],
   "source": [
    "# inferring multiple things from 2 methods, have taken the common ones among them\n",
    "df.loc[df.ORF == 'cce_0298', 'TFTG'].values[0].update({'2': {'cce_3378':1,'cce_2330':1,'cce_3594':1,'cce_0461':1}})\n",
    "df.loc[df.ORF == 'cce_1898', 'TFTG'].values[0].update({'2': {'cce_0298':-1,'cce_0461':-1,'cce_0559':1,'cce_0560':1,'cce_0561':1}})\n",
    "df.loc[df.ORF == 'cce_0644', 'TFTG'].values[0].update({'2': {'cce_0461':1}})\n",
    "df.loc[df.ORF == 'cce_3298', 'TFTG'].values[0].update({'2': {'cce_0644':1,'cce_0461':1}})\n",
    "df.loc[df.ORF == 'cce_4141', 'TFTG'].values[0].update({'2': {'cce_3298':1}})"
   ]
  },
  {
   "cell_type": "markdown",
   "metadata": {},
   "source": [
    "3. Identifying Regulatory Changes to Facilitate Nitrogen Fixation in the Nondiazotroph Synechocystis sp. PCC 6803\n",
    "\n",
    "Thomas J. Mueller†Eric A. Welsh‡Himadri B. Pakrasi§∥Costas D. Maranas*†\n",
    "\n",
    "https://pubs.acs.org/doi/full/10.1021/acssynbio."
   ]
  },
  {
   "cell_type": "code",
   "execution_count": null,
   "metadata": {},
   "outputs": [],
   "source": [
    "# only considering those interactions between 1 gene 1 tf cluster \n",
    "df.loc[df.ORF == 'cce_0298', 'TFTG'].values[0].update({'5': {'cce_3378':1,'cce_2330':1,'cce_3594':1,'cce_0461':1}})\n",
    "df.loc[df.ORF == 'cce_1898', 'TFTG'].values[0].update({'5': {'cce_0298':-1,'cce_0461':-1,'cce_0559':1,'cce_0560':1,'cce_0561':1}})\n",
    "df.loc[df.ORF == 'cce_0644', 'TFTG'].values[0].update({'5': {'cce_0461':1}})\n",
    "df.loc[df.ORF == 'cce_3298', 'TFTG'].values[0].update({'5': {'cce_0644':1,'cce_0461':1}})\n",
    "df.loc[df.ORF == 'cce_4141', 'TFTG'].values[0].update({'5': {'cce_3298':1}})"
   ]
  },
  {
   "cell_type": "code",
   "execution_count": 177,
   "metadata": {},
   "outputs": [
    {
     "data": {
      "text/html": [
       "<div>\n",
       "<style scoped>\n",
       "    .dataframe tbody tr th:only-of-type {\n",
       "        vertical-align: middle;\n",
       "    }\n",
       "\n",
       "    .dataframe tbody tr th {\n",
       "        vertical-align: top;\n",
       "    }\n",
       "\n",
       "    .dataframe thead th {\n",
       "        text-align: right;\n",
       "    }\n",
       "</style>\n",
       "<table border=\"1\" class=\"dataframe\">\n",
       "  <thead>\n",
       "    <tr style=\"text-align: right;\">\n",
       "      <th></th>\n",
       "      <th>ORF</th>\n",
       "      <th>Name</th>\n",
       "      <th>Description</th>\n",
       "      <th>Cyclicity</th>\n",
       "      <th>TFTG</th>\n",
       "    </tr>\n",
       "  </thead>\n",
       "  <tbody>\n",
       "    <tr>\n",
       "      <td>138</td>\n",
       "      <td>cce_4141</td>\n",
       "      <td>cce_4141</td>\n",
       "      <td>conserved hypothetical protein</td>\n",
       "      <td>diurnal</td>\n",
       "      <td>{'2': {'cce_3298': 1}}</td>\n",
       "    </tr>\n",
       "  </tbody>\n",
       "</table>\n",
       "</div>"
      ],
      "text/plain": [
       "          ORF      Name                     Description Cyclicity  \\\n",
       "138  cce_4141  cce_4141  conserved hypothetical protein   diurnal   \n",
       "\n",
       "                       TFTG  \n",
       "138  {'2': {'cce_3298': 1}}  "
      ]
     },
     "execution_count": 177,
     "metadata": {},
     "output_type": "execute_result"
    }
   ],
   "source": [
    "df[df['ORF']=='cce_4141']"
   ]
  },
  {
   "cell_type": "code",
   "execution_count": 191,
   "metadata": {},
   "outputs": [
    {
     "data": {
      "text/html": [
       "<div>\n",
       "<style scoped>\n",
       "    .dataframe tbody tr th:only-of-type {\n",
       "        vertical-align: middle;\n",
       "    }\n",
       "\n",
       "    .dataframe tbody tr th {\n",
       "        vertical-align: top;\n",
       "    }\n",
       "\n",
       "    .dataframe thead th {\n",
       "        text-align: right;\n",
       "    }\n",
       "</style>\n",
       "<table border=\"1\" class=\"dataframe\">\n",
       "  <thead>\n",
       "    <tr style=\"text-align: right;\">\n",
       "      <th></th>\n",
       "      <th>ORF</th>\n",
       "      <th>Name</th>\n",
       "      <th>Description</th>\n",
       "      <th>Cyclicity</th>\n",
       "      <th>TFTG</th>\n",
       "    </tr>\n",
       "  </thead>\n",
       "  <tbody>\n",
       "    <tr>\n",
       "      <td>82</td>\n",
       "      <td>cce_2330</td>\n",
       "      <td>fur1</td>\n",
       "      <td>ferric uptake regulation protein; Fur1</td>\n",
       "      <td>diurnal</td>\n",
       "      <td>{}</td>\n",
       "    </tr>\n",
       "  </tbody>\n",
       "</table>\n",
       "</div>"
      ],
      "text/plain": [
       "         ORF  Name                             Description Cyclicity TFTG\n",
       "82  cce_2330  fur1  ferric uptake regulation protein; Fur1   diurnal   {}"
      ]
     },
     "execution_count": 191,
     "metadata": {},
     "output_type": "execute_result"
    }
   ],
   "source": [
    "df[df['Name']=='fur1']"
   ]
  },
  {
   "cell_type": "code",
   "execution_count": 179,
   "metadata": {},
   "outputs": [],
   "source": [
    "df.loc[df.ORF == 'cce_3594', 'TFTG'].values[0].update()"
   ]
  },
  {
   "cell_type": "markdown",
   "metadata": {},
   "source": [
    "# Visualize the network "
   ]
  },
  {
   "cell_type": "code",
   "execution_count": 180,
   "metadata": {},
   "outputs": [],
   "source": [
    "# select those ORFs without an empty dictionary\n",
    "\n",
    "interdf = df.loc[df.TFTG!=dict()]"
   ]
  },
  {
   "cell_type": "code",
   "execution_count": 181,
   "metadata": {},
   "outputs": [
    {
     "data": {
      "text/html": [
       "<div>\n",
       "<style scoped>\n",
       "    .dataframe tbody tr th:only-of-type {\n",
       "        vertical-align: middle;\n",
       "    }\n",
       "\n",
       "    .dataframe tbody tr th {\n",
       "        vertical-align: top;\n",
       "    }\n",
       "\n",
       "    .dataframe thead th {\n",
       "        text-align: right;\n",
       "    }\n",
       "</style>\n",
       "<table border=\"1\" class=\"dataframe\">\n",
       "  <thead>\n",
       "    <tr style=\"text-align: right;\">\n",
       "      <th></th>\n",
       "      <th>ORF</th>\n",
       "      <th>Name</th>\n",
       "      <th>Description</th>\n",
       "      <th>Cyclicity</th>\n",
       "      <th>TFTG</th>\n",
       "    </tr>\n",
       "  </thead>\n",
       "  <tbody>\n",
       "    <tr>\n",
       "      <td>7</td>\n",
       "      <td>cce_0298</td>\n",
       "      <td>rpaA</td>\n",
       "      <td>two-component response regulator; RpaA</td>\n",
       "      <td>diurnal</td>\n",
       "      <td>{'1': {'cce_0435': 1, 'cce_2642': 1}, '2': {'c...</td>\n",
       "    </tr>\n",
       "    <tr>\n",
       "      <td>13</td>\n",
       "      <td>cce_0423</td>\n",
       "      <td>kaiB1</td>\n",
       "      <td>circadian clock protein; KaiB1</td>\n",
       "      <td>diurnal</td>\n",
       "      <td>{'1': {'cce_0145': 1}}</td>\n",
       "    </tr>\n",
       "    <tr>\n",
       "      <td>14</td>\n",
       "      <td>cce_0424</td>\n",
       "      <td>kaiA</td>\n",
       "      <td>circadian clock protein; KaiA</td>\n",
       "      <td>diurnal</td>\n",
       "      <td>{'1': {'cce_2350': 1, 'cce_4751': 1}}</td>\n",
       "    </tr>\n",
       "    <tr>\n",
       "      <td>15</td>\n",
       "      <td>cce_0435</td>\n",
       "      <td>kaiB3</td>\n",
       "      <td>circadian clock protein; KaiB3</td>\n",
       "      <td>circadian</td>\n",
       "      <td>{'1': {'cce_0423': 1, 'cce_1751': 1}}</td>\n",
       "    </tr>\n",
       "    <tr>\n",
       "      <td>26</td>\n",
       "      <td>cce_0644</td>\n",
       "      <td>sigB</td>\n",
       "      <td>RNA polymerase sigma factor; SigB</td>\n",
       "      <td>diurnal</td>\n",
       "      <td>{'2': {'cce_0461': 1}}</td>\n",
       "    </tr>\n",
       "    <tr>\n",
       "      <td>62</td>\n",
       "      <td>cce_1751</td>\n",
       "      <td>sasA</td>\n",
       "      <td>adaptive-response sensory histidine kinase; SasA</td>\n",
       "      <td>diurnal</td>\n",
       "      <td>{'1': {'cce_4716': 1}}</td>\n",
       "    </tr>\n",
       "    <tr>\n",
       "      <td>75</td>\n",
       "      <td>cce_1898</td>\n",
       "      <td>patB</td>\n",
       "      <td>probable transcriptional regulator; PatB</td>\n",
       "      <td>circadian</td>\n",
       "      <td>{'2': {'cce_0298': -1, 'cce_0461': -1, 'cce_05...</td>\n",
       "    </tr>\n",
       "    <tr>\n",
       "      <td>108</td>\n",
       "      <td>cce_3298</td>\n",
       "      <td>cce_3298</td>\n",
       "      <td>conserved unknown protein</td>\n",
       "      <td>circadian</td>\n",
       "      <td>{'2': {'cce_0644': 1, 'cce_0461': 1}}</td>\n",
       "    </tr>\n",
       "    <tr>\n",
       "      <td>138</td>\n",
       "      <td>cce_4141</td>\n",
       "      <td>cce_4141</td>\n",
       "      <td>conserved hypothetical protein</td>\n",
       "      <td>diurnal</td>\n",
       "      <td>{'2': {'cce_3298': 1}}</td>\n",
       "    </tr>\n",
       "    <tr>\n",
       "      <td>162</td>\n",
       "      <td>cce_4716</td>\n",
       "      <td>kaiC2</td>\n",
       "      <td>circadian clock protein; KaiC2</td>\n",
       "      <td>acyclic</td>\n",
       "      <td>{'1': {'cce_0424': 1, 'cce_0422': 1, 'cce_3317...</td>\n",
       "    </tr>\n",
       "  </tbody>\n",
       "</table>\n",
       "</div>"
      ],
      "text/plain": [
       "          ORF      Name                                       Description  \\\n",
       "7    cce_0298      rpaA            two-component response regulator; RpaA   \n",
       "13   cce_0423     kaiB1                    circadian clock protein; KaiB1   \n",
       "14   cce_0424      kaiA                     circadian clock protein; KaiA   \n",
       "15   cce_0435     kaiB3                    circadian clock protein; KaiB3   \n",
       "26   cce_0644      sigB                 RNA polymerase sigma factor; SigB   \n",
       "62   cce_1751      sasA  adaptive-response sensory histidine kinase; SasA   \n",
       "75   cce_1898      patB          probable transcriptional regulator; PatB   \n",
       "108  cce_3298  cce_3298                         conserved unknown protein   \n",
       "138  cce_4141  cce_4141                    conserved hypothetical protein   \n",
       "162  cce_4716     kaiC2                    circadian clock protein; KaiC2   \n",
       "\n",
       "     Cyclicity                                               TFTG  \n",
       "7      diurnal  {'1': {'cce_0435': 1, 'cce_2642': 1}, '2': {'c...  \n",
       "13     diurnal                             {'1': {'cce_0145': 1}}  \n",
       "14     diurnal              {'1': {'cce_2350': 1, 'cce_4751': 1}}  \n",
       "15   circadian              {'1': {'cce_0423': 1, 'cce_1751': 1}}  \n",
       "26     diurnal                             {'2': {'cce_0461': 1}}  \n",
       "62     diurnal                             {'1': {'cce_4716': 1}}  \n",
       "75   circadian  {'2': {'cce_0298': -1, 'cce_0461': -1, 'cce_05...  \n",
       "108  circadian              {'2': {'cce_0644': 1, 'cce_0461': 1}}  \n",
       "138    diurnal                             {'2': {'cce_3298': 1}}  \n",
       "162    acyclic  {'1': {'cce_0424': 1, 'cce_0422': 1, 'cce_3317...  "
      ]
     },
     "execution_count": 181,
     "metadata": {},
     "output_type": "execute_result"
    }
   ],
   "source": [
    "interdf"
   ]
  },
  {
   "cell_type": "code",
   "execution_count": 182,
   "metadata": {},
   "outputs": [
    {
     "data": {
      "text/plain": [
       "7    {'1': {'cce_0435': 1, 'cce_2642': 1}, '2': {'c...\n",
       "Name: TFTG, dtype: object"
      ]
     },
     "execution_count": 182,
     "metadata": {},
     "output_type": "execute_result"
    }
   ],
   "source": [
    "interdf.loc[interdf['ORF']=='cce_0298','TFTG']"
   ]
  },
  {
   "cell_type": "code",
   "execution_count": 183,
   "metadata": {},
   "outputs": [],
   "source": [
    "# collect all set of names that are either tf or tg\n",
    "allnodes = set()\n",
    "for tf in interdf.loc[:,'ORF']:\n",
    "    #print(tf)\n",
    "    allnodes.add(tf)\n",
    "    for source,interdict in interdf.loc[interdf['ORF']==tf,'TFTG'].values[0].items():\n",
    "        #print(source)\n",
    "        #print(interdict)\n",
    "        allnodes.update(interdict.keys())"
   ]
  },
  {
   "cell_type": "code",
   "execution_count": 184,
   "metadata": {
    "scrolled": true
   },
   "outputs": [
    {
     "data": {
      "text/plain": [
       "{'cce_0145',\n",
       " 'cce_0298',\n",
       " 'cce_0422',\n",
       " 'cce_0423',\n",
       " 'cce_0424',\n",
       " 'cce_0435',\n",
       " 'cce_0461',\n",
       " 'cce_0559',\n",
       " 'cce_0560',\n",
       " 'cce_0561',\n",
       " 'cce_0644',\n",
       " 'cce_1751',\n",
       " 'cce_1898',\n",
       " 'cce_2330',\n",
       " 'cce_2350',\n",
       " 'cce_2642',\n",
       " 'cce_3298',\n",
       " 'cce_3317',\n",
       " 'cce_3378',\n",
       " 'cce_3594',\n",
       " 'cce_4141',\n",
       " 'cce_4716',\n",
       " 'cce_4751'}"
      ]
     },
     "execution_count": 184,
     "metadata": {},
     "output_type": "execute_result"
    }
   ],
   "source": [
    "allnodes"
   ]
  },
  {
   "cell_type": "code",
   "execution_count": 185,
   "metadata": {},
   "outputs": [],
   "source": [
    "alledges = list()\n",
    "\n",
    "for source in interdf.loc[:,'ORF']:\n",
    "    for litsource,interdict in interdf.loc[interdf['ORF']==source,'TFTG'].values[0].items():\n",
    "        #print(source,interdict)\n",
    "        wdict = [{'weight':activ,'source':litsource} for activ in interdict.values()]\n",
    "        #print(list(zip(itertools.cycle([source]),interdict.keys(),wdict)))\n",
    "        alledges.extend(tuple(zip(itertools.cycle([source]),interdict.keys(),wdict)))"
   ]
  },
  {
   "cell_type": "code",
   "execution_count": 186,
   "metadata": {
    "scrolled": true
   },
   "outputs": [
    {
     "data": {
      "text/plain": [
       "[('cce_0298', 'cce_0435', {'weight': 1, 'source': '1'}),\n",
       " ('cce_0298', 'cce_2642', {'weight': 1, 'source': '1'}),\n",
       " ('cce_0298', 'cce_3378', {'weight': 1, 'source': '2'}),\n",
       " ('cce_0298', 'cce_2330', {'weight': 1, 'source': '2'}),\n",
       " ('cce_0298', 'cce_3594', {'weight': 1, 'source': '2'}),\n",
       " ('cce_0298', 'cce_0461', {'weight': 1, 'source': '2'}),\n",
       " ('cce_0423', 'cce_0145', {'weight': 1, 'source': '1'}),\n",
       " ('cce_0424', 'cce_2350', {'weight': 1, 'source': '1'}),\n",
       " ('cce_0424', 'cce_4751', {'weight': 1, 'source': '1'}),\n",
       " ('cce_0435', 'cce_0423', {'weight': 1, 'source': '1'}),\n",
       " ('cce_0435', 'cce_1751', {'weight': 1, 'source': '1'}),\n",
       " ('cce_0644', 'cce_0461', {'weight': 1, 'source': '2'}),\n",
       " ('cce_1751', 'cce_4716', {'weight': 1, 'source': '1'}),\n",
       " ('cce_1898', 'cce_0298', {'weight': -1, 'source': '2'}),\n",
       " ('cce_1898', 'cce_0461', {'weight': -1, 'source': '2'}),\n",
       " ('cce_1898', 'cce_0559', {'weight': 1, 'source': '2'}),\n",
       " ('cce_1898', 'cce_0560', {'weight': 1, 'source': '2'}),\n",
       " ('cce_1898', 'cce_0561', {'weight': 1, 'source': '2'}),\n",
       " ('cce_3298', 'cce_0644', {'weight': 1, 'source': '2'}),\n",
       " ('cce_3298', 'cce_0461', {'weight': 1, 'source': '2'}),\n",
       " ('cce_4141', 'cce_3298', {'weight': 1, 'source': '2'}),\n",
       " ('cce_4716', 'cce_0424', {'weight': 1, 'source': '1'}),\n",
       " ('cce_4716', 'cce_0422', {'weight': 1, 'source': '1'}),\n",
       " ('cce_4716', 'cce_3317', {'weight': 1, 'source': '1'}),\n",
       " ('cce_4716', 'cce_0298', {'weight': 1, 'source': '1'})]"
      ]
     },
     "execution_count": 186,
     "metadata": {},
     "output_type": "execute_result"
    }
   ],
   "source": [
    "alledges"
   ]
  },
  {
   "cell_type": "code",
   "execution_count": 187,
   "metadata": {},
   "outputs": [],
   "source": [
    "import networkx as nx\n",
    "G=nx.DiGraph()\n",
    "G.add_nodes_from(list(allnodes))\n",
    "G.add_edges_from(alledges)"
   ]
  },
  {
   "cell_type": "code",
   "execution_count": 188,
   "metadata": {},
   "outputs": [],
   "source": [
    "try:\n",
    "    import pygraphviz\n",
    "    from networkx.drawing.nx_agraph import graphviz_layout\n",
    "except ImportError:\n",
    "    try:\n",
    "        import pydot\n",
    "        from networkx.drawing.nx_pydot import graphviz_layout\n",
    "    except ImportError:\n",
    "        raise ImportError(\"This example needs Graphviz and either \"\n",
    "                          \"PyGraphviz or pydot\")"
   ]
  },
  {
   "cell_type": "code",
   "execution_count": 189,
   "metadata": {
    "scrolled": false
   },
   "outputs": [
    {
     "data": {
      "image/png": "[encoded data removed]",
      "text/plain": [
       "<Figure size 1728x1440 with 1 Axes>"
      ]
     },
     "metadata": {},
     "output_type": "display_data"
    }
   ],
   "source": [
    "import matplotlib as mpl\n",
    "import matplotlib.pyplot as plt\n",
    "%matplotlib inline\n",
    "\n",
    "plt.figure(figsize=(24,20))\n",
    "\n",
    "elarge = [(u, v) for (u, v, d) in G.edges(data=True) if d['weight'] > 0]\n",
    "esmall = [(u, v) for (u, v, d) in G.edges(data=True) if d['weight'] <= 0]\n",
    "\n",
    "#pos = nx.layout.spring_layout(G)\n",
    "pos = graphviz_layout(G, prog='dot')\n",
    "\n",
    "nx.draw_networkx_nodes(G, pos, with_labels=True, node_size=750, node_color='yellow')\n",
    "\n",
    "nx.draw_networkx_edges(G, pos, edgelist=elarge, width=3, arrows = True, arrowsize = 20,arrowstyle= '->',min_source_margin=5,min_target_margin=5)\n",
    "nx.draw_networkx_edges(G, pos, edgelist=esmall, width=3, arrows = True, edge_color='b', arrowsize = 20,\n",
    "                       arrowstyle= '-[',style = 'dotted',min_source_margin=10,min_target_margin=11)\n",
    "\n",
    "nx.draw_networkx_labels(G, pos, font_size=12)\n",
    "# set alpha value for each edge\n",
    "\n",
    "ax = plt.gca()\n",
    "ax.set_axis_off()\n",
    "plt.savefig('GRN.png')\n",
    "plt.show()"
   ]
  },
  {
   "cell_type": "code",
   "execution_count": null,
   "metadata": {},
   "outputs": [],
   "source": []
  }
 ],
 "metadata": {
  "kernelspec": {
   "display_name": "Python 3",
   "language": "python",
   "name": "python3"
  },
  "language_info": {
   "codemirror_mode": {
    "name": "ipython",
    "version": 3
   },
   "file_extension": ".py",
   "mimetype": "text/x-python",
   "name": "python",
   "nbconvert_exporter": "python",
   "pygments_lexer": "ipython3",
   "version": "3.7.4"
  }
 },
 "nbformat": 4,
 "nbformat_minor": 2
}
