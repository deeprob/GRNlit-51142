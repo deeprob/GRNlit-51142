{
 "cells": [
  {
   "cell_type": "markdown",
   "metadata": {},
   "source": [
    "TRANSCRIPTIONAL ANALYSIS OF THE UNICELLULAR, DIAZOTROPHIC CYANOBACTERIUM CYANOTHECE SP. ATCC 51142 GROWN UNDER SHORT DAY/NIGHT CYCLES\n",
    "\n",
    "https://onlinelibrary.wiley.com/doi/full/10.1111/j.1529-8817.2009.00674.x"
   ]
  }
 ],
 "metadata": {
  "kernelspec": {
   "display_name": "Python 3",
   "language": "python",
   "name": "python3"
  },
  "language_info": {
   "codemirror_mode": {
    "name": "ipython",
    "version": 3
   },
   "file_extension": ".py",
   "mimetype": "text/x-python",
   "name": "python",
   "nbconvert_exporter": "python",
   "pygments_lexer": "ipython3",
   "version": "3.7.4"
  }
 },
 "nbformat": 4,
 "nbformat_minor": 2
}
