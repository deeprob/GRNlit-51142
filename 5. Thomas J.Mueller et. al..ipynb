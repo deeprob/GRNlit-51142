{
 "cells": [
  {
   "cell_type": "markdown",
   "metadata": {},
   "source": [
    "Identifying Regulatory Changes to Facilitate Nitrogen Fixation in the Nondiazotroph Synechocystis sp. PCC 6803\n",
    "\n",
    "https://pubs.acs.org/doi/full/10.1021/acssynbio.5b00202"
   ]
  },
  {
   "cell_type": "markdown",
   "metadata": {},
   "source": [
    "0 or 1 or 2 or 3 denoting negative or positive or feedback or unknown interaction"
   ]
  },
  {
   "cell_type": "code",
   "execution_count": 1,
   "metadata": {},
   "outputs": [],
   "source": [
    "#importing the modules\n",
    "import networkx as nx\n",
    "import matplotlib.pyplot as pl\n"
   ]
  },
  {
   "cell_type": "code",
   "execution_count": 2,
   "metadata": {},
   "outputs": [],
   "source": [
    "G3 = nx.Graph()\n",
    "nodes = ['patB','nif cluster']\n",
    "edges = [('patB','nif cluster',{'weight':3})]\n",
    "\n",
    "G3.add_nodes_from(nodes)\n",
    "G3.add_edges_from(edges)"
   ]
  },
  {
   "cell_type": "code",
   "execution_count": 3,
   "metadata": {
    "scrolled": false
   },
   "outputs": [
    {
     "name": "stderr",
     "output_type": "stream",
     "text": [
      "C:\\Users\\Deepro\\Anaconda3\\lib\\site-packages\\networkx\\drawing\\nx_pylab.py:579: MatplotlibDeprecationWarning: \n",
      "The iterable function was deprecated in Matplotlib 3.1 and will be removed in 3.3. Use np.iterable instead.\n",
      "  if not cb.iterable(width):\n"
     ]
    },
    {
     "data": {
      "image/png": "[encoded data removed]",
      "text/plain": [
       "<Figure size 432x288 with 1 Axes>"
      ]
     },
     "metadata": {},
     "output_type": "display_data"
    }
   ],
   "source": [
    "nx.draw(G3,with_labels=True,node_size=2000)"
   ]
  },
  {
   "cell_type": "code",
   "execution_count": 4,
   "metadata": {},
   "outputs": [],
   "source": [
    "# import the data in pandas \n",
    "import numpy as np\n",
    "import networkx as nx\n",
    "import pandas as pd\n",
    "raw_df = pd.read_excel(\"5-Gene-TF cluster.xlsx\",sheet_name=3).dropna(how=\"all\").reset_index(drop=True)"
   ]
  },
  {
   "cell_type": "markdown",
   "metadata": {},
   "source": [
    "# TF"
   ]
  },
  {
   "cell_type": "code",
   "execution_count": 5,
   "metadata": {},
   "outputs": [
    {
     "data": {
      "text/html": [
       "<div>\n",
       "<style scoped>\n",
       "    .dataframe tbody tr th:only-of-type {\n",
       "        vertical-align: middle;\n",
       "    }\n",
       "\n",
       "    .dataframe tbody tr th {\n",
       "        vertical-align: top;\n",
       "    }\n",
       "\n",
       "    .dataframe thead th {\n",
       "        text-align: right;\n",
       "    }\n",
       "</style>\n",
       "<table border=\"1\" class=\"dataframe\">\n",
       "  <thead>\n",
       "    <tr style=\"text-align: right;\">\n",
       "      <th></th>\n",
       "      <th>Genes</th>\n",
       "      <th>Gene Annotation</th>\n",
       "    </tr>\n",
       "  </thead>\n",
       "  <tbody>\n",
       "    <tr>\n",
       "      <td>0</td>\n",
       "      <td>TF Cluster number: 1</td>\n",
       "      <td>NaN</td>\n",
       "    </tr>\n",
       "    <tr>\n",
       "      <td>1</td>\n",
       "      <td>cce_0115</td>\n",
       "      <td>response regulator</td>\n",
       "    </tr>\n",
       "    <tr>\n",
       "      <td>2</td>\n",
       "      <td>cce_0145</td>\n",
       "      <td>putative circadian clock protein; kaiB4</td>\n",
       "    </tr>\n",
       "    <tr>\n",
       "      <td>3</td>\n",
       "      <td>cce_0452</td>\n",
       "      <td>hypothetical protein containing a transcriptio...</td>\n",
       "    </tr>\n",
       "    <tr>\n",
       "      <td>4</td>\n",
       "      <td>cce_0453</td>\n",
       "      <td>putative transcriptional regulator AbrB</td>\n",
       "    </tr>\n",
       "  </tbody>\n",
       "</table>\n",
       "</div>"
      ],
      "text/plain": [
       "                  Genes                                    Gene Annotation\n",
       "0  TF Cluster number: 1                                                NaN\n",
       "1              cce_0115                                 response regulator\n",
       "2              cce_0145            putative circadian clock protein; kaiB4\n",
       "3              cce_0452  hypothetical protein containing a transcriptio...\n",
       "4              cce_0453            putative transcriptional regulator AbrB"
      ]
     },
     "execution_count": 5,
     "metadata": {},
     "output_type": "execute_result"
    }
   ],
   "source": [
    "raw_df.head()"
   ]
  },
  {
   "cell_type": "code",
   "execution_count": 6,
   "metadata": {},
   "outputs": [],
   "source": [
    "inds = pd.isnull(raw_df).any(1).to_numpy().nonzero()[0]\n",
    "raw_df[raw_df.iloc[0,0][:17]] = 1\n",
    "previdx = inds[0]\n",
    "for idx in range(len(inds[1:])):\n",
    "    nextidx = inds[idx+1]\n",
    "    raw_df.loc[previdx:nextidx+1,'TF Cluster number'] = idx+1\n",
    "    previdx = nextidx+1\n",
    "\n",
    "raw_df.loc[nextidx+1:,'TF Cluster number'] = idx+2\n",
    "df = raw_df.dropna().reset_index(drop=True)"
   ]
  },
  {
   "cell_type": "code",
   "execution_count": 7,
   "metadata": {},
   "outputs": [
    {
     "data": {
      "text/html": [
       "<div>\n",
       "<style scoped>\n",
       "    .dataframe tbody tr th:only-of-type {\n",
       "        vertical-align: middle;\n",
       "    }\n",
       "\n",
       "    .dataframe tbody tr th {\n",
       "        vertical-align: top;\n",
       "    }\n",
       "\n",
       "    .dataframe thead th {\n",
       "        text-align: right;\n",
       "    }\n",
       "</style>\n",
       "<table border=\"1\" class=\"dataframe\">\n",
       "  <thead>\n",
       "    <tr style=\"text-align: right;\">\n",
       "      <th></th>\n",
       "      <th>Genes</th>\n",
       "      <th>Gene Annotation</th>\n",
       "      <th>TF Cluster number</th>\n",
       "    </tr>\n",
       "  </thead>\n",
       "  <tbody>\n",
       "    <tr>\n",
       "      <td>0</td>\n",
       "      <td>cce_0115</td>\n",
       "      <td>response regulator</td>\n",
       "      <td>1</td>\n",
       "    </tr>\n",
       "    <tr>\n",
       "      <td>1</td>\n",
       "      <td>cce_0145</td>\n",
       "      <td>putative circadian clock protein; kaiB4</td>\n",
       "      <td>1</td>\n",
       "    </tr>\n",
       "    <tr>\n",
       "      <td>2</td>\n",
       "      <td>cce_0452</td>\n",
       "      <td>hypothetical protein containing a transcriptio...</td>\n",
       "      <td>1</td>\n",
       "    </tr>\n",
       "    <tr>\n",
       "      <td>3</td>\n",
       "      <td>cce_0453</td>\n",
       "      <td>putative transcriptional regulator AbrB</td>\n",
       "      <td>1</td>\n",
       "    </tr>\n",
       "    <tr>\n",
       "      <td>4</td>\n",
       "      <td>cce_0461</td>\n",
       "      <td>nitrogen-responsive regulatory protein; ntcA</td>\n",
       "      <td>1</td>\n",
       "    </tr>\n",
       "  </tbody>\n",
       "</table>\n",
       "</div>"
      ],
      "text/plain": [
       "      Genes                                    Gene Annotation  \\\n",
       "0  cce_0115                                 response regulator   \n",
       "1  cce_0145            putative circadian clock protein; kaiB4   \n",
       "2  cce_0452  hypothetical protein containing a transcriptio...   \n",
       "3  cce_0453            putative transcriptional regulator AbrB   \n",
       "4  cce_0461       nitrogen-responsive regulatory protein; ntcA   \n",
       "\n",
       "   TF Cluster number  \n",
       "0                  1  \n",
       "1                  1  \n",
       "2                  1  \n",
       "3                  1  \n",
       "4                  1  "
      ]
     },
     "execution_count": 7,
     "metadata": {},
     "output_type": "execute_result"
    }
   ],
   "source": [
    "df.head()"
   ]
  },
  {
   "cell_type": "code",
   "execution_count": 8,
   "metadata": {},
   "outputs": [],
   "source": [
    "def func1(row):\n",
    "    if row['Gene Annotation'].find(';')!=-1:\n",
    "        return row['Gene Annotation'][row['Gene Annotation'].find(';')+1:]\n",
    "    else:\n",
    "        return row['Genes']\n",
    "df['Source'] = df.apply(func1,axis=1)\n",
    "TF = df.dropna().reset_index(drop=True)\n",
    "\n",
    "grouped_TF = TF.groupby('TF Cluster number')\n",
    "\n",
    "for key in grouped_TF.groups.keys():\n",
    "    Cluster = grouped_TF.get_group(key)\n",
    "    Cluster.to_excel(f'5 - TJMDAta/TF_Cluster_{key}.xlsx',columns=['Source'])"
   ]
  },
  {
   "cell_type": "code",
   "execution_count": 9,
   "metadata": {},
   "outputs": [
    {
     "data": {
      "text/html": [
       "<div>\n",
       "<style scoped>\n",
       "    .dataframe tbody tr th:only-of-type {\n",
       "        vertical-align: middle;\n",
       "    }\n",
       "\n",
       "    .dataframe tbody tr th {\n",
       "        vertical-align: top;\n",
       "    }\n",
       "\n",
       "    .dataframe thead th {\n",
       "        text-align: right;\n",
       "    }\n",
       "</style>\n",
       "<table border=\"1\" class=\"dataframe\">\n",
       "  <thead>\n",
       "    <tr style=\"text-align: right;\">\n",
       "      <th></th>\n",
       "      <th>Genes</th>\n",
       "      <th>Gene Annotation</th>\n",
       "      <th>TF Cluster number</th>\n",
       "      <th>Source</th>\n",
       "    </tr>\n",
       "  </thead>\n",
       "  <tbody>\n",
       "    <tr>\n",
       "      <td>0</td>\n",
       "      <td>cce_0115</td>\n",
       "      <td>response regulator</td>\n",
       "      <td>1</td>\n",
       "      <td>cce_0115</td>\n",
       "    </tr>\n",
       "    <tr>\n",
       "      <td>1</td>\n",
       "      <td>cce_0145</td>\n",
       "      <td>putative circadian clock protein; kaiB4</td>\n",
       "      <td>1</td>\n",
       "      <td>kaiB4</td>\n",
       "    </tr>\n",
       "    <tr>\n",
       "      <td>2</td>\n",
       "      <td>cce_0452</td>\n",
       "      <td>hypothetical protein containing a transcriptio...</td>\n",
       "      <td>1</td>\n",
       "      <td>cce_0452</td>\n",
       "    </tr>\n",
       "    <tr>\n",
       "      <td>3</td>\n",
       "      <td>cce_0453</td>\n",
       "      <td>putative transcriptional regulator AbrB</td>\n",
       "      <td>1</td>\n",
       "      <td>cce_0453</td>\n",
       "    </tr>\n",
       "    <tr>\n",
       "      <td>4</td>\n",
       "      <td>cce_0461</td>\n",
       "      <td>nitrogen-responsive regulatory protein; ntcA</td>\n",
       "      <td>1</td>\n",
       "      <td>ntcA</td>\n",
       "    </tr>\n",
       "  </tbody>\n",
       "</table>\n",
       "</div>"
      ],
      "text/plain": [
       "      Genes                                    Gene Annotation  \\\n",
       "0  cce_0115                                 response regulator   \n",
       "1  cce_0145            putative circadian clock protein; kaiB4   \n",
       "2  cce_0452  hypothetical protein containing a transcriptio...   \n",
       "3  cce_0453            putative transcriptional regulator AbrB   \n",
       "4  cce_0461       nitrogen-responsive regulatory protein; ntcA   \n",
       "\n",
       "   TF Cluster number    Source  \n",
       "0                  1  cce_0115  \n",
       "1                  1     kaiB4  \n",
       "2                  1  cce_0452  \n",
       "3                  1  cce_0453  \n",
       "4                  1      ntcA  "
      ]
     },
     "execution_count": 9,
     "metadata": {},
     "output_type": "execute_result"
    }
   ],
   "source": [
    "TF.head()"
   ]
  },
  {
   "cell_type": "code",
   "execution_count": 10,
   "metadata": {},
   "outputs": [
    {
     "data": {
      "text/plain": [
       "dict_keys([1, 2, 3, 4, 5, 6, 7, 8, 9, 10, 11, 12, 13, 14, 15, 16])"
      ]
     },
     "execution_count": 10,
     "metadata": {},
     "output_type": "execute_result"
    }
   ],
   "source": [
    "grouped_TF.groups.keys()"
   ]
  },
  {
   "cell_type": "code",
   "execution_count": 11,
   "metadata": {},
   "outputs": [],
   "source": [
    "tf1group = [key for key in grouped_TF.groups.keys() if len(grouped_TF.get_group(key))==1]"
   ]
  },
  {
   "cell_type": "code",
   "execution_count": 12,
   "metadata": {},
   "outputs": [
    {
     "data": {
      "text/plain": [
       "[6, 7, 8, 9, 10, 11, 12, 13, 14, 15, 16]"
      ]
     },
     "execution_count": 12,
     "metadata": {},
     "output_type": "execute_result"
    }
   ],
   "source": [
    "tf1group"
   ]
  },
  {
   "cell_type": "markdown",
   "metadata": {},
   "source": [
    "# TG"
   ]
  },
  {
   "cell_type": "code",
   "execution_count": 13,
   "metadata": {},
   "outputs": [
    {
     "data": {
      "text/html": [
       "<div>\n",
       "<style scoped>\n",
       "    .dataframe tbody tr th:only-of-type {\n",
       "        vertical-align: middle;\n",
       "    }\n",
       "\n",
       "    .dataframe tbody tr th {\n",
       "        vertical-align: top;\n",
       "    }\n",
       "\n",
       "    .dataframe thead th {\n",
       "        text-align: right;\n",
       "    }\n",
       "</style>\n",
       "<table border=\"1\" class=\"dataframe\">\n",
       "  <thead>\n",
       "    <tr style=\"text-align: right;\">\n",
       "      <th></th>\n",
       "      <th>Genes</th>\n",
       "      <th>Gene Annotation</th>\n",
       "      <th>Cluster number</th>\n",
       "      <th>Source</th>\n",
       "    </tr>\n",
       "  </thead>\n",
       "  <tbody>\n",
       "    <tr>\n",
       "      <td>0</td>\n",
       "      <td>cce_0052</td>\n",
       "      <td>DUF1499-containing protein</td>\n",
       "      <td>1.0</td>\n",
       "      <td>cce_0052</td>\n",
       "    </tr>\n",
       "    <tr>\n",
       "      <td>1</td>\n",
       "      <td>cce_0082</td>\n",
       "      <td>conserved hypothetical protein</td>\n",
       "      <td>1.0</td>\n",
       "      <td>cce_0082</td>\n",
       "    </tr>\n",
       "    <tr>\n",
       "      <td>2</td>\n",
       "      <td>cce_0085</td>\n",
       "      <td>hypothetical protein</td>\n",
       "      <td>1.0</td>\n",
       "      <td>cce_0085</td>\n",
       "    </tr>\n",
       "    <tr>\n",
       "      <td>3</td>\n",
       "      <td>cce_0087</td>\n",
       "      <td>metallophosphoesterase</td>\n",
       "      <td>1.0</td>\n",
       "      <td>cce_0087</td>\n",
       "    </tr>\n",
       "    <tr>\n",
       "      <td>4</td>\n",
       "      <td>cce_0115</td>\n",
       "      <td>response regulator</td>\n",
       "      <td>1.0</td>\n",
       "      <td>cce_0115</td>\n",
       "    </tr>\n",
       "  </tbody>\n",
       "</table>\n",
       "</div>"
      ],
      "text/plain": [
       "      Genes                 Gene Annotation  Cluster number    Source\n",
       "0  cce_0052      DUF1499-containing protein             1.0  cce_0052\n",
       "1  cce_0082  conserved hypothetical protein             1.0  cce_0082\n",
       "2  cce_0085            hypothetical protein             1.0  cce_0085\n",
       "3  cce_0087          metallophosphoesterase             1.0  cce_0087\n",
       "4  cce_0115              response regulator             1.0  cce_0115"
      ]
     },
     "execution_count": 13,
     "metadata": {},
     "output_type": "execute_result"
    }
   ],
   "source": [
    "raw_df_g = pd.read_excel(\"5-Gene-TF cluster.xlsx\",sheet_name=2).dropna(how=\"all\").reset_index(drop=True)\n",
    "inds_g = pd.isnull(raw_df_g).any(1).to_numpy().nonzero()[0]\n",
    "# raw_df_g[raw_df_g.iloc[0,0][:17]] = 1\n",
    "\n",
    "previdx = inds_g[0]\n",
    "for idx in range(len(inds_g[1:])):\n",
    "    nextidx = inds_g[idx+1]\n",
    "    raw_df_g.loc[previdx:nextidx+1,'Cluster number'] = idx+1\n",
    "    previdx = nextidx+1\n",
    "\n",
    "raw_df_g.loc[nextidx+1:,'Cluster number'] = idx+2\n",
    "df_g = raw_df_g.dropna().reset_index(drop=True)\n",
    "df_g['Source'] = df_g.apply(func1,axis=1)\n",
    "TG = df_g.dropna().reset_index(drop=True)\n",
    "TG.head()"
   ]
  },
  {
   "cell_type": "code",
   "execution_count": 14,
   "metadata": {},
   "outputs": [],
   "source": [
    "grouped_TG = TG.groupby('Cluster number')\n",
    "\n",
    "for key in grouped_TG.groups.keys():\n",
    "    Cluster = grouped_TG.get_group(key)\n",
    "    Cluster.to_excel(f'5 - TJMDAta/TG_Cluster_{key}.xlsx',columns=['Source'])"
   ]
  },
  {
   "cell_type": "code",
   "execution_count": 15,
   "metadata": {},
   "outputs": [
    {
     "data": {
      "text/plain": [
       "221"
      ]
     },
     "execution_count": 15,
     "metadata": {},
     "output_type": "execute_result"
    }
   ],
   "source": [
    "len(grouped_TG.groups.keys())"
   ]
  },
  {
   "cell_type": "code",
   "execution_count": 16,
   "metadata": {},
   "outputs": [],
   "source": [
    "tg1group = [key for key in grouped_TG.groups.keys() if len(grouped_TG.get_group(key))==1]"
   ]
  },
  {
   "cell_type": "code",
   "execution_count": 17,
   "metadata": {},
   "outputs": [
    {
     "data": {
      "text/plain": [
       "104"
      ]
     },
     "execution_count": 17,
     "metadata": {},
     "output_type": "execute_result"
    }
   ],
   "source": [
    "len(tg1group)"
   ]
  },
  {
   "cell_type": "markdown",
   "metadata": {},
   "source": [
    "# Interactions"
   ]
  },
  {
   "cell_type": "code",
   "execution_count": 18,
   "metadata": {},
   "outputs": [],
   "source": [
    "intdf = pd.read_excel('5-TF-Cluster interaction.xlsx',sheet_name=1).dropna(how=\"all\").reset_index(drop=True)"
   ]
  },
  {
   "cell_type": "code",
   "execution_count": 19,
   "metadata": {},
   "outputs": [
    {
     "data": {
      "text/html": [
       "<div>\n",
       "<style scoped>\n",
       "    .dataframe tbody tr th:only-of-type {\n",
       "        vertical-align: middle;\n",
       "    }\n",
       "\n",
       "    .dataframe tbody tr th {\n",
       "        vertical-align: top;\n",
       "    }\n",
       "\n",
       "    .dataframe thead th {\n",
       "        text-align: right;\n",
       "    }\n",
       "</style>\n",
       "<table border=\"1\" class=\"dataframe\">\n",
       "  <thead>\n",
       "    <tr style=\"text-align: right;\">\n",
       "      <th></th>\n",
       "      <th>Unnamed: 0</th>\n",
       "      <th>Cj value</th>\n",
       "    </tr>\n",
       "  </thead>\n",
       "  <tbody>\n",
       "    <tr>\n",
       "      <td>0</td>\n",
       "      <td>Gene Cluster 1</td>\n",
       "      <td>NaN</td>\n",
       "    </tr>\n",
       "    <tr>\n",
       "      <td>1</td>\n",
       "      <td>tf1</td>\n",
       "      <td>-0.28718</td>\n",
       "    </tr>\n",
       "    <tr>\n",
       "      <td>2</td>\n",
       "      <td>tf4</td>\n",
       "      <td>-0.08586</td>\n",
       "    </tr>\n",
       "    <tr>\n",
       "      <td>3</td>\n",
       "      <td>tf7</td>\n",
       "      <td>0.09915</td>\n",
       "    </tr>\n",
       "    <tr>\n",
       "      <td>4</td>\n",
       "      <td>Gene Cluster 2</td>\n",
       "      <td>NaN</td>\n",
       "    </tr>\n",
       "    <tr>\n",
       "      <td>...</td>\n",
       "      <td>...</td>\n",
       "      <td>...</td>\n",
       "    </tr>\n",
       "    <tr>\n",
       "      <td>732</td>\n",
       "      <td>tf4</td>\n",
       "      <td>-0.27598</td>\n",
       "    </tr>\n",
       "    <tr>\n",
       "      <td>733</td>\n",
       "      <td>tf14</td>\n",
       "      <td>0.10620</td>\n",
       "    </tr>\n",
       "    <tr>\n",
       "      <td>734</td>\n",
       "      <td>Gene Cluster 221</td>\n",
       "      <td>NaN</td>\n",
       "    </tr>\n",
       "    <tr>\n",
       "      <td>735</td>\n",
       "      <td>tf2</td>\n",
       "      <td>0.37204</td>\n",
       "    </tr>\n",
       "    <tr>\n",
       "      <td>736</td>\n",
       "      <td>tf15</td>\n",
       "      <td>-0.23621</td>\n",
       "    </tr>\n",
       "  </tbody>\n",
       "</table>\n",
       "<p>737 rows × 2 columns</p>\n",
       "</div>"
      ],
      "text/plain": [
       "           Unnamed: 0  Cj value\n",
       "0      Gene Cluster 1       NaN\n",
       "1                 tf1  -0.28718\n",
       "2                 tf4  -0.08586\n",
       "3                 tf7   0.09915\n",
       "4      Gene Cluster 2       NaN\n",
       "..                ...       ...\n",
       "732               tf4  -0.27598\n",
       "733              tf14   0.10620\n",
       "734  Gene Cluster 221       NaN\n",
       "735               tf2   0.37204\n",
       "736              tf15  -0.23621\n",
       "\n",
       "[737 rows x 2 columns]"
      ]
     },
     "execution_count": 19,
     "metadata": {},
     "output_type": "execute_result"
    }
   ],
   "source": [
    "intdf"
   ]
  },
  {
   "cell_type": "code",
   "execution_count": 20,
   "metadata": {},
   "outputs": [],
   "source": [
    "inds_int = pd.isnull(intdf).any(1).to_numpy().nonzero()[0]"
   ]
  },
  {
   "cell_type": "code",
   "execution_count": 21,
   "metadata": {},
   "outputs": [
    {
     "data": {
      "text/plain": [
       "221"
      ]
     },
     "execution_count": 21,
     "metadata": {},
     "output_type": "execute_result"
    }
   ],
   "source": [
    "len(inds_int)"
   ]
  },
  {
   "cell_type": "code",
   "execution_count": 22,
   "metadata": {},
   "outputs": [],
   "source": [
    "inds_int = pd.isnull(intdf).any(1).to_numpy().nonzero()[0]\n",
    "# raw_df_g[raw_df_g.iloc[0,0][:17]] = 1\n",
    "\n",
    "previdx = inds_int[0]\n",
    "for idx in range(len(inds_int[1:])):\n",
    "    nextidx = inds_int[idx+1]\n",
    "    intdf.loc[previdx:nextidx+1,'Cluster number'] = idx+1\n",
    "    previdx = nextidx+1\n",
    "\n",
    "intdf.loc[nextidx+1:,'Cluster number'] = idx+2\n",
    "df_int = intdf.dropna().reset_index(drop=True)"
   ]
  },
  {
   "cell_type": "code",
   "execution_count": 23,
   "metadata": {},
   "outputs": [],
   "source": [
    "df_int.columns = ['tfnum', 'cjval', 'tgnum']"
   ]
  },
  {
   "cell_type": "code",
   "execution_count": 24,
   "metadata": {},
   "outputs": [
    {
     "data": {
      "text/plain": [
       "numpy.float64"
      ]
     },
     "execution_count": 24,
     "metadata": {},
     "output_type": "execute_result"
    }
   ],
   "source": [
    "type(df_int.loc[0,'tgnum'])"
   ]
  },
  {
   "cell_type": "code",
   "execution_count": 25,
   "metadata": {},
   "outputs": [
    {
     "data": {
      "text/plain": [
       "float"
      ]
     },
     "execution_count": 25,
     "metadata": {},
     "output_type": "execute_result"
    }
   ],
   "source": [
    "type(tg1group[0])"
   ]
  },
  {
   "cell_type": "code",
   "execution_count": 26,
   "metadata": {},
   "outputs": [
    {
     "data": {
      "text/html": [
       "<div>\n",
       "<style scoped>\n",
       "    .dataframe tbody tr th:only-of-type {\n",
       "        vertical-align: middle;\n",
       "    }\n",
       "\n",
       "    .dataframe tbody tr th {\n",
       "        vertical-align: top;\n",
       "    }\n",
       "\n",
       "    .dataframe thead th {\n",
       "        text-align: right;\n",
       "    }\n",
       "</style>\n",
       "<table border=\"1\" class=\"dataframe\">\n",
       "  <thead>\n",
       "    <tr style=\"text-align: right;\">\n",
       "      <th></th>\n",
       "      <th>tfnum</th>\n",
       "      <th>cjval</th>\n",
       "      <th>tgnum</th>\n",
       "    </tr>\n",
       "  </thead>\n",
       "  <tbody>\n",
       "    <tr>\n",
       "      <td>0</td>\n",
       "      <td>tf1</td>\n",
       "      <td>-0.28718</td>\n",
       "      <td>1.0</td>\n",
       "    </tr>\n",
       "    <tr>\n",
       "      <td>1</td>\n",
       "      <td>tf4</td>\n",
       "      <td>-0.08586</td>\n",
       "      <td>1.0</td>\n",
       "    </tr>\n",
       "    <tr>\n",
       "      <td>2</td>\n",
       "      <td>tf7</td>\n",
       "      <td>0.09915</td>\n",
       "      <td>1.0</td>\n",
       "    </tr>\n",
       "    <tr>\n",
       "      <td>3</td>\n",
       "      <td>tf1</td>\n",
       "      <td>0.11915</td>\n",
       "      <td>2.0</td>\n",
       "    </tr>\n",
       "    <tr>\n",
       "      <td>4</td>\n",
       "      <td>tf2</td>\n",
       "      <td>0.11131</td>\n",
       "      <td>2.0</td>\n",
       "    </tr>\n",
       "  </tbody>\n",
       "</table>\n",
       "</div>"
      ],
      "text/plain": [
       "  tfnum    cjval  tgnum\n",
       "0   tf1 -0.28718    1.0\n",
       "1   tf4 -0.08586    1.0\n",
       "2   tf7  0.09915    1.0\n",
       "3   tf1  0.11915    2.0\n",
       "4   tf2  0.11131    2.0"
      ]
     },
     "execution_count": 26,
     "metadata": {},
     "output_type": "execute_result"
    }
   ],
   "source": [
    "df_int.head()"
   ]
  },
  {
   "cell_type": "code",
   "execution_count": 27,
   "metadata": {},
   "outputs": [],
   "source": [
    "# make 1to1 mapping\n",
    "\n",
    "#INCLUDE ONLY THOSE TFS WHICH HAS 1 GENE\n",
    "tf1name = ['tf'+str(num) for num in tf1group]\n",
    "\n",
    "interdf = df_int.loc[(df_int['tfnum'].isin(tf1name))&(df_int['tgnum'].isin(tg1group))].reset_index(drop=True)"
   ]
  },
  {
   "cell_type": "code",
   "execution_count": 28,
   "metadata": {},
   "outputs": [
    {
     "data": {
      "text/html": [
       "<div>\n",
       "<style scoped>\n",
       "    .dataframe tbody tr th:only-of-type {\n",
       "        vertical-align: middle;\n",
       "    }\n",
       "\n",
       "    .dataframe tbody tr th {\n",
       "        vertical-align: top;\n",
       "    }\n",
       "\n",
       "    .dataframe thead th {\n",
       "        text-align: right;\n",
       "    }\n",
       "</style>\n",
       "<table border=\"1\" class=\"dataframe\">\n",
       "  <thead>\n",
       "    <tr style=\"text-align: right;\">\n",
       "      <th></th>\n",
       "      <th>tfnum</th>\n",
       "      <th>cjval</th>\n",
       "      <th>tgnum</th>\n",
       "    </tr>\n",
       "  </thead>\n",
       "  <tbody>\n",
       "    <tr>\n",
       "      <td>0</td>\n",
       "      <td>tf15</td>\n",
       "      <td>0.25506</td>\n",
       "      <td>118.0</td>\n",
       "    </tr>\n",
       "    <tr>\n",
       "      <td>1</td>\n",
       "      <td>tf12</td>\n",
       "      <td>-0.17641</td>\n",
       "      <td>119.0</td>\n",
       "    </tr>\n",
       "    <tr>\n",
       "      <td>2</td>\n",
       "      <td>tf13</td>\n",
       "      <td>-0.22214</td>\n",
       "      <td>119.0</td>\n",
       "    </tr>\n",
       "    <tr>\n",
       "      <td>3</td>\n",
       "      <td>tf16</td>\n",
       "      <td>0.23525</td>\n",
       "      <td>119.0</td>\n",
       "    </tr>\n",
       "    <tr>\n",
       "      <td>4</td>\n",
       "      <td>tf13</td>\n",
       "      <td>0.18068</td>\n",
       "      <td>120.0</td>\n",
       "    </tr>\n",
       "    <tr>\n",
       "      <td>...</td>\n",
       "      <td>...</td>\n",
       "      <td>...</td>\n",
       "      <td>...</td>\n",
       "    </tr>\n",
       "    <tr>\n",
       "      <td>162</td>\n",
       "      <td>tf16</td>\n",
       "      <td>0.15584</td>\n",
       "      <td>216.0</td>\n",
       "    </tr>\n",
       "    <tr>\n",
       "      <td>163</td>\n",
       "      <td>tf8</td>\n",
       "      <td>0.08986</td>\n",
       "      <td>217.0</td>\n",
       "    </tr>\n",
       "    <tr>\n",
       "      <td>164</td>\n",
       "      <td>tf15</td>\n",
       "      <td>0.58494</td>\n",
       "      <td>217.0</td>\n",
       "    </tr>\n",
       "    <tr>\n",
       "      <td>165</td>\n",
       "      <td>tf14</td>\n",
       "      <td>0.10620</td>\n",
       "      <td>220.0</td>\n",
       "    </tr>\n",
       "    <tr>\n",
       "      <td>166</td>\n",
       "      <td>tf15</td>\n",
       "      <td>-0.23621</td>\n",
       "      <td>221.0</td>\n",
       "    </tr>\n",
       "  </tbody>\n",
       "</table>\n",
       "<p>167 rows × 3 columns</p>\n",
       "</div>"
      ],
      "text/plain": [
       "    tfnum    cjval  tgnum\n",
       "0    tf15  0.25506  118.0\n",
       "1    tf12 -0.17641  119.0\n",
       "2    tf13 -0.22214  119.0\n",
       "3    tf16  0.23525  119.0\n",
       "4    tf13  0.18068  120.0\n",
       "..    ...      ...    ...\n",
       "162  tf16  0.15584  216.0\n",
       "163   tf8  0.08986  217.0\n",
       "164  tf15  0.58494  217.0\n",
       "165  tf14  0.10620  220.0\n",
       "166  tf15 -0.23621  221.0\n",
       "\n",
       "[167 rows x 3 columns]"
      ]
     },
     "execution_count": 28,
     "metadata": {},
     "output_type": "execute_result"
    }
   ],
   "source": [
    "interdf"
   ]
  },
  {
   "cell_type": "code",
   "execution_count": 29,
   "metadata": {},
   "outputs": [
    {
     "data": {
      "text/plain": [
       "Index(['Genes', 'Gene Annotation', 'TF Cluster number', 'Source'], dtype='object')"
      ]
     },
     "execution_count": 29,
     "metadata": {},
     "output_type": "execute_result"
    }
   ],
   "source": [
    "df.columns"
   ]
  },
  {
   "cell_type": "code",
   "execution_count": 30,
   "metadata": {},
   "outputs": [
    {
     "data": {
      "text/html": [
       "<div>\n",
       "<style scoped>\n",
       "    .dataframe tbody tr th:only-of-type {\n",
       "        vertical-align: middle;\n",
       "    }\n",
       "\n",
       "    .dataframe tbody tr th {\n",
       "        vertical-align: top;\n",
       "    }\n",
       "\n",
       "    .dataframe thead th {\n",
       "        text-align: right;\n",
       "    }\n",
       "</style>\n",
       "<table border=\"1\" class=\"dataframe\">\n",
       "  <thead>\n",
       "    <tr style=\"text-align: right;\">\n",
       "      <th></th>\n",
       "      <th>tfnum</th>\n",
       "      <th>cjval</th>\n",
       "      <th>tgnum</th>\n",
       "    </tr>\n",
       "  </thead>\n",
       "  <tbody>\n",
       "    <tr>\n",
       "      <td>0</td>\n",
       "      <td>tf15</td>\n",
       "      <td>0.25506</td>\n",
       "      <td>118.0</td>\n",
       "    </tr>\n",
       "    <tr>\n",
       "      <td>1</td>\n",
       "      <td>tf12</td>\n",
       "      <td>-0.17641</td>\n",
       "      <td>119.0</td>\n",
       "    </tr>\n",
       "    <tr>\n",
       "      <td>2</td>\n",
       "      <td>tf13</td>\n",
       "      <td>-0.22214</td>\n",
       "      <td>119.0</td>\n",
       "    </tr>\n",
       "    <tr>\n",
       "      <td>3</td>\n",
       "      <td>tf16</td>\n",
       "      <td>0.23525</td>\n",
       "      <td>119.0</td>\n",
       "    </tr>\n",
       "    <tr>\n",
       "      <td>4</td>\n",
       "      <td>tf13</td>\n",
       "      <td>0.18068</td>\n",
       "      <td>120.0</td>\n",
       "    </tr>\n",
       "  </tbody>\n",
       "</table>\n",
       "</div>"
      ],
      "text/plain": [
       "  tfnum    cjval  tgnum\n",
       "0  tf15  0.25506  118.0\n",
       "1  tf12 -0.17641  119.0\n",
       "2  tf13 -0.22214  119.0\n",
       "3  tf16  0.23525  119.0\n",
       "4  tf13  0.18068  120.0"
      ]
     },
     "execution_count": 30,
     "metadata": {},
     "output_type": "execute_result"
    }
   ],
   "source": [
    "interdf.head()"
   ]
  },
  {
   "cell_type": "code",
   "execution_count": 31,
   "metadata": {},
   "outputs": [
    {
     "data": {
      "text/plain": [
       "'cce_4219'"
      ]
     },
     "execution_count": 31,
     "metadata": {},
     "output_type": "execute_result"
    }
   ],
   "source": [
    "df.loc[df.loc[:,'TF Cluster number']==6]['Genes'].values[0]"
   ]
  },
  {
   "cell_type": "code",
   "execution_count": 32,
   "metadata": {},
   "outputs": [
    {
     "data": {
      "text/html": [
       "<div>\n",
       "<style scoped>\n",
       "    .dataframe tbody tr th:only-of-type {\n",
       "        vertical-align: middle;\n",
       "    }\n",
       "\n",
       "    .dataframe tbody tr th {\n",
       "        vertical-align: top;\n",
       "    }\n",
       "\n",
       "    .dataframe thead th {\n",
       "        text-align: right;\n",
       "    }\n",
       "</style>\n",
       "<table border=\"1\" class=\"dataframe\">\n",
       "  <thead>\n",
       "    <tr style=\"text-align: right;\">\n",
       "      <th></th>\n",
       "      <th>Genes</th>\n",
       "      <th>Gene Annotation</th>\n",
       "      <th>Cluster number</th>\n",
       "      <th>Source</th>\n",
       "    </tr>\n",
       "  </thead>\n",
       "  <tbody>\n",
       "    <tr>\n",
       "      <td>0</td>\n",
       "      <td>cce_0052</td>\n",
       "      <td>DUF1499-containing protein</td>\n",
       "      <td>1.0</td>\n",
       "      <td>cce_0052</td>\n",
       "    </tr>\n",
       "  </tbody>\n",
       "</table>\n",
       "</div>"
      ],
      "text/plain": [
       "      Genes             Gene Annotation  Cluster number    Source\n",
       "0  cce_0052  DUF1499-containing protein             1.0  cce_0052"
      ]
     },
     "execution_count": 32,
     "metadata": {},
     "output_type": "execute_result"
    }
   ],
   "source": [
    "TG.iloc[:1]"
   ]
  },
  {
   "cell_type": "code",
   "execution_count": 33,
   "metadata": {},
   "outputs": [
    {
     "data": {
      "text/html": [
       "<div>\n",
       "<style scoped>\n",
       "    .dataframe tbody tr th:only-of-type {\n",
       "        vertical-align: middle;\n",
       "    }\n",
       "\n",
       "    .dataframe tbody tr th {\n",
       "        vertical-align: top;\n",
       "    }\n",
       "\n",
       "    .dataframe thead th {\n",
       "        text-align: right;\n",
       "    }\n",
       "</style>\n",
       "<table border=\"1\" class=\"dataframe\">\n",
       "  <thead>\n",
       "    <tr style=\"text-align: right;\">\n",
       "      <th></th>\n",
       "      <th>Genes</th>\n",
       "      <th>Gene Annotation</th>\n",
       "      <th>TF Cluster number</th>\n",
       "      <th>Source</th>\n",
       "    </tr>\n",
       "  </thead>\n",
       "  <tbody>\n",
       "    <tr>\n",
       "      <td>0</td>\n",
       "      <td>cce_0115</td>\n",
       "      <td>response regulator</td>\n",
       "      <td>1</td>\n",
       "      <td>cce_0115</td>\n",
       "    </tr>\n",
       "  </tbody>\n",
       "</table>\n",
       "</div>"
      ],
      "text/plain": [
       "      Genes     Gene Annotation  TF Cluster number    Source\n",
       "0  cce_0115  response regulator                  1  cce_0115"
      ]
     },
     "execution_count": 33,
     "metadata": {},
     "output_type": "execute_result"
    }
   ],
   "source": [
    "TF.iloc[:1]"
   ]
  },
  {
   "cell_type": "code",
   "execution_count": 34,
   "metadata": {},
   "outputs": [],
   "source": [
    "def func2(row):\n",
    "    #get tf orf\n",
    "    tfasstr = row['tfnum']\n",
    "    tfclustnum = int(tfasstr[2:])\n",
    "    tfname = TF.loc[TF.loc[:,'TF Cluster number']==tfclustnum]['Genes'].values[0]\n",
    "    #get tg orf\n",
    "    tgclustnum = row['tgnum']\n",
    "    tgname = TG.loc[TG.loc[:,'Cluster number']==tgclustnum]['Genes'].values[0]\n",
    "    #get tf common name\n",
    "    tfcomname = TF.loc[TF.loc[:,'TF Cluster number']==tfclustnum]['Source'].values[0]\n",
    "    #get tg common name\n",
    "    tgcomname = TG.loc[TG.loc[:,'Cluster number']==tgclustnum]['Source'].values[0]\n",
    "    return pd.Series({'TF ORF':tfname,'TG ORF':tgname,'TF':tfcomname.strip(),'TG':tgcomname.strip()}) \n",
    "\n",
    "\n",
    "interdf = interdf.merge(interdf.apply(func2,axis=1),left_index=True,right_index=True)"
   ]
  },
  {
   "cell_type": "code",
   "execution_count": 35,
   "metadata": {},
   "outputs": [
    {
     "data": {
      "text/html": [
       "<div>\n",
       "<style scoped>\n",
       "    .dataframe tbody tr th:only-of-type {\n",
       "        vertical-align: middle;\n",
       "    }\n",
       "\n",
       "    .dataframe tbody tr th {\n",
       "        vertical-align: top;\n",
       "    }\n",
       "\n",
       "    .dataframe thead th {\n",
       "        text-align: right;\n",
       "    }\n",
       "</style>\n",
       "<table border=\"1\" class=\"dataframe\">\n",
       "  <thead>\n",
       "    <tr style=\"text-align: right;\">\n",
       "      <th></th>\n",
       "      <th>tfnum</th>\n",
       "      <th>cjval</th>\n",
       "      <th>tgnum</th>\n",
       "      <th>TF ORF</th>\n",
       "      <th>TG ORF</th>\n",
       "      <th>TF</th>\n",
       "      <th>TG</th>\n",
       "    </tr>\n",
       "  </thead>\n",
       "  <tbody>\n",
       "    <tr>\n",
       "      <td>0</td>\n",
       "      <td>tf15</td>\n",
       "      <td>0.25506</td>\n",
       "      <td>118.0</td>\n",
       "      <td>cce_0601</td>\n",
       "      <td>cce_5302</td>\n",
       "      <td>sigE</td>\n",
       "      <td>cce_5302</td>\n",
       "    </tr>\n",
       "    <tr>\n",
       "      <td>1</td>\n",
       "      <td>tf12</td>\n",
       "      <td>-0.17641</td>\n",
       "      <td>119.0</td>\n",
       "      <td>cce_3378</td>\n",
       "      <td>cce_5288</td>\n",
       "      <td>cce_3378</td>\n",
       "      <td>cce_5288</td>\n",
       "    </tr>\n",
       "    <tr>\n",
       "      <td>2</td>\n",
       "      <td>tf13</td>\n",
       "      <td>-0.22214</td>\n",
       "      <td>119.0</td>\n",
       "      <td>cce_3127</td>\n",
       "      <td>cce_5288</td>\n",
       "      <td>cce_3127</td>\n",
       "      <td>cce_5288</td>\n",
       "    </tr>\n",
       "    <tr>\n",
       "      <td>3</td>\n",
       "      <td>tf16</td>\n",
       "      <td>0.23525</td>\n",
       "      <td>119.0</td>\n",
       "      <td>cce_0298</td>\n",
       "      <td>cce_5288</td>\n",
       "      <td>rpaA</td>\n",
       "      <td>cce_5288</td>\n",
       "    </tr>\n",
       "    <tr>\n",
       "      <td>4</td>\n",
       "      <td>tf13</td>\n",
       "      <td>0.18068</td>\n",
       "      <td>120.0</td>\n",
       "      <td>cce_3127</td>\n",
       "      <td>cce_5166</td>\n",
       "      <td>cce_3127</td>\n",
       "      <td>cce_5166</td>\n",
       "    </tr>\n",
       "    <tr>\n",
       "      <td>...</td>\n",
       "      <td>...</td>\n",
       "      <td>...</td>\n",
       "      <td>...</td>\n",
       "      <td>...</td>\n",
       "      <td>...</td>\n",
       "      <td>...</td>\n",
       "      <td>...</td>\n",
       "    </tr>\n",
       "    <tr>\n",
       "      <td>162</td>\n",
       "      <td>tf16</td>\n",
       "      <td>0.15584</td>\n",
       "      <td>216.0</td>\n",
       "      <td>cce_0298</td>\n",
       "      <td>cce_0319</td>\n",
       "      <td>rpaA</td>\n",
       "      <td>cce_0319</td>\n",
       "    </tr>\n",
       "    <tr>\n",
       "      <td>163</td>\n",
       "      <td>tf8</td>\n",
       "      <td>0.08986</td>\n",
       "      <td>217.0</td>\n",
       "      <td>cce_0556</td>\n",
       "      <td>cce_0303</td>\n",
       "      <td>cce_0556</td>\n",
       "      <td>cmpC</td>\n",
       "    </tr>\n",
       "    <tr>\n",
       "      <td>164</td>\n",
       "      <td>tf15</td>\n",
       "      <td>0.58494</td>\n",
       "      <td>217.0</td>\n",
       "      <td>cce_0601</td>\n",
       "      <td>cce_0303</td>\n",
       "      <td>sigE</td>\n",
       "      <td>cmpC</td>\n",
       "    </tr>\n",
       "    <tr>\n",
       "      <td>165</td>\n",
       "      <td>tf14</td>\n",
       "      <td>0.10620</td>\n",
       "      <td>220.0</td>\n",
       "      <td>cce_1520</td>\n",
       "      <td>cce_0042</td>\n",
       "      <td>cce_1520</td>\n",
       "      <td>cce_0042</td>\n",
       "    </tr>\n",
       "    <tr>\n",
       "      <td>166</td>\n",
       "      <td>tf15</td>\n",
       "      <td>-0.23621</td>\n",
       "      <td>221.0</td>\n",
       "      <td>cce_0601</td>\n",
       "      <td>cce_0019</td>\n",
       "      <td>sigE</td>\n",
       "      <td>cce_0019</td>\n",
       "    </tr>\n",
       "  </tbody>\n",
       "</table>\n",
       "<p>167 rows × 7 columns</p>\n",
       "</div>"
      ],
      "text/plain": [
       "    tfnum    cjval  tgnum    TF ORF    TG ORF        TF        TG\n",
       "0    tf15  0.25506  118.0  cce_0601  cce_5302      sigE  cce_5302\n",
       "1    tf12 -0.17641  119.0  cce_3378  cce_5288  cce_3378  cce_5288\n",
       "2    tf13 -0.22214  119.0  cce_3127  cce_5288  cce_3127  cce_5288\n",
       "3    tf16  0.23525  119.0  cce_0298  cce_5288      rpaA  cce_5288\n",
       "4    tf13  0.18068  120.0  cce_3127  cce_5166  cce_3127  cce_5166\n",
       "..    ...      ...    ...       ...       ...       ...       ...\n",
       "162  tf16  0.15584  216.0  cce_0298  cce_0319      rpaA  cce_0319\n",
       "163   tf8  0.08986  217.0  cce_0556  cce_0303  cce_0556      cmpC\n",
       "164  tf15  0.58494  217.0  cce_0601  cce_0303      sigE      cmpC\n",
       "165  tf14  0.10620  220.0  cce_1520  cce_0042  cce_1520  cce_0042\n",
       "166  tf15 -0.23621  221.0  cce_0601  cce_0019      sigE  cce_0019\n",
       "\n",
       "[167 rows x 7 columns]"
      ]
     },
     "execution_count": 35,
     "metadata": {},
     "output_type": "execute_result"
    }
   ],
   "source": [
    "interdf[interdf.loc[]]"
   ]
  },
  {
   "cell_type": "code",
   "execution_count": 37,
   "metadata": {},
   "outputs": [],
   "source": [
    "interdf.to_excel('5 - TJMData/interTJM.xlsx')"
   ]
  },
  {
   "cell_type": "markdown",
   "metadata": {},
   "source": [
    "supplementary information nitrogen fixation clusters \n",
    "\n",
    "https://pubs.acs.org/doi/suppl/10.1021/acssynbio.5b00202/suppl_file/sb5b00202_si_002.pdf\n",
    "\n"
   ]
  }
 ],
 "metadata": {
  "kernelspec": {
   "display_name": "Python 3",
   "language": "python",
   "name": "python3"
  },
  "language_info": {
   "codemirror_mode": {
    "name": "ipython",
    "version": 3
   },
   "file_extension": ".py",
   "mimetype": "text/x-python",
   "name": "python",
   "nbconvert_exporter": "python",
   "pygments_lexer": "ipython3",
   "version": "3.7.4"
  }
 },
 "nbformat": 4,
 "nbformat_minor": 2
}
