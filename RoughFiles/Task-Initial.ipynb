{
 "cells": [
  {
   "cell_type": "markdown",
   "metadata": {},
   "source": [
    "# Identify the transcription factors and the target genes in Cyanothece from literature sources\n",
    "\n",
    "# 1. Paper by Thomas et al.\n",
    "https://pubs.acs.org/doi/full/10.1021/acssynbio.5b00202"
   ]
  },
  {
   "cell_type": "markdown",
   "metadata": {},
   "source": [
    "## Get the transcription factors "
   ]
  },
  {
   "cell_type": "code",
   "execution_count": 47,
   "metadata": {},
   "outputs": [],
   "source": [
    "# import the data in pandas \n",
    "import numpy as np\n",
    "import networkx as nx\n",
    "import pandas as pd\n",
    "raw_df = pd.read_excel(\"1-Gene-TF cluster.xlsx\",sheet_name=3).dropna(how=\"all\").reset_index(drop=True)"
   ]
  },
  {
   "cell_type": "code",
   "execution_count": 48,
   "metadata": {},
   "outputs": [],
   "source": [
    "inds = pd.isnull(raw_df).any(1).to_numpy().nonzero()[0]"
   ]
  },
  {
   "cell_type": "code",
   "execution_count": 49,
   "metadata": {},
   "outputs": [
    {
     "data": {
      "text/plain": [
       "array([ 0, 38, 54, 59, 63, 66, 68, 70, 72, 74, 76, 78, 80, 82, 84, 86],\n",
       "      dtype=int64)"
      ]
     },
     "execution_count": 49,
     "metadata": {},
     "output_type": "execute_result"
    }
   ],
   "source": [
    "inds"
   ]
  },
  {
   "cell_type": "code",
   "execution_count": 50,
   "metadata": {},
   "outputs": [],
   "source": [
    "raw_df[raw_df.iloc[0,0][:17]] = 1"
   ]
  },
  {
   "cell_type": "code",
   "execution_count": 51,
   "metadata": {},
   "outputs": [],
   "source": [
    "previdx = inds[0]\n",
    "for idx in range(len(inds[1:])):\n",
    "    nextidx = inds[idx+1]\n",
    "    raw_df.loc[previdx:nextidx+1,'TF Cluster number'] = idx+1\n",
    "    previdx = nextidx+1\n",
    "\n",
    "raw_df.loc[nextidx+1:,'TF Cluster number'] = idx+2"
   ]
  },
  {
   "cell_type": "code",
   "execution_count": 52,
   "metadata": {},
   "outputs": [],
   "source": [
    "df = raw_df.dropna().reset_index(drop=True)"
   ]
  },
  {
   "cell_type": "code",
   "execution_count": 53,
   "metadata": {},
   "outputs": [
    {
     "name": "stdout",
     "output_type": "stream",
     "text": [
      "There are 72 TFs in this file and as per the paper there should be 72.\n"
     ]
    }
   ],
   "source": [
    "print(f'There are {len(df)} TFs in this file and as per the paper there should be 72.') "
   ]
  },
  {
   "cell_type": "code",
   "execution_count": 54,
   "metadata": {},
   "outputs": [
    {
     "data": {
      "text/html": [
       "<div>\n",
       "<style scoped>\n",
       "    .dataframe tbody tr th:only-of-type {\n",
       "        vertical-align: middle;\n",
       "    }\n",
       "\n",
       "    .dataframe tbody tr th {\n",
       "        vertical-align: top;\n",
       "    }\n",
       "\n",
       "    .dataframe thead th {\n",
       "        text-align: right;\n",
       "    }\n",
       "</style>\n",
       "<table border=\"1\" class=\"dataframe\">\n",
       "  <thead>\n",
       "    <tr style=\"text-align: right;\">\n",
       "      <th></th>\n",
       "      <th>Genes</th>\n",
       "      <th>Gene Annotation</th>\n",
       "      <th>TF Cluster number</th>\n",
       "    </tr>\n",
       "  </thead>\n",
       "  <tbody>\n",
       "    <tr>\n",
       "      <td>0</td>\n",
       "      <td>cce_0115</td>\n",
       "      <td>response regulator</td>\n",
       "      <td>1</td>\n",
       "    </tr>\n",
       "    <tr>\n",
       "      <td>1</td>\n",
       "      <td>cce_0145</td>\n",
       "      <td>putative circadian clock protein; kaiB4</td>\n",
       "      <td>1</td>\n",
       "    </tr>\n",
       "    <tr>\n",
       "      <td>2</td>\n",
       "      <td>cce_0452</td>\n",
       "      <td>hypothetical protein containing a transcriptio...</td>\n",
       "      <td>1</td>\n",
       "    </tr>\n",
       "    <tr>\n",
       "      <td>3</td>\n",
       "      <td>cce_0453</td>\n",
       "      <td>putative transcriptional regulator AbrB</td>\n",
       "      <td>1</td>\n",
       "    </tr>\n",
       "    <tr>\n",
       "      <td>4</td>\n",
       "      <td>cce_0461</td>\n",
       "      <td>nitrogen-responsive regulatory protein; ntcA</td>\n",
       "      <td>1</td>\n",
       "    </tr>\n",
       "    <tr>\n",
       "      <td>...</td>\n",
       "      <td>...</td>\n",
       "      <td>...</td>\n",
       "      <td>...</td>\n",
       "    </tr>\n",
       "    <tr>\n",
       "      <td>67</td>\n",
       "      <td>cce_3378</td>\n",
       "      <td>two-component response regulator</td>\n",
       "      <td>12</td>\n",
       "    </tr>\n",
       "    <tr>\n",
       "      <td>68</td>\n",
       "      <td>cce_3127</td>\n",
       "      <td>transcription regulator, Fur family</td>\n",
       "      <td>13</td>\n",
       "    </tr>\n",
       "    <tr>\n",
       "      <td>69</td>\n",
       "      <td>cce_1520</td>\n",
       "      <td>two-component response regulator</td>\n",
       "      <td>14</td>\n",
       "    </tr>\n",
       "    <tr>\n",
       "      <td>70</td>\n",
       "      <td>cce_0601</td>\n",
       "      <td>group 2 sigma-70 RNA polymerase sigma factor E...</td>\n",
       "      <td>15</td>\n",
       "    </tr>\n",
       "    <tr>\n",
       "      <td>71</td>\n",
       "      <td>cce_0298</td>\n",
       "      <td>two-component response regulator; rpaA</td>\n",
       "      <td>16</td>\n",
       "    </tr>\n",
       "  </tbody>\n",
       "</table>\n",
       "<p>72 rows × 3 columns</p>\n",
       "</div>"
      ],
      "text/plain": [
       "       Genes                                    Gene Annotation  \\\n",
       "0   cce_0115                                 response regulator   \n",
       "1   cce_0145            putative circadian clock protein; kaiB4   \n",
       "2   cce_0452  hypothetical protein containing a transcriptio...   \n",
       "3   cce_0453            putative transcriptional regulator AbrB   \n",
       "4   cce_0461       nitrogen-responsive regulatory protein; ntcA   \n",
       "..       ...                                                ...   \n",
       "67  cce_3378                   two-component response regulator   \n",
       "68  cce_3127                transcription regulator, Fur family   \n",
       "69  cce_1520                   two-component response regulator   \n",
       "70  cce_0601  group 2 sigma-70 RNA polymerase sigma factor E...   \n",
       "71  cce_0298             two-component response regulator; rpaA   \n",
       "\n",
       "    TF Cluster number  \n",
       "0                   1  \n",
       "1                   1  \n",
       "2                   1  \n",
       "3                   1  \n",
       "4                   1  \n",
       "..                ...  \n",
       "67                 12  \n",
       "68                 13  \n",
       "69                 14  \n",
       "70                 15  \n",
       "71                 16  \n",
       "\n",
       "[72 rows x 3 columns]"
      ]
     },
     "execution_count": 54,
     "metadata": {},
     "output_type": "execute_result"
    }
   ],
   "source": [
    "df"
   ]
  },
  {
   "cell_type": "code",
   "execution_count": 55,
   "metadata": {},
   "outputs": [],
   "source": [
    "def func1(row):\n",
    "    if row['Gene Annotation'].find(';')!=-1:\n",
    "        return row['Gene Annotation'][row['Gene Annotation'].find(';')+1:]\n",
    "    else:\n",
    "        return np.NaN\n",
    "df['TF_name'] = df.apply(func1,axis=1)"
   ]
  },
  {
   "cell_type": "code",
   "execution_count": 56,
   "metadata": {},
   "outputs": [],
   "source": [
    "TF = df.dropna().reset_index(drop=True)"
   ]
  },
  {
   "cell_type": "code",
   "execution_count": 57,
   "metadata": {},
   "outputs": [
    {
     "data": {
      "text/html": [
       "<div>\n",
       "<style scoped>\n",
       "    .dataframe tbody tr th:only-of-type {\n",
       "        vertical-align: middle;\n",
       "    }\n",
       "\n",
       "    .dataframe tbody tr th {\n",
       "        vertical-align: top;\n",
       "    }\n",
       "\n",
       "    .dataframe thead th {\n",
       "        text-align: right;\n",
       "    }\n",
       "</style>\n",
       "<table border=\"1\" class=\"dataframe\">\n",
       "  <thead>\n",
       "    <tr style=\"text-align: right;\">\n",
       "      <th></th>\n",
       "      <th>Genes</th>\n",
       "      <th>Gene Annotation</th>\n",
       "      <th>TF Cluster number</th>\n",
       "      <th>TF_name</th>\n",
       "    </tr>\n",
       "  </thead>\n",
       "  <tbody>\n",
       "    <tr>\n",
       "      <td>0</td>\n",
       "      <td>cce_0145</td>\n",
       "      <td>putative circadian clock protein; kaiB4</td>\n",
       "      <td>1</td>\n",
       "      <td>kaiB4</td>\n",
       "    </tr>\n",
       "    <tr>\n",
       "      <td>1</td>\n",
       "      <td>cce_0461</td>\n",
       "      <td>nitrogen-responsive regulatory protein; ntcA</td>\n",
       "      <td>1</td>\n",
       "      <td>ntcA</td>\n",
       "    </tr>\n",
       "    <tr>\n",
       "      <td>2</td>\n",
       "      <td>cce_1751</td>\n",
       "      <td>adaptive-response sensory histidine kinase; sasA</td>\n",
       "      <td>1</td>\n",
       "      <td>sasA</td>\n",
       "    </tr>\n",
       "    <tr>\n",
       "      <td>3</td>\n",
       "      <td>cce_2330</td>\n",
       "      <td>ferric uptake regulation protein; fur1</td>\n",
       "      <td>1</td>\n",
       "      <td>fur1</td>\n",
       "    </tr>\n",
       "    <tr>\n",
       "      <td>4</td>\n",
       "      <td>cce_1853</td>\n",
       "      <td>serine/threonine kinase; pknA</td>\n",
       "      <td>1</td>\n",
       "      <td>pknA</td>\n",
       "    </tr>\n",
       "    <tr>\n",
       "      <td>5</td>\n",
       "      <td>cce_2246</td>\n",
       "      <td>adenylate cyclase; cyaA</td>\n",
       "      <td>1</td>\n",
       "      <td>cyaA</td>\n",
       "    </tr>\n",
       "    <tr>\n",
       "      <td>6</td>\n",
       "      <td>cce_4131</td>\n",
       "      <td>probable c-type cytochrome biogenesis protein;...</td>\n",
       "      <td>1</td>\n",
       "      <td>ccdA</td>\n",
       "    </tr>\n",
       "    <tr>\n",
       "      <td>7</td>\n",
       "      <td>cce_0198</td>\n",
       "      <td>LysR family transcriptional regulatory protein...</td>\n",
       "      <td>2</td>\n",
       "      <td>ntcB</td>\n",
       "    </tr>\n",
       "    <tr>\n",
       "      <td>8</td>\n",
       "      <td>cce_0875</td>\n",
       "      <td>group 1 sigma-70 RNA polymerase sigma factor A...</td>\n",
       "      <td>2</td>\n",
       "      <td>sigA</td>\n",
       "    </tr>\n",
       "    <tr>\n",
       "      <td>9</td>\n",
       "      <td>cce_2424</td>\n",
       "      <td>group 4 sigma-70 RNA polymerase sigma factor H...</td>\n",
       "      <td>2</td>\n",
       "      <td>sigH</td>\n",
       "    </tr>\n",
       "    <tr>\n",
       "      <td>10</td>\n",
       "      <td>cce_3519</td>\n",
       "      <td>phosphate uptake regulator; phoU</td>\n",
       "      <td>2</td>\n",
       "      <td>phoU</td>\n",
       "    </tr>\n",
       "    <tr>\n",
       "      <td>11</td>\n",
       "      <td>cce_4002</td>\n",
       "      <td>two-component response regulator; rpaB</td>\n",
       "      <td>2</td>\n",
       "      <td>rpaB</td>\n",
       "    </tr>\n",
       "    <tr>\n",
       "      <td>12</td>\n",
       "      <td>cce_0435</td>\n",
       "      <td>circadian clock protein; kaiB3</td>\n",
       "      <td>3</td>\n",
       "      <td>kaiB3</td>\n",
       "    </tr>\n",
       "    <tr>\n",
       "      <td>13</td>\n",
       "      <td>cce_1898</td>\n",
       "      <td>probable transcriptional regulator; patB</td>\n",
       "      <td>4</td>\n",
       "      <td>patB</td>\n",
       "    </tr>\n",
       "    <tr>\n",
       "      <td>14</td>\n",
       "      <td>cce_2566</td>\n",
       "      <td>group 3 sigma-70 RNA polymerase sigma factor F...</td>\n",
       "      <td>5</td>\n",
       "      <td>sigF</td>\n",
       "    </tr>\n",
       "    <tr>\n",
       "      <td>15</td>\n",
       "      <td>cce_4219</td>\n",
       "      <td>phosphoglycerate kinase; pgk</td>\n",
       "      <td>6</td>\n",
       "      <td>pgk</td>\n",
       "    </tr>\n",
       "    <tr>\n",
       "      <td>16</td>\n",
       "      <td>cce_3594</td>\n",
       "      <td>group 2 sigma-70 RNA polymerase sigma factor D...</td>\n",
       "      <td>10</td>\n",
       "      <td>sigD</td>\n",
       "    </tr>\n",
       "    <tr>\n",
       "      <td>17</td>\n",
       "      <td>cce_3586</td>\n",
       "      <td>group 3 sigma-70 RNA polymerase sigma factor J...</td>\n",
       "      <td>11</td>\n",
       "      <td>sigJ</td>\n",
       "    </tr>\n",
       "    <tr>\n",
       "      <td>18</td>\n",
       "      <td>cce_0601</td>\n",
       "      <td>group 2 sigma-70 RNA polymerase sigma factor E...</td>\n",
       "      <td>15</td>\n",
       "      <td>sigE</td>\n",
       "    </tr>\n",
       "    <tr>\n",
       "      <td>19</td>\n",
       "      <td>cce_0298</td>\n",
       "      <td>two-component response regulator; rpaA</td>\n",
       "      <td>16</td>\n",
       "      <td>rpaA</td>\n",
       "    </tr>\n",
       "  </tbody>\n",
       "</table>\n",
       "</div>"
      ],
      "text/plain": [
       "       Genes                                    Gene Annotation  \\\n",
       "0   cce_0145            putative circadian clock protein; kaiB4   \n",
       "1   cce_0461       nitrogen-responsive regulatory protein; ntcA   \n",
       "2   cce_1751   adaptive-response sensory histidine kinase; sasA   \n",
       "3   cce_2330             ferric uptake regulation protein; fur1   \n",
       "4   cce_1853                      serine/threonine kinase; pknA   \n",
       "5   cce_2246                            adenylate cyclase; cyaA   \n",
       "6   cce_4131  probable c-type cytochrome biogenesis protein;...   \n",
       "7   cce_0198  LysR family transcriptional regulatory protein...   \n",
       "8   cce_0875  group 1 sigma-70 RNA polymerase sigma factor A...   \n",
       "9   cce_2424  group 4 sigma-70 RNA polymerase sigma factor H...   \n",
       "10  cce_3519                   phosphate uptake regulator; phoU   \n",
       "11  cce_4002             two-component response regulator; rpaB   \n",
       "12  cce_0435                     circadian clock protein; kaiB3   \n",
       "13  cce_1898           probable transcriptional regulator; patB   \n",
       "14  cce_2566  group 3 sigma-70 RNA polymerase sigma factor F...   \n",
       "15  cce_4219                       phosphoglycerate kinase; pgk   \n",
       "16  cce_3594  group 2 sigma-70 RNA polymerase sigma factor D...   \n",
       "17  cce_3586  group 3 sigma-70 RNA polymerase sigma factor J...   \n",
       "18  cce_0601  group 2 sigma-70 RNA polymerase sigma factor E...   \n",
       "19  cce_0298             two-component response regulator; rpaA   \n",
       "\n",
       "    TF Cluster number TF_name  \n",
       "0                   1   kaiB4  \n",
       "1                   1    ntcA  \n",
       "2                   1    sasA  \n",
       "3                   1    fur1  \n",
       "4                   1    pknA  \n",
       "5                   1    cyaA  \n",
       "6                   1    ccdA  \n",
       "7                   2    ntcB  \n",
       "8                   2    sigA  \n",
       "9                   2    sigH  \n",
       "10                  2    phoU  \n",
       "11                  2    rpaB  \n",
       "12                  3   kaiB3  \n",
       "13                  4    patB  \n",
       "14                  5    sigF  \n",
       "15                  6     pgk  \n",
       "16                 10    sigD  \n",
       "17                 11    sigJ  \n",
       "18                 15    sigE  \n",
       "19                 16    rpaA  "
      ]
     },
     "execution_count": 57,
     "metadata": {},
     "output_type": "execute_result"
    }
   ],
   "source": [
    "TF"
   ]
  },
  {
   "cell_type": "markdown",
   "metadata": {},
   "source": [
    "## Get the genes"
   ]
  },
  {
   "cell_type": "code",
   "execution_count": 58,
   "metadata": {},
   "outputs": [
    {
     "name": "stdout",
     "output_type": "stream",
     "text": [
      "There are 1552 TGs in this file and as per the paper there should be 1552.\n"
     ]
    }
   ],
   "source": [
    "raw_df_g = pd.read_excel(\"1-Gene-TF cluster.xlsx\",sheet_name=2).dropna(how=\"all\").reset_index(drop=True)\n",
    "inds_g = pd.isnull(raw_df_g).any(1).to_numpy().nonzero()[0]\n",
    "# raw_df_g[raw_df_g.iloc[0,0][:17]] = 1\n",
    "\n",
    "previdx = inds_g[0]\n",
    "for idx in range(len(inds_g[1:])):\n",
    "    nextidx = inds_g[idx+1]\n",
    "    raw_df_g.loc[previdx:nextidx+1,'Cluster number'] = idx+1\n",
    "    previdx = nextidx+1\n",
    "\n",
    "raw_df_g.loc[nextidx+1:,'Cluster number'] = idx+2\n",
    "df_g = raw_df_g.dropna().reset_index(drop=True)\n",
    "print(f'There are {len(df_g)} TGs in this file and as per the paper there should be 1552.') "
   ]
  },
  {
   "cell_type": "code",
   "execution_count": 59,
   "metadata": {
    "scrolled": false
   },
   "outputs": [
    {
     "data": {
      "text/html": [
       "<div>\n",
       "<style scoped>\n",
       "    .dataframe tbody tr th:only-of-type {\n",
       "        vertical-align: middle;\n",
       "    }\n",
       "\n",
       "    .dataframe tbody tr th {\n",
       "        vertical-align: top;\n",
       "    }\n",
       "\n",
       "    .dataframe thead th {\n",
       "        text-align: right;\n",
       "    }\n",
       "</style>\n",
       "<table border=\"1\" class=\"dataframe\">\n",
       "  <thead>\n",
       "    <tr style=\"text-align: right;\">\n",
       "      <th></th>\n",
       "      <th>Genes</th>\n",
       "      <th>Gene Annotation</th>\n",
       "      <th>Cluster number</th>\n",
       "    </tr>\n",
       "  </thead>\n",
       "  <tbody>\n",
       "    <tr>\n",
       "      <td>0</td>\n",
       "      <td>cce_0052</td>\n",
       "      <td>DUF1499-containing protein</td>\n",
       "      <td>1.0</td>\n",
       "    </tr>\n",
       "    <tr>\n",
       "      <td>1</td>\n",
       "      <td>cce_0082</td>\n",
       "      <td>conserved hypothetical protein</td>\n",
       "      <td>1.0</td>\n",
       "    </tr>\n",
       "    <tr>\n",
       "      <td>2</td>\n",
       "      <td>cce_0085</td>\n",
       "      <td>hypothetical protein</td>\n",
       "      <td>1.0</td>\n",
       "    </tr>\n",
       "    <tr>\n",
       "      <td>3</td>\n",
       "      <td>cce_0087</td>\n",
       "      <td>metallophosphoesterase</td>\n",
       "      <td>1.0</td>\n",
       "    </tr>\n",
       "    <tr>\n",
       "      <td>4</td>\n",
       "      <td>cce_0115</td>\n",
       "      <td>response regulator</td>\n",
       "      <td>1.0</td>\n",
       "    </tr>\n",
       "    <tr>\n",
       "      <td>...</td>\n",
       "      <td>...</td>\n",
       "      <td>...</td>\n",
       "      <td>...</td>\n",
       "    </tr>\n",
       "    <tr>\n",
       "      <td>1547</td>\n",
       "      <td>cce_0303</td>\n",
       "      <td>bicarbontate transport system ATP-binding prot...</td>\n",
       "      <td>217.0</td>\n",
       "    </tr>\n",
       "    <tr>\n",
       "      <td>1548</td>\n",
       "      <td>cce_0224</td>\n",
       "      <td>50S ribosomal protein L10; rpl10</td>\n",
       "      <td>218.0</td>\n",
       "    </tr>\n",
       "    <tr>\n",
       "      <td>1549</td>\n",
       "      <td>cce_0183</td>\n",
       "      <td>sporulation protein; spoIID</td>\n",
       "      <td>219.0</td>\n",
       "    </tr>\n",
       "    <tr>\n",
       "      <td>1550</td>\n",
       "      <td>cce_0042</td>\n",
       "      <td>histidinol-phosphate phosphatase, HAD-superfam...</td>\n",
       "      <td>220.0</td>\n",
       "    </tr>\n",
       "    <tr>\n",
       "      <td>1551</td>\n",
       "      <td>cce_0019</td>\n",
       "      <td>conserved unknown protein</td>\n",
       "      <td>221.0</td>\n",
       "    </tr>\n",
       "  </tbody>\n",
       "</table>\n",
       "<p>1552 rows × 3 columns</p>\n",
       "</div>"
      ],
      "text/plain": [
       "         Genes                                    Gene Annotation  \\\n",
       "0     cce_0052                         DUF1499-containing protein   \n",
       "1     cce_0082                     conserved hypothetical protein   \n",
       "2     cce_0085                               hypothetical protein   \n",
       "3     cce_0087                             metallophosphoesterase   \n",
       "4     cce_0115                                 response regulator   \n",
       "...        ...                                                ...   \n",
       "1547  cce_0303  bicarbontate transport system ATP-binding prot...   \n",
       "1548  cce_0224                   50S ribosomal protein L10; rpl10   \n",
       "1549  cce_0183                        sporulation protein; spoIID   \n",
       "1550  cce_0042  histidinol-phosphate phosphatase, HAD-superfam...   \n",
       "1551  cce_0019                          conserved unknown protein   \n",
       "\n",
       "      Cluster number  \n",
       "0                1.0  \n",
       "1                1.0  \n",
       "2                1.0  \n",
       "3                1.0  \n",
       "4                1.0  \n",
       "...              ...  \n",
       "1547           217.0  \n",
       "1548           218.0  \n",
       "1549           219.0  \n",
       "1550           220.0  \n",
       "1551           221.0  \n",
       "\n",
       "[1552 rows x 3 columns]"
      ]
     },
     "execution_count": 59,
     "metadata": {},
     "output_type": "execute_result"
    }
   ],
   "source": [
    "df_g"
   ]
  },
  {
   "cell_type": "code",
   "execution_count": 60,
   "metadata": {},
   "outputs": [],
   "source": [
    "df_g['TG_name'] = df_g.apply(func1,axis=1)"
   ]
  },
  {
   "cell_type": "code",
   "execution_count": 61,
   "metadata": {},
   "outputs": [],
   "source": [
    "TG = df_g.dropna().reset_index(drop=True)"
   ]
  },
  {
   "cell_type": "code",
   "execution_count": 62,
   "metadata": {
    "scrolled": true
   },
   "outputs": [
    {
     "data": {
      "text/html": [
       "<div>\n",
       "<style scoped>\n",
       "    .dataframe tbody tr th:only-of-type {\n",
       "        vertical-align: middle;\n",
       "    }\n",
       "\n",
       "    .dataframe tbody tr th {\n",
       "        vertical-align: top;\n",
       "    }\n",
       "\n",
       "    .dataframe thead th {\n",
       "        text-align: right;\n",
       "    }\n",
       "</style>\n",
       "<table border=\"1\" class=\"dataframe\">\n",
       "  <thead>\n",
       "    <tr style=\"text-align: right;\">\n",
       "      <th></th>\n",
       "      <th>Genes</th>\n",
       "      <th>Gene Annotation</th>\n",
       "      <th>Cluster number</th>\n",
       "      <th>TG_name</th>\n",
       "    </tr>\n",
       "  </thead>\n",
       "  <tbody>\n",
       "    <tr>\n",
       "      <td>0</td>\n",
       "      <td>cce_0125</td>\n",
       "      <td>probable divalent-cation tolerance protein; cutA</td>\n",
       "      <td>1.0</td>\n",
       "      <td>cutA</td>\n",
       "    </tr>\n",
       "    <tr>\n",
       "      <td>1</td>\n",
       "      <td>cce_0145</td>\n",
       "      <td>putative circadian clock protein; kaiB4</td>\n",
       "      <td>1.0</td>\n",
       "      <td>kaiB4</td>\n",
       "    </tr>\n",
       "    <tr>\n",
       "      <td>2</td>\n",
       "      <td>cce_0371</td>\n",
       "      <td>DNA-damage-inducible/multi antimicrobial extru...</td>\n",
       "      <td>1.0</td>\n",
       "      <td>matE2</td>\n",
       "    </tr>\n",
       "    <tr>\n",
       "      <td>3</td>\n",
       "      <td>cce_0374</td>\n",
       "      <td>probable UDP-N-acetyl-D-mannosaminuronic acid ...</td>\n",
       "      <td>1.0</td>\n",
       "      <td>rffM</td>\n",
       "    </tr>\n",
       "    <tr>\n",
       "      <td>4</td>\n",
       "      <td>cce_0434</td>\n",
       "      <td>twitching motility protein; pilT2</td>\n",
       "      <td>1.0</td>\n",
       "      <td>pilT2</td>\n",
       "    </tr>\n",
       "    <tr>\n",
       "      <td>...</td>\n",
       "      <td>...</td>\n",
       "      <td>...</td>\n",
       "      <td>...</td>\n",
       "      <td>...</td>\n",
       "    </tr>\n",
       "    <tr>\n",
       "      <td>445</td>\n",
       "      <td>cce_0548</td>\n",
       "      <td>iron-sulfur cofactor synthesis protein; nifZ</td>\n",
       "      <td>211.0</td>\n",
       "      <td>nifZ</td>\n",
       "    </tr>\n",
       "    <tr>\n",
       "      <td>446</td>\n",
       "      <td>cce_0435</td>\n",
       "      <td>circadian clock protein; kaiB3</td>\n",
       "      <td>214.0</td>\n",
       "      <td>kaiB3</td>\n",
       "    </tr>\n",
       "    <tr>\n",
       "      <td>447</td>\n",
       "      <td>cce_0303</td>\n",
       "      <td>bicarbontate transport system ATP-binding prot...</td>\n",
       "      <td>217.0</td>\n",
       "      <td>cmpC</td>\n",
       "    </tr>\n",
       "    <tr>\n",
       "      <td>448</td>\n",
       "      <td>cce_0224</td>\n",
       "      <td>50S ribosomal protein L10; rpl10</td>\n",
       "      <td>218.0</td>\n",
       "      <td>rpl10</td>\n",
       "    </tr>\n",
       "    <tr>\n",
       "      <td>449</td>\n",
       "      <td>cce_0183</td>\n",
       "      <td>sporulation protein; spoIID</td>\n",
       "      <td>219.0</td>\n",
       "      <td>spoIID</td>\n",
       "    </tr>\n",
       "  </tbody>\n",
       "</table>\n",
       "<p>450 rows × 4 columns</p>\n",
       "</div>"
      ],
      "text/plain": [
       "        Genes                                    Gene Annotation  \\\n",
       "0    cce_0125   probable divalent-cation tolerance protein; cutA   \n",
       "1    cce_0145            putative circadian clock protein; kaiB4   \n",
       "2    cce_0371  DNA-damage-inducible/multi antimicrobial extru...   \n",
       "3    cce_0374  probable UDP-N-acetyl-D-mannosaminuronic acid ...   \n",
       "4    cce_0434                  twitching motility protein; pilT2   \n",
       "..        ...                                                ...   \n",
       "445  cce_0548       iron-sulfur cofactor synthesis protein; nifZ   \n",
       "446  cce_0435                     circadian clock protein; kaiB3   \n",
       "447  cce_0303  bicarbontate transport system ATP-binding prot...   \n",
       "448  cce_0224                   50S ribosomal protein L10; rpl10   \n",
       "449  cce_0183                        sporulation protein; spoIID   \n",
       "\n",
       "     Cluster number  TG_name  \n",
       "0               1.0     cutA  \n",
       "1               1.0    kaiB4  \n",
       "2               1.0    matE2  \n",
       "3               1.0     rffM  \n",
       "4               1.0    pilT2  \n",
       "..              ...      ...  \n",
       "445           211.0     nifZ  \n",
       "446           214.0    kaiB3  \n",
       "447           217.0     cmpC  \n",
       "448           218.0    rpl10  \n",
       "449           219.0   spoIID  \n",
       "\n",
       "[450 rows x 4 columns]"
      ]
     },
     "execution_count": 62,
     "metadata": {},
     "output_type": "execute_result"
    }
   ],
   "source": [
    "TG"
   ]
  },
  {
   "cell_type": "markdown",
   "metadata": {},
   "source": [
    "**Comments**: The paper presents a regulatory influence network for both cyanothece and synechocystic using a linear ode based model that was optimized to explain the maximum expression of genes. The system was simplified by forming clusters of TFs and Genes. "
   ]
  },
  {
   "cell_type": "markdown",
   "metadata": {},
   "source": [
    "# Find the TFs with TF_name that has target genes pointed out in literature sources."
   ]
  },
  {
   "cell_type": "code",
   "execution_count": 63,
   "metadata": {
    "scrolled": false
   },
   "outputs": [
    {
     "data": {
      "text/plain": [
       "0      kaiB4\n",
       "1       ntcA\n",
       "2       sasA\n",
       "3       fur1\n",
       "4       pknA\n",
       "5       cyaA\n",
       "6       ccdA\n",
       "7       ntcB\n",
       "8       sigA\n",
       "9       sigH\n",
       "10      phoU\n",
       "11      rpaB\n",
       "12     kaiB3\n",
       "13      patB\n",
       "14      sigF\n",
       "15       pgk\n",
       "16      sigD\n",
       "17      sigJ\n",
       "18      sigE\n",
       "19      rpaA\n",
       "Name: TF_name, dtype: object"
      ]
     },
     "execution_count": 63,
     "metadata": {},
     "output_type": "execute_result"
    }
   ],
   "source": [
    "TF.loc[:,\"TF_name\"]"
   ]
  },
  {
   "cell_type": "code",
   "execution_count": 64,
   "metadata": {},
   "outputs": [],
   "source": [
    "'''format dictionary with keys as the TF, values as another dictionary with keys 0 or 1 or 2 or 3 denoting negative \n",
    "or positive or feedback or unknown interaction and values as a set of tuples with the first element the target gene \n",
    "and second the literature source'''\n",
    "\n",
    "#kaiB4\n",
    "# triggers glycogen catabolism : https://journals.sagepub.com/doi/abs/10.1177/0748730409338367\n",
    "interactions = {'kaiB4':{1:{('kaiC6','https://journals.sagepub.com/doi/pdf/10.1177/0748730409338367')},\n",
    "                  0:{('cpkaiC6','https://journals.sagepub.com/doi/pdf/10.1177/0748730409338367')}}}\n"
   ]
  },
  {
   "cell_type": "code",
   "execution_count": 65,
   "metadata": {},
   "outputs": [],
   "source": [
    "# ntcA\n",
    "# global nitrogen regulator \n",
    "# involved in nitrogen fixation : https://bmcbioinformatics.biomedcentral.com/articles/10.1186/1471-2105-14-S2-S14\n",
    "interactions['ntcA'] = {2:{('patB','https://pubs.rsc.org/en/content/articlelanding/2011/MB/c1mb05006k#!divAbstract')},\n",
    "                        0:{('nifHDK','https://jb.asm.org/content/179/13/4407.long')}}"
   ]
  },
  {
   "cell_type": "code",
   "execution_count": 66,
   "metadata": {},
   "outputs": [],
   "source": [
    "# sasA\n",
    "interactions['sasA'] = {1:{('rpaA','https://www.ncbi.nlm.nih.gov/pmc/articles/PMC3549803/')}}"
   ]
  },
  {
   "cell_type": "code",
   "execution_count": 67,
   "metadata": {},
   "outputs": [],
   "source": [
    "# fur1\n",
    "# ferric uptake regulation protein"
   ]
  },
  {
   "cell_type": "code",
   "execution_count": 68,
   "metadata": {},
   "outputs": [],
   "source": [
    "# pknA"
   ]
  },
  {
   "cell_type": "code",
   "execution_count": 69,
   "metadata": {},
   "outputs": [],
   "source": [
    "# cyaA"
   ]
  },
  {
   "cell_type": "code",
   "execution_count": 70,
   "metadata": {},
   "outputs": [],
   "source": [
    "# ccdA"
   ]
  },
  {
   "cell_type": "code",
   "execution_count": 71,
   "metadata": {},
   "outputs": [],
   "source": [
    "# ntcB\n",
    "# involved in nitrogen fixation : https://bmcbioinformatics.biomedcentral.com/articles/10.1186/1471-2105-14-S2-S14"
   ]
  },
  {
   "cell_type": "code",
   "execution_count": 72,
   "metadata": {},
   "outputs": [],
   "source": [
    "# sigA"
   ]
  },
  {
   "cell_type": "code",
   "execution_count": 73,
   "metadata": {},
   "outputs": [],
   "source": [
    "# sigH"
   ]
  },
  {
   "cell_type": "code",
   "execution_count": 74,
   "metadata": {},
   "outputs": [],
   "source": [
    "# phoU"
   ]
  },
  {
   "cell_type": "code",
   "execution_count": 75,
   "metadata": {},
   "outputs": [],
   "source": [
    "# rpaB\n",
    "# 'The proteins RpaA (cce_0298) and RpaB (cce_4002) are OmpR-type DNA-binding response regulators that have previously\n",
    "# been found to control coupling of phycobilisomes to photosynthetic reaction centers Later studies uncovered that \n",
    "# RpaA interacts as part of a two component system with the histidine kinase SasA that mediates a circadian timing \n",
    "# signal from the posttranslational oscillator to the transcriptional machinery. In contrast, RpaB was found to bind to\n",
    "# a conserved promoter sequence of hliB and various PSI genes under low light conditions ' \n",
    "# : https://journals.plos.org/plosone/article?id=10.1371/journal.pone.0016680\n"
   ]
  },
  {
   "cell_type": "code",
   "execution_count": 76,
   "metadata": {},
   "outputs": [],
   "source": [
    "# kaiB3"
   ]
  },
  {
   "cell_type": "code",
   "execution_count": 77,
   "metadata": {},
   "outputs": [],
   "source": [
    "# patB\n",
    "# involved in nitrogen fixation : https://bmcbioinformatics.biomedcentral.com/articles/10.1186/1471-2105-14-S2-S14\n",
    "interactions['patB'] = {2:{('ntcA','https://pubs.rsc.org/en/content/articlelanding/2011/MB/c1mb05006k#!divAbstract')}}"
   ]
  },
  {
   "cell_type": "code",
   "execution_count": 78,
   "metadata": {},
   "outputs": [],
   "source": [
    "# sigF"
   ]
  },
  {
   "cell_type": "code",
   "execution_count": 79,
   "metadata": {},
   "outputs": [],
   "source": [
    "# pgk"
   ]
  },
  {
   "cell_type": "code",
   "execution_count": 80,
   "metadata": {},
   "outputs": [],
   "source": [
    "# sigD light induced\n",
    "# sigma factor\n",
    "# 'https://journals.plos.org/plosone/article?id=10.1371/journal.pone.0125148'"
   ]
  },
  {
   "cell_type": "code",
   "execution_count": 81,
   "metadata": {},
   "outputs": [],
   "source": [
    "# sigJ"
   ]
  },
  {
   "cell_type": "code",
   "execution_count": 82,
   "metadata": {},
   "outputs": [],
   "source": [
    "# sigE light induced \n",
    "# 'sigma factors may be taking input from the clock proteins and reiterating role of circadian clock in global \n",
    "# gene expression regulation in cyanobacteria'  "
   ]
  },
  {
   "cell_type": "code",
   "execution_count": 83,
   "metadata": {},
   "outputs": [],
   "source": [
    "# rpaA # master clock regulator: 'https://journals.plos.org/plosone/article?id=10.1371/journal.pone.0125148'"
   ]
  },
  {
   "cell_type": "code",
   "execution_count": 84,
   "metadata": {},
   "outputs": [],
   "source": [
    "# sig B dark induced"
   ]
  },
  {
   "cell_type": "code",
   "execution_count": 95,
   "metadata": {},
   "outputs": [],
   "source": [
    "H = nx.Graph()\n",
    "nodes = ['kaiB4','kaiC6','ntcA','sasA','patB','nifHDK','cpkaiC6','rpaA']\n",
    "edges = [('kaiB4','kaiC6',{'weight':1}),('kaiB4','cpkaiC6',{'weight':0}),('ntcA','patB',{'weight':2}),\n",
    "                           ('ntcA','nifHDK',{'weight':0}),\n",
    "         ('sasA','rpaA',{'weight':1}),('patB','ntcA',{'weight':2})]\n",
    "\n",
    "H.add_nodes_from(nodes)\n",
    "H.add_edges_from(edges)"
   ]
  },
  {
   "cell_type": "code",
   "execution_count": 96,
   "metadata": {},
   "outputs": [
    {
     "data": {
      "image/png": "[encoded data removed]",
      "text/plain": [
       "<Figure size 432x288 with 1 Axes>"
      ]
     },
     "metadata": {},
     "output_type": "display_data"
    }
   ],
   "source": [
    "import matplotlib.pyplot as plt\n",
    "nx.draw(H,with_labels=True,node_size=1500)"
   ]
  }
 ],
 "metadata": {
  "kernelspec": {
   "display_name": "Python 3",
   "language": "python",
   "name": "python3"
  },
  "language_info": {
   "codemirror_mode": {
    "name": "ipython",
    "version": 3
   },
   "file_extension": ".py",
   "mimetype": "text/x-python",
   "name": "python",
   "nbconvert_exporter": "python",
   "pygments_lexer": "ipython3",
   "version": "3.7.4"
  }
 },
 "nbformat": 4,
 "nbformat_minor": 2
}
