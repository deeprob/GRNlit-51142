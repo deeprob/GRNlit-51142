{
 "cells": [
  {
   "cell_type": "markdown",
   "metadata": {},
   "source": [
    "Global transcriptomic analysis of Cyanothece 51142 reveals robust diurnal oscillation of central metabolic processes\n",
    "\n",
    "Jana Stöckel, Eric A. Welsh, Michelle Liberton, Rangesh Kunnvakkam, Rajeev Aurora, and Himadri B. Pakrasi\n",
    "\n",
    "https://www.pnas.org/content/105/16/6156"
   ]
  },
  {
   "cell_type": "code",
   "execution_count": 1,
   "metadata": {},
   "outputs": [],
   "source": [
    "import numpy as np\n",
    "import pandas as pd\n",
    "raw_df = pd.read_excel(\"4 - JSData/4-SD3.xls\",sheet_name=0,header=1,usecols=[0,2],skipfooter=4)"
   ]
  },
  {
   "cell_type": "code",
   "execution_count": 2,
   "metadata": {},
   "outputs": [
    {
     "data": {
      "text/html": [
       "<div>\n",
       "<style scoped>\n",
       "    .dataframe tbody tr th:only-of-type {\n",
       "        vertical-align: middle;\n",
       "    }\n",
       "\n",
       "    .dataframe tbody tr th {\n",
       "        vertical-align: top;\n",
       "    }\n",
       "\n",
       "    .dataframe thead th {\n",
       "        text-align: right;\n",
       "    }\n",
       "</style>\n",
       "<table border=\"1\" class=\"dataframe\">\n",
       "  <thead>\n",
       "    <tr style=\"text-align: right;\">\n",
       "      <th></th>\n",
       "      <th>ORF**</th>\n",
       "      <th>ANNOTATION††</th>\n",
       "    </tr>\n",
       "  </thead>\n",
       "  <tbody>\n",
       "    <tr>\n",
       "      <td>0</td>\n",
       "      <td>cce_1117</td>\n",
       "      <td>probable proteinase inhibitor I4, serpin</td>\n",
       "    </tr>\n",
       "    <tr>\n",
       "      <td>1</td>\n",
       "      <td>cce_3464</td>\n",
       "      <td>hypothetical protein</td>\n",
       "    </tr>\n",
       "    <tr>\n",
       "      <td>2</td>\n",
       "      <td>cce_1462</td>\n",
       "      <td>unknown protein</td>\n",
       "    </tr>\n",
       "    <tr>\n",
       "      <td>3</td>\n",
       "      <td>cce_2038</td>\n",
       "      <td>carbamoyl-phosphate synthase, large subunit; carB</td>\n",
       "    </tr>\n",
       "    <tr>\n",
       "      <td>4</td>\n",
       "      <td>cce_4757</td>\n",
       "      <td>bifunctional cobalbumin biosynthesis enzyme; c...</td>\n",
       "    </tr>\n",
       "  </tbody>\n",
       "</table>\n",
       "</div>"
      ],
      "text/plain": [
       "      ORF**                                       ANNOTATION††\n",
       "0  cce_1117           probable proteinase inhibitor I4, serpin\n",
       "1  cce_3464                               hypothetical protein\n",
       "2  cce_1462                                    unknown protein\n",
       "3  cce_2038  carbamoyl-phosphate synthase, large subunit; carB\n",
       "4  cce_4757  bifunctional cobalbumin biosynthesis enzyme; c..."
      ]
     },
     "execution_count": 2,
     "metadata": {},
     "output_type": "execute_result"
    }
   ],
   "source": [
    "raw_df.head()"
   ]
  },
  {
   "cell_type": "code",
   "execution_count": 3,
   "metadata": {},
   "outputs": [
    {
     "data": {
      "text/plain": [
       " ORF**                      cce_1931\n",
       "ANNOTATION††    hypothetical protein\n",
       "Name: 198, dtype: object"
      ]
     },
     "execution_count": 3,
     "metadata": {},
     "output_type": "execute_result"
    }
   ],
   "source": [
    "raw_df.iloc[-1]"
   ]
  },
  {
   "cell_type": "code",
   "execution_count": 4,
   "metadata": {},
   "outputs": [
    {
     "data": {
      "text/plain": [
       "Index([' ORF**', 'ANNOTATION††'], dtype='object')"
      ]
     },
     "execution_count": 4,
     "metadata": {},
     "output_type": "execute_result"
    }
   ],
   "source": [
    "raw_df.columns"
   ]
  },
  {
   "cell_type": "code",
   "execution_count": 5,
   "metadata": {
    "scrolled": true
   },
   "outputs": [],
   "source": [
    "def func1(row):\n",
    "    if row['ANNOTATION††'].find(';')!=-1:\n",
    "        return row[' ORF**'] + \" \" + row['ANNOTATION††'][row['ANNOTATION††'].find(';')+1:] \n",
    "    else:\n",
    "        return row[' ORF**']\n",
    "raw_df['SOURCE'] = raw_df.apply(func1,axis=1)"
   ]
  },
  {
   "cell_type": "code",
   "execution_count": 6,
   "metadata": {},
   "outputs": [],
   "source": [
    "df = raw_df.dropna()"
   ]
  },
  {
   "cell_type": "code",
   "execution_count": 7,
   "metadata": {},
   "outputs": [
    {
     "data": {
      "text/plain": [
       "199"
      ]
     },
     "execution_count": 7,
     "metadata": {},
     "output_type": "execute_result"
    }
   ],
   "source": [
    "len(df)"
   ]
  },
  {
   "cell_type": "code",
   "execution_count": 10,
   "metadata": {},
   "outputs": [],
   "source": [
    "df.to_excel('4 - JSData/myFile4.xlsx',columns=['SOURCE'])"
   ]
  },
  {
   "cell_type": "code",
   "execution_count": 11,
   "metadata": {},
   "outputs": [],
   "source": [
    "raw_df2 = pd.read_excel(\"4 - JSData/4-SD3.xls\",sheet_name=1,header=1,usecols=[0,2],skipfooter=4)\n",
    "raw_df2['SOURCE'] = raw_df2.apply(func1,axis=1)\n",
    "df2 = raw_df2.dropna()\n",
    "df2.to_excel('4 - JSData/myFile4-2.xlsx',columns=['SOURCE'])"
   ]
  },
  {
   "cell_type": "code",
   "execution_count": 12,
   "metadata": {},
   "outputs": [],
   "source": [
    "raw_df3 = pd.read_excel(\"4 - JSData/4-SD3.xls\",sheet_name=2,header=1,usecols=[0,2],skipfooter=4)\n",
    "raw_df3['SOURCE'] = raw_df3.apply(func1,axis=1)\n",
    "df3 = raw_df3.dropna()\n",
    "df3.to_excel('4 - JSData/myFile4-3.xlsx',columns=['SOURCE'])"
   ]
  },
  {
   "cell_type": "code",
   "execution_count": 13,
   "metadata": {},
   "outputs": [],
   "source": [
    "raw_df4 = pd.read_excel(\"4 - JSData/4-SD3.xls\",sheet_name=3,header=1,usecols=[0,2],skipfooter=4)\n",
    "raw_df4['SOURCE'] = raw_df4.apply(func1,axis=1)\n",
    "df4 = raw_df4.dropna()\n",
    "df4.to_excel('4 - JSData/myFile4-4.xlsx',columns=['SOURCE'])"
   ]
  },
  {
   "cell_type": "markdown",
   "metadata": {},
   "source": [
    "# Download the file that has light dark expression information and metabolic pathway information"
   ]
  },
  {
   "cell_type": "markdown",
   "metadata": {},
   "source": [
    "Use only 3 columns because the rest are not important at this moment"
   ]
  },
  {
   "cell_type": "code",
   "execution_count": 134,
   "metadata": {},
   "outputs": [],
   "source": [
    "df = pd.read_excel(\"4 - JSData/SD4.xls\",usecols=[0,2],header=2,skipfooter=6).dropna(how='all')"
   ]
  },
  {
   "cell_type": "code",
   "execution_count": 135,
   "metadata": {},
   "outputs": [],
   "source": [
    "df.columns = ['ORF','Function']"
   ]
  },
  {
   "cell_type": "markdown",
   "metadata": {},
   "source": [
    "Must drop 2 indices which do not have any information"
   ]
  },
  {
   "cell_type": "code",
   "execution_count": 140,
   "metadata": {},
   "outputs": [
    {
     "data": {
      "text/html": [
       "<div>\n",
       "<style scoped>\n",
       "    .dataframe tbody tr th:only-of-type {\n",
       "        vertical-align: middle;\n",
       "    }\n",
       "\n",
       "    .dataframe tbody tr th {\n",
       "        vertical-align: top;\n",
       "    }\n",
       "\n",
       "    .dataframe thead th {\n",
       "        text-align: right;\n",
       "    }\n",
       "</style>\n",
       "<table border=\"1\" class=\"dataframe\">\n",
       "  <thead>\n",
       "    <tr style=\"text-align: right;\">\n",
       "      <th></th>\n",
       "      <th>ORF</th>\n",
       "      <th>Function</th>\n",
       "    </tr>\n",
       "  </thead>\n",
       "  <tbody>\n",
       "    <tr>\n",
       "      <td>100</td>\n",
       "      <td>LIGHT</td>\n",
       "      <td>PATHWAY / ANNOTATION</td>\n",
       "    </tr>\n",
       "    <tr>\n",
       "      <td>101</td>\n",
       "      <td>ORF**</td>\n",
       "      <td>PHOTOSYNTHESIS</td>\n",
       "    </tr>\n",
       "  </tbody>\n",
       "</table>\n",
       "</div>"
      ],
      "text/plain": [
       "       ORF              Function\n",
       "100  LIGHT  PATHWAY / ANNOTATION\n",
       "101  ORF**        PHOTOSYNTHESIS"
      ]
     },
     "execution_count": 140,
     "metadata": {},
     "output_type": "execute_result"
    }
   ],
   "source": [
    "df.iloc[94:96]"
   ]
  },
  {
   "cell_type": "code",
   "execution_count": 145,
   "metadata": {},
   "outputs": [
    {
     "data": {
      "text/plain": [
       "ORF                  ORF**\n",
       "Function    PHOTOSYNTHESIS\n",
       "Name: 101, dtype: object"
      ]
     },
     "execution_count": 145,
     "metadata": {},
     "output_type": "execute_result"
    }
   ],
   "source": [
    "df.loc[101]"
   ]
  },
  {
   "cell_type": "code",
   "execution_count": 146,
   "metadata": {},
   "outputs": [],
   "source": [
    "df.drop([100,101],inplace=True)"
   ]
  },
  {
   "cell_type": "code",
   "execution_count": 150,
   "metadata": {},
   "outputs": [],
   "source": [
    "df.reset_index(drop=True,inplace=True)"
   ]
  },
  {
   "cell_type": "code",
   "execution_count": 151,
   "metadata": {},
   "outputs": [
    {
     "data": {
      "text/html": [
       "<div>\n",
       "<style scoped>\n",
       "    .dataframe tbody tr th:only-of-type {\n",
       "        vertical-align: middle;\n",
       "    }\n",
       "\n",
       "    .dataframe tbody tr th {\n",
       "        vertical-align: top;\n",
       "    }\n",
       "\n",
       "    .dataframe thead th {\n",
       "        text-align: right;\n",
       "    }\n",
       "</style>\n",
       "<table border=\"1\" class=\"dataframe\">\n",
       "  <thead>\n",
       "    <tr style=\"text-align: right;\">\n",
       "      <th></th>\n",
       "      <th>ORF</th>\n",
       "      <th>Function</th>\n",
       "    </tr>\n",
       "  </thead>\n",
       "  <tbody>\n",
       "    <tr>\n",
       "      <td>0</td>\n",
       "      <td>cce_0666</td>\n",
       "      <td>glucose-6-phosphate isomerase; pgi1</td>\n",
       "    </tr>\n",
       "    <tr>\n",
       "      <td>1</td>\n",
       "      <td>cce_5178</td>\n",
       "      <td>glucose-6-phosphate isomerase; pgi2</td>\n",
       "    </tr>\n",
       "    <tr>\n",
       "      <td>2</td>\n",
       "      <td>cce_0669</td>\n",
       "      <td>6-phosphofructokinase; pfkA1</td>\n",
       "    </tr>\n",
       "    <tr>\n",
       "      <td>3</td>\n",
       "      <td>cce_3253</td>\n",
       "      <td>6-phosphofructokinase; pfkA2</td>\n",
       "    </tr>\n",
       "    <tr>\n",
       "      <td>4</td>\n",
       "      <td>cce_4758</td>\n",
       "      <td>fructose 1,6-bisphosphatase I</td>\n",
       "    </tr>\n",
       "    <tr>\n",
       "      <td>...</td>\n",
       "      <td>...</td>\n",
       "      <td>...</td>\n",
       "    </tr>\n",
       "    <tr>\n",
       "      <td>224</td>\n",
       "      <td>cce_4627</td>\n",
       "      <td>transketolase; tktA</td>\n",
       "    </tr>\n",
       "    <tr>\n",
       "      <td>225</td>\n",
       "      <td>cce_0798</td>\n",
       "      <td>ribulose-phosphate 3-epimerase; rpe</td>\n",
       "    </tr>\n",
       "    <tr>\n",
       "      <td>226</td>\n",
       "      <td>cce_0103</td>\n",
       "      <td>ribose 5-phosphate isomerase; rpiA</td>\n",
       "    </tr>\n",
       "    <tr>\n",
       "      <td>227</td>\n",
       "      <td>cce_4304</td>\n",
       "      <td>triosephosphate isomerase; tpi</td>\n",
       "    </tr>\n",
       "    <tr>\n",
       "      <td>228</td>\n",
       "      <td>cce_0995</td>\n",
       "      <td>phosphoribulokinase; prk</td>\n",
       "    </tr>\n",
       "  </tbody>\n",
       "</table>\n",
       "<p>229 rows × 2 columns</p>\n",
       "</div>"
      ],
      "text/plain": [
       "          ORF                              Function\n",
       "0    cce_0666   glucose-6-phosphate isomerase; pgi1\n",
       "1    cce_5178  glucose-6-phosphate isomerase; pgi2 \n",
       "2    cce_0669          6-phosphofructokinase; pfkA1\n",
       "3    cce_3253          6-phosphofructokinase; pfkA2\n",
       "4    cce_4758         fructose 1,6-bisphosphatase I\n",
       "..        ...                                   ...\n",
       "224  cce_4627                   transketolase; tktA\n",
       "225  cce_0798   ribulose-phosphate 3-epimerase; rpe\n",
       "226  cce_0103    ribose 5-phosphate isomerase; rpiA\n",
       "227  cce_4304        triosephosphate isomerase; tpi\n",
       "228  cce_0995              phosphoribulokinase; prk\n",
       "\n",
       "[229 rows x 2 columns]"
      ]
     },
     "execution_count": 151,
     "metadata": {},
     "output_type": "execute_result"
    }
   ],
   "source": [
    "df"
   ]
  },
  {
   "cell_type": "markdown",
   "metadata": {},
   "source": [
    "Firstly, include the dark/light expression. Till index 93 is dark phase expression genes."
   ]
  },
  {
   "cell_type": "code",
   "execution_count": 152,
   "metadata": {},
   "outputs": [],
   "source": [
    "df['Expression'] = 'D'"
   ]
  },
  {
   "cell_type": "code",
   "execution_count": 153,
   "metadata": {},
   "outputs": [
    {
     "data": {
      "text/plain": [
       "ORF                                  cce_0568\n",
       "Function      nitrogen fixation protein; nifW\n",
       "Expression                                  D\n",
       "Name: 93, dtype: object"
      ]
     },
     "execution_count": 153,
     "metadata": {},
     "output_type": "execute_result"
    }
   ],
   "source": [
    "df.iloc[93]"
   ]
  },
  {
   "cell_type": "code",
   "execution_count": 155,
   "metadata": {},
   "outputs": [],
   "source": [
    "df.loc[94:,'Expression'] = 'L'"
   ]
  },
  {
   "cell_type": "markdown",
   "metadata": {},
   "source": [
    "Now we can define the pathway"
   ]
  },
  {
   "cell_type": "code",
   "execution_count": 156,
   "metadata": {},
   "outputs": [],
   "source": [
    "df['pathway'] = 'unknown'"
   ]
  },
  {
   "cell_type": "markdown",
   "metadata": {},
   "source": [
    "Till index 25 is Glycolysis"
   ]
  },
  {
   "cell_type": "code",
   "execution_count": 159,
   "metadata": {},
   "outputs": [],
   "source": [
    "df.loc[:25,'pathway'] = 'Glycolysis'"
   ]
  },
  {
   "cell_type": "code",
   "execution_count": 160,
   "metadata": {},
   "outputs": [
    {
     "data": {
      "text/plain": [
       "ORF                          cce_0606\n",
       "Function      phosphoglucomutase; pgm\n",
       "Expression                          D\n",
       "pathway                    Glycolysis\n",
       "Name: 25, dtype: object"
      ]
     },
     "execution_count": 160,
     "metadata": {},
     "output_type": "execute_result"
    }
   ],
   "source": [
    "df.iloc[25]"
   ]
  },
  {
   "cell_type": "markdown",
   "metadata": {},
   "source": [
    "Now find the indices which has null values of ORF, those should give the pathway names. Use a technique calle dmask"
   ]
  },
  {
   "cell_type": "code",
   "execution_count": 161,
   "metadata": {},
   "outputs": [
    {
     "data": {
      "text/html": [
       "<div>\n",
       "<style scoped>\n",
       "    .dataframe tbody tr th:only-of-type {\n",
       "        vertical-align: middle;\n",
       "    }\n",
       "\n",
       "    .dataframe tbody tr th {\n",
       "        vertical-align: top;\n",
       "    }\n",
       "\n",
       "    .dataframe thead th {\n",
       "        text-align: right;\n",
       "    }\n",
       "</style>\n",
       "<table border=\"1\" class=\"dataframe\">\n",
       "  <thead>\n",
       "    <tr style=\"text-align: right;\">\n",
       "      <th></th>\n",
       "      <th>ORF</th>\n",
       "      <th>Function</th>\n",
       "      <th>Expression</th>\n",
       "      <th>pathway</th>\n",
       "    </tr>\n",
       "  </thead>\n",
       "  <tbody>\n",
       "    <tr>\n",
       "      <td>26</td>\n",
       "      <td>NaN</td>\n",
       "      <td>Glycogen degradation</td>\n",
       "      <td>D</td>\n",
       "      <td>unknown</td>\n",
       "    </tr>\n",
       "    <tr>\n",
       "      <td>34</td>\n",
       "      <td>NaN</td>\n",
       "      <td>TCA cycle</td>\n",
       "      <td>D</td>\n",
       "      <td>unknown</td>\n",
       "    </tr>\n",
       "    <tr>\n",
       "      <td>49</td>\n",
       "      <td>NaN</td>\n",
       "      <td>Oxidative Pentose Phosphate Cycle</td>\n",
       "      <td>D</td>\n",
       "      <td>unknown</td>\n",
       "    </tr>\n",
       "    <tr>\n",
       "      <td>59</td>\n",
       "      <td>NaN</td>\n",
       "      <td>Amino acid biosynthesis</td>\n",
       "      <td>D</td>\n",
       "      <td>unknown</td>\n",
       "    </tr>\n",
       "    <tr>\n",
       "      <td>77</td>\n",
       "      <td>NaN</td>\n",
       "      <td>Nitrogen fixation</td>\n",
       "      <td>D</td>\n",
       "      <td>unknown</td>\n",
       "    </tr>\n",
       "    <tr>\n",
       "      <td>94</td>\n",
       "      <td>NaN</td>\n",
       "      <td>Photosystem II</td>\n",
       "      <td>L</td>\n",
       "      <td>unknown</td>\n",
       "    </tr>\n",
       "    <tr>\n",
       "      <td>120</td>\n",
       "      <td>NaN</td>\n",
       "      <td>Photosystem I</td>\n",
       "      <td>L</td>\n",
       "      <td>unknown</td>\n",
       "    </tr>\n",
       "    <tr>\n",
       "      <td>133</td>\n",
       "      <td>NaN</td>\n",
       "      <td>Cytochrome b6/f complex</td>\n",
       "      <td>L</td>\n",
       "      <td>unknown</td>\n",
       "    </tr>\n",
       "    <tr>\n",
       "      <td>140</td>\n",
       "      <td>NaN</td>\n",
       "      <td>Photosynthetic electron transport</td>\n",
       "      <td>L</td>\n",
       "      <td>unknown</td>\n",
       "    </tr>\n",
       "    <tr>\n",
       "      <td>149</td>\n",
       "      <td>NaN</td>\n",
       "      <td>Phycobilisome</td>\n",
       "      <td>L</td>\n",
       "      <td>unknown</td>\n",
       "    </tr>\n",
       "    <tr>\n",
       "      <td>164</td>\n",
       "      <td>NaN</td>\n",
       "      <td>ATP Synthase</td>\n",
       "      <td>L</td>\n",
       "      <td>unknown</td>\n",
       "    </tr>\n",
       "    <tr>\n",
       "      <td>180</td>\n",
       "      <td>NaN</td>\n",
       "      <td>CO2 uptake</td>\n",
       "      <td>L</td>\n",
       "      <td>unknown</td>\n",
       "    </tr>\n",
       "    <tr>\n",
       "      <td>198</td>\n",
       "      <td>NaN</td>\n",
       "      <td>CO2 fixation</td>\n",
       "      <td>L</td>\n",
       "      <td>unknown</td>\n",
       "    </tr>\n",
       "    <tr>\n",
       "      <td>213</td>\n",
       "      <td>NaN</td>\n",
       "      <td>Glycogen synthesis</td>\n",
       "      <td>L</td>\n",
       "      <td>unknown</td>\n",
       "    </tr>\n",
       "    <tr>\n",
       "      <td>223</td>\n",
       "      <td>NaN</td>\n",
       "      <td>Reductive Pentose Phorsphate Pathway</td>\n",
       "      <td>L</td>\n",
       "      <td>unknown</td>\n",
       "    </tr>\n",
       "  </tbody>\n",
       "</table>\n",
       "</div>"
      ],
      "text/plain": [
       "     ORF                              Function Expression  pathway\n",
       "26   NaN                  Glycogen degradation          D  unknown\n",
       "34   NaN                             TCA cycle          D  unknown\n",
       "49   NaN     Oxidative Pentose Phosphate Cycle          D  unknown\n",
       "59   NaN               Amino acid biosynthesis          D  unknown\n",
       "77   NaN                     Nitrogen fixation          D  unknown\n",
       "94   NaN                        Photosystem II          L  unknown\n",
       "120  NaN                         Photosystem I          L  unknown\n",
       "133  NaN               Cytochrome b6/f complex          L  unknown\n",
       "140  NaN     Photosynthetic electron transport          L  unknown\n",
       "149  NaN                         Phycobilisome          L  unknown\n",
       "164  NaN                          ATP Synthase          L  unknown\n",
       "180  NaN                            CO2 uptake          L  unknown\n",
       "198  NaN                          CO2 fixation          L  unknown\n",
       "213  NaN                    Glycogen synthesis          L  unknown\n",
       "223  NaN  Reductive Pentose Phorsphate Pathway          L  unknown"
      ]
     },
     "execution_count": 161,
     "metadata": {},
     "output_type": "execute_result"
    }
   ],
   "source": [
    "mask = df.ORF.isnull()\n",
    "df[mask]"
   ]
  },
  {
   "cell_type": "markdown",
   "metadata": {},
   "source": [
    "As we can see, all of them corresponds to some pathway. Now, from the start index to the next, we will define the pathways."
   ]
  },
  {
   "cell_type": "code",
   "execution_count": 164,
   "metadata": {},
   "outputs": [],
   "source": [
    "index = list(df[mask].index)"
   ]
  },
  {
   "cell_type": "code",
   "execution_count": 165,
   "metadata": {},
   "outputs": [
    {
     "data": {
      "text/plain": [
       "[26, 34, 49, 59, 77, 94, 120, 133, 140, 149, 164, 180, 198, 213, 223]"
      ]
     },
     "execution_count": 165,
     "metadata": {},
     "output_type": "execute_result"
    }
   ],
   "source": [
    "index"
   ]
  },
  {
   "cell_type": "code",
   "execution_count": 167,
   "metadata": {},
   "outputs": [
    {
     "data": {
      "text/plain": [
       "'Glycogen degradation'"
      ]
     },
     "execution_count": 167,
     "metadata": {},
     "output_type": "execute_result"
    }
   ],
   "source": [
    "df.iloc[index[0]]['Function']"
   ]
  },
  {
   "cell_type": "code",
   "execution_count": 168,
   "metadata": {},
   "outputs": [],
   "source": [
    "previdx = index[0]\n",
    "for i in index[1:]:\n",
    "    currentidx = i\n",
    "    df.loc[previdx:currentidx,'pathway'] = df.iloc[previdx]['Function']\n",
    "    previdx = currentidx\n",
    "df.loc[previdx:,'pathway'] = df.iloc[previdx]['Function']"
   ]
  },
  {
   "cell_type": "code",
   "execution_count": 178,
   "metadata": {},
   "outputs": [
    {
     "data": {
      "text/plain": [
       "ORF                                       cce_4627\n",
       "Function                       transketolase; tktA\n",
       "Expression                                       L\n",
       "pathway       Reductive Pentose Phorsphate Pathway\n",
       "Name: 224, dtype: object"
      ]
     },
     "execution_count": 178,
     "metadata": {},
     "output_type": "execute_result"
    }
   ],
   "source": [
    "df.iloc[224]"
   ]
  },
  {
   "cell_type": "code",
   "execution_count": 179,
   "metadata": {},
   "outputs": [
    {
     "data": {
      "text/html": [
       "<div>\n",
       "<style scoped>\n",
       "    .dataframe tbody tr th:only-of-type {\n",
       "        vertical-align: middle;\n",
       "    }\n",
       "\n",
       "    .dataframe tbody tr th {\n",
       "        vertical-align: top;\n",
       "    }\n",
       "\n",
       "    .dataframe thead th {\n",
       "        text-align: right;\n",
       "    }\n",
       "</style>\n",
       "<table border=\"1\" class=\"dataframe\">\n",
       "  <thead>\n",
       "    <tr style=\"text-align: right;\">\n",
       "      <th></th>\n",
       "      <th>ORF</th>\n",
       "      <th>Function</th>\n",
       "      <th>Expression</th>\n",
       "      <th>pathway</th>\n",
       "    </tr>\n",
       "  </thead>\n",
       "  <tbody>\n",
       "    <tr>\n",
       "      <td>0</td>\n",
       "      <td>cce_0666</td>\n",
       "      <td>glucose-6-phosphate isomerase; pgi1</td>\n",
       "      <td>D</td>\n",
       "      <td>Glycolysis</td>\n",
       "    </tr>\n",
       "    <tr>\n",
       "      <td>1</td>\n",
       "      <td>cce_5178</td>\n",
       "      <td>glucose-6-phosphate isomerase; pgi2</td>\n",
       "      <td>D</td>\n",
       "      <td>Glycolysis</td>\n",
       "    </tr>\n",
       "    <tr>\n",
       "      <td>2</td>\n",
       "      <td>cce_0669</td>\n",
       "      <td>6-phosphofructokinase; pfkA1</td>\n",
       "      <td>D</td>\n",
       "      <td>Glycolysis</td>\n",
       "    </tr>\n",
       "    <tr>\n",
       "      <td>3</td>\n",
       "      <td>cce_3253</td>\n",
       "      <td>6-phosphofructokinase; pfkA2</td>\n",
       "      <td>D</td>\n",
       "      <td>Glycolysis</td>\n",
       "    </tr>\n",
       "    <tr>\n",
       "      <td>4</td>\n",
       "      <td>cce_4758</td>\n",
       "      <td>fructose 1,6-bisphosphatase I</td>\n",
       "      <td>D</td>\n",
       "      <td>Glycolysis</td>\n",
       "    </tr>\n",
       "    <tr>\n",
       "      <td>...</td>\n",
       "      <td>...</td>\n",
       "      <td>...</td>\n",
       "      <td>...</td>\n",
       "      <td>...</td>\n",
       "    </tr>\n",
       "    <tr>\n",
       "      <td>224</td>\n",
       "      <td>cce_4627</td>\n",
       "      <td>transketolase; tktA</td>\n",
       "      <td>L</td>\n",
       "      <td>Reductive Pentose Phorsphate Pathway</td>\n",
       "    </tr>\n",
       "    <tr>\n",
       "      <td>225</td>\n",
       "      <td>cce_0798</td>\n",
       "      <td>ribulose-phosphate 3-epimerase; rpe</td>\n",
       "      <td>L</td>\n",
       "      <td>Reductive Pentose Phorsphate Pathway</td>\n",
       "    </tr>\n",
       "    <tr>\n",
       "      <td>226</td>\n",
       "      <td>cce_0103</td>\n",
       "      <td>ribose 5-phosphate isomerase; rpiA</td>\n",
       "      <td>L</td>\n",
       "      <td>Reductive Pentose Phorsphate Pathway</td>\n",
       "    </tr>\n",
       "    <tr>\n",
       "      <td>227</td>\n",
       "      <td>cce_4304</td>\n",
       "      <td>triosephosphate isomerase; tpi</td>\n",
       "      <td>L</td>\n",
       "      <td>Reductive Pentose Phorsphate Pathway</td>\n",
       "    </tr>\n",
       "    <tr>\n",
       "      <td>228</td>\n",
       "      <td>cce_0995</td>\n",
       "      <td>phosphoribulokinase; prk</td>\n",
       "      <td>L</td>\n",
       "      <td>Reductive Pentose Phorsphate Pathway</td>\n",
       "    </tr>\n",
       "  </tbody>\n",
       "</table>\n",
       "<p>229 rows × 4 columns</p>\n",
       "</div>"
      ],
      "text/plain": [
       "          ORF                              Function Expression  \\\n",
       "0    cce_0666   glucose-6-phosphate isomerase; pgi1          D   \n",
       "1    cce_5178  glucose-6-phosphate isomerase; pgi2           D   \n",
       "2    cce_0669          6-phosphofructokinase; pfkA1          D   \n",
       "3    cce_3253          6-phosphofructokinase; pfkA2          D   \n",
       "4    cce_4758         fructose 1,6-bisphosphatase I          D   \n",
       "..        ...                                   ...        ...   \n",
       "224  cce_4627                   transketolase; tktA          L   \n",
       "225  cce_0798   ribulose-phosphate 3-epimerase; rpe          L   \n",
       "226  cce_0103    ribose 5-phosphate isomerase; rpiA          L   \n",
       "227  cce_4304        triosephosphate isomerase; tpi          L   \n",
       "228  cce_0995              phosphoribulokinase; prk          L   \n",
       "\n",
       "                                  pathway  \n",
       "0                              Glycolysis  \n",
       "1                              Glycolysis  \n",
       "2                              Glycolysis  \n",
       "3                              Glycolysis  \n",
       "4                              Glycolysis  \n",
       "..                                    ...  \n",
       "224  Reductive Pentose Phorsphate Pathway  \n",
       "225  Reductive Pentose Phorsphate Pathway  \n",
       "226  Reductive Pentose Phorsphate Pathway  \n",
       "227  Reductive Pentose Phorsphate Pathway  \n",
       "228  Reductive Pentose Phorsphate Pathway  \n",
       "\n",
       "[229 rows x 4 columns]"
      ]
     },
     "execution_count": 179,
     "metadata": {},
     "output_type": "execute_result"
    }
   ],
   "source": [
    "df"
   ]
  },
  {
   "cell_type": "markdown",
   "metadata": {},
   "source": [
    "export the dataframe to excel"
   ]
  },
  {
   "cell_type": "code",
   "execution_count": 187,
   "metadata": {},
   "outputs": [],
   "source": [
    "df.dropna(inplace=True)"
   ]
  },
  {
   "cell_type": "code",
   "execution_count": 189,
   "metadata": {},
   "outputs": [],
   "source": [
    "df.reset_index(drop=True,inplace=True)"
   ]
  },
  {
   "cell_type": "code",
   "execution_count": 192,
   "metadata": {},
   "outputs": [],
   "source": [
    "df.to_excel(\"4 - JSData/EPinfo.xlsx\")"
   ]
  }
 ],
 "metadata": {
  "kernelspec": {
   "display_name": "Python 3",
   "language": "python",
   "name": "python3"
  },
  "language_info": {
   "codemirror_mode": {
    "name": "ipython",
    "version": 3
   },
   "file_extension": ".py",
   "mimetype": "text/x-python",
   "name": "python",
   "nbconvert_exporter": "python",
   "pygments_lexer": "ipython3",
   "version": "3.7.4"
  }
 },
 "nbformat": 4,
 "nbformat_minor": 2
}
