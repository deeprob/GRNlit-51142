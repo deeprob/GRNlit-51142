{
 "cells": [
  {
   "cell_type": "markdown",
   "metadata": {},
   "source": [
    "# 0. The genome of Cyanothece 51142, a unicellular diazotrophic cyanobacterium important in the marine nitrogen cycle\n",
    "\n",
    "Eric A. Welsh, Michelle Liberton, [...], and Himadri B. Pakrasi\n",
    "\n",
    "https://www.ncbi.nlm.nih.gov/pmc/articles/PMC2567498/\n",
    "\n",
    "\"Our analysis of this genome revealed a unique combination of highly conserved gene clusters involved in nitrogen fixation and glucose metabolism, as well as the entire set of genes required for heterolactic acid and acetate fermentation. Furthermore, the pathways relevant for storage of metabolic products, including nitrogen (cyanophycin), carbon (glycogen), and phosphorus (polyphosphate), in intracellular inclusion bodies are represented by multicopy genes that may provide redundancy or additional regulation. These genome-based insights highlight the overall strategy of Cyanothece 51142 to maximize efficiency by tightly regulating major metabolic processes throughout a diurnal cycle.\"\n",
    "\n",
    "**Genome sequenced for 51142 and 51.6% have also been annotated using proteomics data. The sequencing also led to a detailed picture of the metabolic capacity of Cyanothece and it highlights the key processes important in the life cycle of this organism. However, found data for only the genes present in the linear chromosome of 51142.**\n",
    "\n",
    "*Experiments and Methods: Genome Sequencing, Genome Annotation, Proteomic Analysis*"
   ]
  },
  {
   "cell_type": "markdown",
   "metadata": {},
   "source": [
    "# 1. A model of the circadian clock in the cyanobacterium Cyanothece sp. ATCC 51142\n",
    "\n",
    "Nguyen Xuan Vinh, Madhu Chetty, Ross Coppel, Sandeep Gaudana & Pramod P Wangikar \n",
    "\n",
    "https://bmcbioinformatics.biomedcentral.com/articles/10.1186/1471-2105-14-S2-S14\n",
    "\n",
    "\"In this paper, we employ several state of the art bioinformatics techniques for studying the core circadian clock in Cyanothece sp. ATCC 51142, and its interactions with other key cellular processes. We employ comparative genomics techniques to map the circadian clock genes and genetic interactions from another cyanobacterial species, namely Synechococcus elongatus PCC 7942, of which the circadian clock has been much more thoroughly investigated. Using time series gene expression data for Cyanothece, we employ gene regulatory network reconstruction techniques to learn this network de novo, and compare the reconstructed network against the interactions currently reported in the literature. Next, we build a computational model of the interactions between the core clock and other cellular processes, and show how this model can predict the behaviour of the system under changing environmental conditions. The constructed models significantly advance our understanding of the Cyanothece circadian clock functional mechanisms.\"\n",
    "\n",
    "**Mapped the clock genes from Synnechoccus to 51142 to find the homologs. Used Cyanothece gene expression data to construct a network between the 12 identified clock genes. Then constructed a predictive model using these clock genes and the other 134 putative TFs found in this study [A model of cyclic transcriptomic behavior in the cyanobacterium Cyanothece sp. ATCC 51142†](#A-model-of-cyclic-transcriptomic-behavior-in-the-cyanobacterium-Cyanothece-sp.-ATCC-51142†) using a well-known differential equation based technique called Inferelator.**\n",
    "\n",
    "*Experiments and Methods: Microarray and BLAST,GlobalMIT+,Inferelator  "
   ]
  },
  {
   "cell_type": "markdown",
   "metadata": {},
   "source": [
    "# 2. A model of cyclic transcriptomic behavior in the cyanobacterium Cyanothece sp. ATCC 51142†\n",
    "\n",
    "Jason E. McDermott,*a   Christopher S. Oehmen,a   Lee Ann McCue,a   Eric Hill,b   Daniel M. Choi,a   Jana Stöckel,c   Michelle Liberton,c   Himadri B. Pakrasic  and  Louis A. Shermand  \n",
    "\n",
    "https://pubs.rsc.org/en/content/articlelanding/2011/MB/c1mb05006k#!divAbstract\n",
    "\n",
    "\"We show that incorporating network topology into the model improves performance in terms of our ability to explain the behavior of the system under new conditions. The model presented robustly describes transcriptomic behavior of Cyanothece 51142 under different cyclic and non-cyclic growth conditions, and represents a significant advance in the understanding of gene regulation in this important organism.\"\n",
    "\n",
    "**A predictive model of the cyclic behaviour of 51142 using Inferelator based on a set of transcriptional experimental data.**\n",
    "\n",
    "*Experiments and Methods: Microarray data and  Homolog determination using InParanoid, Cyclic wreath using Graphviz, Network topology using NetworkX, Hierarchical Clustering, Inferelator for prediction.*  "
   ]
  },
  {
   "cell_type": "markdown",
   "metadata": {},
   "source": [
    "# 3. Metabolic Rhythms of the Cyanobacterium Cyanothece sp. ATCC 51142 Correlate with Modeled Dynamics of Circadian Clock\n",
    "\n",
    "Jan Cˇervený* and Ladislav Nedbal*,†\n",
    "\n",
    "https://journals.sagepub.com/doi/pdf/10.1177/0748730409338367\n",
    "\n",
    "\"These experiments aim to reveal the dynamic features that occur during the metabolism of the unicellular, nitrogen fixing cyanobacterium Cyanothece sp. when exposed to diverse circadian forcing patterns (LD 16:8, LD 12:12, LD 8:16, LD  6:6).  The  chlorophyll  concentration  grew  rapidly  from  subjective  morning when  first  illuminated  to  around  noon,  then  remained  stable  from  later  in  the afternoon and throughout the night. The optical density measured at 735 nm was stable during the morning chlorophyll accumulation, then increased in the early afternoon toward a peak, followed at dusk by a rapid decline toward the late night steady state. The authors propose that these dynamics largely reflect accumulation and subsequent consumption of glycogen granules. This hypothesis is consistent with the sharp peak of respiration that coincides with the putative hydrocarbon catabolism.  In  the  long-day  regimen  (LD  16:8),  these  events  may  mark  the transition  from  the  aerobic  photosynthetic  metabolism  to  microaerobic  nitrogen metabolism that occurs at dusk, and thus cannot be triggered by the darkness that comes later. Rather, control is likely to originate in the circadian clock signaling an approaching night. To explore the dynamics of the link between respiration and circadian  oscillations,  the  authors  extrapolated  an  earlier  model  of  the  KaiABC oscillator  from Synechococcus  elongatus  to Cyanothece  sp.  The  measured  peak  of respiratory activity at dusk correlated strongly in its timing and time width with the  modeled  peak  in  accumulation  of  the  KaiB4  complex,  which  marks  the  late afternoon phase of the circadian clock. The authors propose a hypothesis that high levels of KaiB4 (or of its Cyanothece sp. analog) trigger the glycogen catabolism that is reflected in the experiments in the respiratory peak. The degree of the correlation between  the  modeled  KaiB4  dynamics  and  the  dynamics  of  experimentally measured peaks of respiratory activity was further tested during the half-circadian regimen  (LD  6:6).  The  model  predicted  an  irregular  pattern  of  the  KaiABC oscillator, quite unlike mechanical or electrical clock pacemakers that are strongly damped when driven at double their endogenous frequency. This highly unusual dynamic pattern was confirmed experimentally, supporting strongly the validity of the circadian model and of the proposed direct link to respiration.\"\n",
    "\n",
    "**Experiments were conducted at diverse circadian forcing patterns to reveal the dynamic features that occur during the metabolism of 51142. Using the Synechoccus circadian clock model, the metabolic cycle for 51142 was derived. KaiB4 was suggested to facilitiate the dephosphorylation of KaiC6 hexamer as confirmed by simulation that showed a rapid decline of CPKaiC6, the phosphorylated form.** "
   ]
  },
  {
   "cell_type": "markdown",
   "metadata": {},
   "source": [
    "# 4. Global transcriptomic analysis of Cyanothece 51142 reveals robust diurnal oscillation of central metabolic processes\n",
    "\n",
    "Jana Stöckel, Eric A. Welsh, Michelle Liberton, Rangesh Kunnvakkam, Rajeev Aurora, and Himadri B. Pakrasi\n",
    "\n",
    "https://www.pnas.org/content/105/16/6156\n",
    "\n",
    "\"We have examined the expression patterns of nearly 5,000 genes in Cyanothece 51142 during two consecutive diurnal periods. Our analysis showed that ≈30% of these genes exhibited robust oscillating expression profiles. Interestingly, this set included genes for almost all central metabolic processes in Cyanothece 51142. A transcriptional network of all genes with significantly oscillating transcript levels revealed that the majority of genes encoding enzymes in numerous individual biochemical pathways, such as glycolysis, oxidative pentose phosphate pathway, and glycogen metabolism, were coregulated and maximally expressed at distinct phases during the diurnal cycle. These studies provide a comprehensive picture of how a physiologically relevant diurnal light–dark cycle influences the metabolism in a photosynthetic bacterium.\"\n",
    "\n",
    "**Formed 4 gene clusters based on their coexpression during the light or dark period and grouped them based on 4 major functions, energy metabolism and respiration, nitrogen fixation, protein translation and folding, and photosynthesis. Also examined whether multiple gene isoforms found in these pathways have similar expression patterns.** \n",
    "\n",
    "*Experiments and Methods: MicroArray, real-time PCR and Pearson,fold-change,cytoscape cyclic network*"
   ]
  },
  {
   "cell_type": "markdown",
   "metadata": {},
   "source": [
    "# 5. Identifying Regulatory Changes to Facilitate Nitrogen Fixation in the Nondiazotroph Synechocystis sp. PCC 6803\n",
    "\n",
    "Thomas J. Mueller†Eric A. Welsh‡Himadri B. Pakrasi§∥Costas D. Maranas*†\n",
    "    \n",
    "https://pubs.acs.org/doi/full/10.1021/acssynbio.5b00202\n",
    "\n",
    "\"Here we present regulatory influence networks for two cyanobacteria, Synechocystis PCC 6803 and Cyanothece ATCC 51142, and evaluate them to co-opt native transcription factors that may be used to control the nif gene cluster once it is transferred to Synechocystis. These networks were further examined to identify candidate transcription factors for other metabolic processes necessary for temporal separation of photosynthesis and nitrogen fixation, glycogen catabolism and cyanophycin synthesis. Two transcription factors native to Synechocystis, LexA and Rcp1, were identified as promising candidates for the control of the nif gene cluster and other pertinent metabolic processes, respectively. Lessons learned in the incorporation of nitrogen fixation into a nondiazotrophic prokaryote may be leveraged to further progress the incorporation of nitrogen fixation in plants.\""
   ]
  },
  {
   "cell_type": "markdown",
   "metadata": {},
   "source": [
    "# 6. TRANSCRIPTIONAL ANALYSIS OF THE UNICELLULAR, DIAZOTROPHIC CYANOBACTERIUM CYANOTHECE SP. ATCC 51142 GROWN UNDER SHORT DAY/NIGHT CYCLES\n",
    "\n",
    "Jo¨rg Toepel Jason E. McDermott Tina C. Summerfield Louis A. Sherman\n",
    "\n",
    "https://onlinelibrary.wiley.com/doi/full/10.1111/j.1529-8817.2009.00674.x\n",
    "\n",
    "\"We have performed a global transcription analysis of this organism using 6 h light:dark (L:D) cycles in order to determine the response of the cell to these conditions and to differentiate between diurnal and circadian‐regulated genes. In addition, we used a context‐likelihood of relatedness (CLR) analysis with these data and those from 2 d L:D and L:D plus continuous light experiments to better differentiate between diurnal and circadian‐regulated genes. Cyanothece sp. acclimated in several ways to growth under short L:D conditions. Nitrogen was fixed in every second dark period and only once in each 24 h period. Nitrogen fixation was strongly correlated to the energy status of the cells and glycogen breakdown, and high respiration rates were necessary to provide appropriate energy and anoxic conditions for this process. We conclude that glycogen breakdown is a key regulatory step within these complex processes. Our results demonstrated that the main metabolic genes involved in photosynthesis, respiration, nitrogen fixation, and central carbohydrate metabolism have strong (or total) circadian‐regulated components. The short L:D cycles enable us to identify transcriptional differences among the family of psbA genes, as well as the differing patterns of the hup genes, which follow the same pattern as nitrogenase genes, relative to the hox genes, which displayed a diurnal, dark‐dependent gene expression.\"\n",
    "\n",
    "**Determined which cluster is affected by circadian rhythms and what is affected by durnal rhythms. Has identified some major functions and mapped them to genes.** "
   ]
  },
  {
   "cell_type": "markdown",
   "metadata": {},
   "source": [
    "# 7. Sigma Factors for Cyanobacterial Transcription\n",
    "\n",
    "Sousuke Imamura and Munehiko Asayama\n",
    "\n",
    "https://www.ncbi.nlm.nih.gov/pmc/articles/PMC2758279/"
   ]
  },
  {
   "cell_type": "markdown",
   "metadata": {},
   "source": [
    "# 8.  Cyanobacterial hydrogenases: diversity, regulation and applications\n",
    "\n",
    "Paula Tamagnini, Elsa Leitão, Paulo Oliveira, Daniela Ferreira, Filipe Pinto, David James Harris, Thorsten Heidorn, Peter Lindblad\n",
    "\n",
    "https://academic.oup.com/femsre/article/31/6/692/2367442"
   ]
  },
  {
   "cell_type": "markdown",
   "metadata": {},
   "source": [
    "# 9. Regulation of nitrate assimilation in cyanobacteria \n",
    "\n",
    "Yoshitake Ohashi, Wei Shi, Nobuyuki Takatani, Makiko Aichi, Shin-ichi Maeda, Satoru Watanabe, Hirofumi Yoshikawa, Tatsuo Omata\n",
    "\n",
    "https://academic.oup.com/jxb/article/62/4/1411/465387"
   ]
  },
  {
   "cell_type": "markdown",
   "metadata": {},
   "source": [
    "# 10. The Involvement of Transport Proteins in Transcriptional and Metabolic Regulation\n",
    "\n",
    "Åke Västermark and Milton H. Saier, Jr.* \n",
    "\n",
    "https://www.ncbi.nlm.nih.gov/pmc/articles/PMC3999241/"
   ]
  },
  {
   "cell_type": "markdown",
   "metadata": {},
   "source": [
    "# 11. Pyridine nucleotide transhydrogenase PntAB is essential for optimal growth and photosynthetic integrity under low-light mixotrophic conditions in Synechocystis sp. PCC 6803.\n",
    "\n",
    "Kämäräinen J1, Huokko T1, Kreula S1, Jones PR2, Aro EM1, Kallio P1.\n",
    "\n",
    "https://www.ncbi.nlm.nih.gov/pubmed/27930818"
   ]
  },
  {
   "cell_type": "markdown",
   "metadata": {},
   "source": [
    "# 12. The Kai-Protein Clock—Keeping Trackof Cyanobacteria’s Daily Life\n",
    "\n",
    "Joost Snijder and Ilka Maria Axmann\n",
    "\n",
    "https://link.springer.com/content/pdf/10.1007%2F978-3-030-28151-9_12.pdf"
   ]
  },
  {
   "cell_type": "markdown",
   "metadata": {},
   "source": [
    "# 13. Fur-type transcriptional repressors and metal homeostasis in the cyanobacterium Synechococcus sp. PCC 7002\n",
    "\n",
    "Marcus Ludwig1†, Tiing Tiing Chua1, Chyue Yie Chew1 and Donald A. Bryant\n",
    "\n",
    "https://www.frontiersin.org/articles/10.3389/fmicb.2015.01217/full"
   ]
  },
  {
   "cell_type": "markdown",
   "metadata": {},
   "source": [
    "# 14. Circadian Control of Global Gene Expression by the Cyanobacterial Master Regulator RpaA\n",
    "\n",
    "Joseph S. Markson,1,3,5Joseph R. Piechura,1,2,5Anna M. Puszynska,1,2and Erin K. O’Shea1,2,4,*\n",
    "\n",
    "https://www.sciencedirect.com/science/article/pii/S0092867413014189"
   ]
  },
  {
   "cell_type": "markdown",
   "metadata": {},
   "source": [
    "# - Diurnal rhythms in metabolism: A day in the life of a unicellular, diazotrophic cyanobacterium\n",
    "\n",
    "Louis A. Sherman, Pascal Meunier & Milagros S. Colón-López \n",
    "    \n",
    "https://link.springer.com/content/pdf/10.1023/A:1006137605802.pdf\n",
    "\n",
    "\"This review will discuss the strategies devised by the unicellular, diazotrophic cyanobacterium, Cyanothece sp. ATCC 51142, to permit N2 fixation and photosynthesis to coexist in the same cell. This strain, like a number of other unicellular and filamentous (non-heterocystous) cyanobacteria, has developed a type of temporal regulation in which N2 fixation and photosynthesis occur at different times throughout a diurnal cycle. For nitrogenase, everyday dawns anew. The nifHDK operon is tightly regulated, such that transcription and translation occur within the first four hours of the dark period; nitrogenase is then proteolytically degraded. Photosynthesis also varies throughout the day reaching a minimum at the peak of nitrogenase activity and a maximum by late afternoon. This review will mainly concentrate on the various changes that occur in the photosynthetic apparatus as the cell modulates O2 evolution. The results indicate that the redox poise of the plastoquinone pool and the overall cellular energy needs are the basic driving forces behind these changes in the photosynthetic apparatus. Throughout the course of the diurnal cycle, Photosystem II becomes very heterogeneous as determined by 77 K fluorescence spectra, PAM fluorescence and O2-flash yield experiments. This system provides some important insight into cyanobacterial state transitions and, especially, on the organization of the photosystems within the membrane. Overall, PS II is altered on both the oxidizing and reducing sides of the photosystem.\"\n",
    "\n",
    "**Temporal changes in the nifHDK operon and the psaA,B and D genes that regulates N2 fixation and photosynthesis. Nothing about TFs of those genes.**"
   ]
  },
  {
   "cell_type": "markdown",
   "metadata": {},
   "source": [
    "# - Effect of continuous light on diurnal rhythms in Cyanothece sp. ATCC 51142\n",
    "\n",
    "Thanura Elvitigala, Jana Stöckel, [...], and Himadri B Pakrasi\n",
    "\n",
    "https://www.ncbi.nlm.nih.gov/pmc/articles/PMC2695482/\n",
    "\n",
    "\"the complex interactions between endogenous circadian rhythms and external cues are currently not well understood, and a direct and mathematical based comparison between light-mediated and circadian-controlled gene expression is still outstanding. Therefore, we combined and analyzed data from two independent microarray experiments, previously performed under alternating light-dark and continuous light conditions in Cyanothece sp. ATCC 51142, and sought to classify light responsive and circadian controlled genes.\"\n",
    "\n",
    "**Mainly deals with the classification of light responsive and circadian controlled genes and also identifies a new ultradian pattern of oscillation among several genes.**\n",
    "\n",
    "*Used the combination of two microarray experiments along with fourier-score method to achieve that*"
   ]
  },
  {
   "cell_type": "markdown",
   "metadata": {},
   "source": [
    "# - Differential Transcriptional Analysis of the Cyanobacterium Cyanothece sp. Strain ATCC 51142 during Light-Dark and Continuous-Light Growth\n",
    "\n",
    "Jörg Toepel, Eric Welsh, Tina C. Summerfield, Himadri B. Pakrasi, Louis A. Sherman\n",
    "\n",
    "https://jb.asm.org/content/190/11/3904\n",
    "\n",
    "\"We found that the mRNA levels of ∼10% of the genes in the genome demonstrated circadian behavior during growth in free-running (continuous light) conditions. The genes for N2 fixation displayed a strong circadian behavior, whereas photosynthesis and respiration genes were not as tightly regulated. One of our main objectives was to determine the strategies used by these cells to perform N2 fixation under normal day-night conditions, as well as under the greater stress caused by continuous light. We determined that N2 fixation cycled in continuous light but with a lower N2 fixation activity. Glycogen degradation, respiration, and photosynthesis were also lower; nonetheless, O2 evolution was about 50% of the normal peak. We also demonstrated that nifH (encoding the nitrogenase Fe protein), nifB, and nifX were strongly induced in continuous light; this is consistent with the role of these proteins during the assembly of the enzyme complex and suggested that the decreased N2 fixation activity was due to protein-level regulation or inhibition. Many soluble electron carriers (e.g., ferredoxins), as well as redox carriers (e.g., thioredoxin and glutathione), were strongly induced during N2 fixation in continuous light. We suggest that these carriers are required to enhance cyclic electron transport and phosphorylation for energy production and to maintain appropriate redox levels in the presence of elevated O2, respectively.\"\n",
    "\n",
    "**Upregulation and Downregulation of some important genes involved in n2 fixation or photosynthesis. Nothing about TFs**"
   ]
  },
  {
   "cell_type": "markdown",
   "metadata": {},
   "source": [
    "# - Diurnal Rhythms Result in Significant Changes in the Cellular Protein Complement in the Cyanobacterium Cyanothece 51142\n",
    "\n",
    "\n",
    "Jana Stöckel ,Jon M. Jacobs ,Thanura R. Elvitigala, Michelle Liberton,Eric A. Welsh, Ashoka D. Polpitiya, Marina A. Gritsenko, Carrie D. Nicora,    David W. Koppenaal, Richard D. Smith, Himadri B. Pakrasi\n",
    "\n",
    "https://journals.plos.org/plosone/article?id=10.1371/journal.pone.0016680\n",
    "\n",
    "\n",
    "\"To expand upon current knowledge, we have utilized sensitive proteomic approaches to examine the impact of diurnal rhythms on the protein complement in Cyanothece 51142. We found that 250 proteins accounting for ∼5% of the predicted ORFs from the Cyanothece 51142 genome and 20% of proteins detected under alternating light/dark conditions exhibited periodic oscillations in their abundances. Our results suggest that altered enzyme activities at different phases during the diurnal cycle can be attributed to changes in the abundance of related proteins and key compounds. The integration of global proteomics and transcriptomic data further revealed that post-transcriptional events are important for temporal regulation of processes such as photosynthesis in Cyanothece 51142. This analysis is the first comprehensive report on global quantitative proteomics in a unicellular diazotrophic cyanobacterium and uncovers novel findings about diurnal rhythms.\"\n",
    "\n",
    "**Transcriptome analysis revealed that all central metabolic pathways are corregulated. This paper tries to find out how the temporal separation is implemented in the protein level. Identified the proteins from the sequenced genome, correlated temporally regulated physiological phenomenon with protein levels. 70% of the cyclic proteins show cyclic correlation at the transcriptomic level. However on 27.9% of the cyclic genes show cyclic behaviour at the protein level. Nothing about TFs.**"
   ]
  },
  {
   "cell_type": "markdown",
   "metadata": {},
   "source": [
    "# - Coupling of Cellular Processes and Their Coordinated Oscillations under Continuous Light in Cyanothece sp. ATCC 51142, a Diazotrophic Unicellular Cyanobacterium\n",
    "\n",
    "\n",
    "S. Krishnakumar , Sandeep B. Gaudana , Nguyen X. Vinh, Ganesh A. Viswanathan, Madhu Chetty, Pramod P. Wangikar\n",
    " \n",
    "https://journals.plos.org/plosone/article?id=10.1371/journal.pone.0125148\n",
    "\n",
    "\"However, recent reports demonstrate that the oscillations in LL occur with a shorter cycle time of ~11 h. We find that indeed, majority of the genes oscillate in LL with this cycle time. Genes that are upregulated at a particular time of day under diurnal cycle also get upregulated at an equivalent metabolic phase under LL suggesting tight coupling of various cellular events with each other and with the cell’s metabolic status. A number of metabolic processes get upregulated in a coordinated fashion during the respiratory phase under LL including glycogen degradation, glycolysis, oxidative pentose phosphate pathway, and tricarboxylic acid cycle. These precede nitrogen fixation apparently to ensure sufficient energy and anoxic environment needed for the nitrogenase enzyme. Photosynthetic phase sees upregulation of photosystem II, carbonate transport, carbon concentrating mechanism, RuBisCO, glycogen synthesis and light harvesting antenna pigment biosynthesis. In Synechococcus elongates PCC 7942, a non-nitrogen fixing cyanobacteria, expression of a relatively smaller fraction of genes oscillates under LL condition with the major periodicity being 24 h. In contrast, the entire cellular machinery of Cyanothece orchestrates coordinated oscillation in anticipation of the ensuing metabolic phase in both LD and LL. These results may have important implications in understanding the timing of various cellular events and in engineering cyanobacteria for biofuel production.\"\n",
    "\n",
    "**Correlates oscillation of global gene expression to those in metabolism in cyanobacteria. Nothing about TFs**"
   ]
  },
  {
   "cell_type": "markdown",
   "metadata": {},
   "source": [
    "# - Multi-Omic Dynamics Associate Oxygenic Photosynthesis with Nitrogenase-Mediated H2 Production in Cyanothece sp. ATCC 51142\n",
    "\n",
    "Hans C. Bernstein, Moiz A. Charania, Ryan S. McClure, Natalie C. Sadler, Matthew R. Melnicki, Eric A. Hill, Lye Meng Markillie, Carrie D. Nicora, Aaron T. Wright, Margaret F. Romine & Alexander S. Beliaev \n",
    "\n",
    "https://www.nature.com/articles/srep16004\n",
    "\n",
    "\"To date, the proposed mechanisms of nitrogenase-driven photosynthetic H2 production by the diazotrophic unicellular cyanobacterium Cyanothece sp. ATCC 51142 have assumed that reductant and ATP requirements are derived solely from glycogen oxidation and cyclic-electron flow around photosystem I. Through genome-scale transcript and protein profiling, this study presents and tests a new hypothesis on the metabolic relationship between oxygenic photosynthesis and nitrogenase-mediated H2 production in Cyanothece 51142. Our results show that net-positive rates of oxygenic photosynthesis and increased expression of photosystem II reaction centers correspond and are synchronized with nitrogenase expression and H2 production. These findings provide a new and more complete view on the metabolic processes contributing to the energy budget of photosynthetic H2 production and highlight the role of concurrent photocatalytic H2O oxidation as a participating process.\""
   ]
  },
  {
   "cell_type": "markdown",
   "metadata": {},
   "source": [
    "# - Variations in the Rhythms of Respiration and Nitrogen Fixation in Members of the Unicellular Diazotrophic Cyanobacterial Genus Cyanothece\n",
    "\n",
    "Anindita Bandyopadhyay, Thanura Elvitigala, Michelle Liberton, Himadri B. Pakrasi\n",
    "\n",
    "http://www.plantphysiol.org/content/161/3/1334\n",
    "\n",
    "\"Our study revealed significant differences in the patterns of respiration and nitrogen fixation among the Cyanothece spp. strains that were grown under identical culture conditions, suggesting that these processes are not solely controlled by cues from the diurnal cycle but that strain-specific intracellular metabolic signals play a major role. Despite these inherent differences, the ability to perform high rates of aerobic nitrogen fixation and hydrogen production appears to be a characteristic of this genus.\"\n",
    "\n",
    "**Different strains of cyanobacteria were studied which revealed inherent differences in the regulation of the metabolic processes.**"
   ]
  },
  {
   "cell_type": "markdown",
   "metadata": {},
   "source": [
    "# - Rhythmic and sustained oscillations in metabolism and gene expression of Cyanothece sp. ATCC 51142 under constant light\n",
    "\n",
    "Sandeep B. Gaudana1†‡, S. Krishnakumar1‡, Swathi Alagesan1, Madhuri G. Digmurti1, Ganesh A. Viswanathan1, Madhu Chetty2 and Pramod P. Wangikar1*\n",
    "\n",
    "https://www.frontiersin.org/articles/10.3389/fmicb.2013.00374/full\n",
    "\n",
    "\"In a recent report, metabolism of Cyanothece 51142 has been shown to oscillate between photosynthetic and respiratory phases under LL with free running periods that are temperature dependent but significantly shorter than the circadian period. Further, the oscillations shift to circadian pattern at moderate cell densities that are concomitant with slower growth rates. Here we take this understanding forward and demonstrate that the ultradian rhythm under LL sustains at much higher cell densities when grown under turbulent regimes that simulate flashing light effect. Our results suggest that the ultradian rhythm in metabolism may be needed to support higher carbon and nitrogen requirements of rapidly growing cells under LL. With a comprehensive Real time PCR based gene expression analysis we account for key regulatory interactions and demonstrate the interplay between clock genes and the genes of key metabolic pathways. Further, we observe that several genes that peak at dusk in Synechococcus peak at dawn in Cyanothece and vice versa. The circadian rhythm of this organism appears to be more robust with peaking of genes in anticipation of the ensuing photosynthetic and respiratory metabolic phases.\"\n",
    "\n",
    "**Oscillations of genes innvolved in the major metabolic pathways are considered and shown** "
   ]
  },
  {
   "cell_type": "markdown",
   "metadata": {},
   "source": [
    "# - Novel Metabolic Attributes of the Genus Cyanothece, Comprising a Group of Unicellular Nitrogen-Fixing Cyanobacteria\n",
    "\n",
    "Anindita Bandyopadhyay,aThanura Elvitigala,aEric Welsh,bJana Stöckel,aMichelle Liberton,aHongtao Min,cLouis A. Sherman,candHimadri B. Pakrasia\n",
    "\n",
    "http://localhost:8888/files/PhD/Cyanobacteria/Documents%20shared%20by%20Anindita/mBio-2011-Bandyopadhyay-.pdf\n",
    "\n",
    "\"Our study indicates that this genus maintains a plas-tic genome, incorporating new metabolic capabilities while simultaneously retaining archaic metabolic traits, a unique combina-tion which provides the flexibility to adapt to various ecological and environmental conditions. Rearrangement of the nitroge-nase cluster inCyanothecesp. strain 7425 and the concomitant loss of its aerobic nitrogen-fixing ability suggest that a similarmechanism might have been at play in cyanobacterial strains that eventually lost their nitrogen-fixing ability.\"\n",
    "\n",
    "**Compared the genome of the 6 cyanothece strains, talked about the linear chromosoaml elements. Phylogenetic analysis revealed that 5 strains along with 3 other may be from a common ancestor. Conducted BLAST to identify the shared and sequenced genes. each of the strains has a large nitrogenase gene cluster, nif for nitrogen fixation and hydrogen production.** "
   ]
  },
  {
   "cell_type": "markdown",
   "metadata": {},
   "source": [
    "# - Robust photosystem I activity by Cyanothece sp. (Cyanobacteria) and its role in prolonged bloom persistence in lake St Lucia, South Africa\n",
    "\n",
    "Schalk J. du Plooy1 · Akash Anandraj2 · Sarah White2 · Renzo Perissinotto1 · Derek R. du Preez\n",
    "\n",
    "http://localhost:8888/files/PhD/Cyanobacteria/Documents%20shared%20by%20Anindita/DuPlooy2018_Article_RobustPhotosystemIActivityByCy.pdf\n",
    "\n",
    "\"This study investigated the photosynthetic functioning of a persistent bloom-forming (18 months) cyanobacterium, Cyanothece sp., isolated from Lake St Lucia, South Africa. DUAL-PAM fluorometric meth-ods were used to observe physiological responses in Cyanothece sp. photosystems I and II. Results show that photosystem I activity was maintained under all environmental conditions tested, while photosystem II activity was not observed at all. Out of the environmental factors tested (temperature, salinity, and nitrogen presence), only temperature significantly influ-enced photosystem I activity. In particular, high temperature (40 °C) facilitated faster electron transport rates, while effects of salinity and nitrogen were variable. Cyanothece sp. has shown to sustain bloom status for long periods largely because of the essential role of photosystem I activity during highly dynamic and even extreme (e.g., salinities higher than 200) environmental conditions. This ensures the continual supply of cellular energy (e.g. ATP) to important processes such as nitrogen assimilation, which is essential for protein synthesis, cell growth and, therefore, bloom maintenance.\""
   ]
  },
  {
   "cell_type": "markdown",
   "metadata": {},
   "source": [
    "# - Influence of mixotrophic growth on rhythmic oscillations in expression of metabolic pathways in diazotrophic cyanobacterium Cyanothece sp. ATCC 51142\n",
    "\n",
    "S. Krishnakumara,1, Sandeep B. Gaudanaa,1, Madhuri G. Digmurtia, Ganesh A. Viswanathana,Madhu Chettyb, Pramod P. Wangikar\n",
    "\n",
    "http://localhost:8888/files/PhD/Cyanobacteria/Documents%20shared%20by%20Anindita/Cyanothee%20myxotrophic%20Wangekar.pdf\n",
    "\n",
    "\"This study investigates the influence of mixotrophy on physiology and metabolism by analysis of globalgene expression in unicellular diazotrophic cyanobacteriumCyanothecesp. ATCC 51142 (henceforthCyanothece51142). It was found thatCyanothece51142 continues to oscillate between photosynthesisand respiration in continuous light under mixotrophy with cycle time of\u001813 h. Mixotrophy is markedby an extended respiratory phase compared with photoautotrophy. It can be argued that glycerol pro-vides supplementary energy for nitrogen fixation, which is derived primarily from the glycogen reservesduring photoautotrophy. The genes of NDH complex, cytochrome c oxidase and ATP synthase are sig-nificantly overexpressed in mixotrophy during the day compared to autotrophy with synchronousexpression of the bidirectional hydrogenase genes possibly to maintain redox balance. However, nitroge-nase complex remains exclusive to nighttime metabolism concomitantly with uptake hydrogenase. Thisstudy throws light on interrelations between metabolic pathways with implications in design of hydro-gen producer strains\"\n",
    "\n",
    "**photoautotrophic growth condition gene expression by stockel compared with mixotrophic gene expression for major metabolic pathways** "
   ]
  },
  {
   "cell_type": "markdown",
   "metadata": {},
   "source": [
    "# Ultradian metabolic rhythm in the diazotrophic cyanobacterium Cyanothece sp. ATCC 51142\n",
    "\n",
    "\n",
    "Jan Červený, Maria A. Sinetova, Luis Valledor, Louis A. Sherman, and Ladislav Nedbal\n",
    "\n",
    "https://www.pnas.org/content/110/32/13210\n",
    "\n",
    "\"We report identification of a temperature-dependent ultradian metabolic rhythm that controls the alternating oxygenic and microoxic processes of Cyanothece sp. ATCC 51142 under continuous high irradiance and in high CO2 concentration. During the oxygenic photosynthesis phase, nitrate deficiency limited protein synthesis and CO2 assimilation was directed toward glycogen synthesis. The carbohydrate accumulation reduced overexcitation of the photosynthetic reactions until a respiration burst initiated a transition to microoxic N2 fixation. In contrast to the circadian clock, this ultradian period is strongly temperature-dependent: 17 h at 27 °C, which continuously decreased to 10 h at 39 °C. The cycle was expressed by an oscillatory modulation of net O2 evolution, CO2 uptake, pH, fluorescence emission, glycogen content, cell division, and culture optical density. The corresponding ultradian modulation was also observed in the transcription of nitrogenase-related nifB and nifH genes and in nitrogenase activities. We propose that the control by the newly identified metabolic cycle adds another rhythmic component to the circadian clock that reflects the true metabolic state depending on the actual temperature, irradiance, and CO2 availability.\""
   ]
  },
  {
   "cell_type": "markdown",
   "metadata": {},
   "source": [
    "# An Atypical psbA Gene Encodes a Sentinel D1 Protein to Form a Physiologically Relevant Inactive Photosystem II Complexin Cyanobacteria*\n",
    "\n",
    "Kimberly M. Wegener1, Aparna Nagarajan1, and Himadri B. Pakrasi\n",
    "\n",
    "http://www.jbc.org/content/290/6/3764.full.pdf\n",
    "\n",
    "\"We have shown that c-psbA4, one of the fivepsbAorthologs inthis cyanobacterium, is exclusively expressed during nighttime.Remarkably, the corresponding D1 isoform has replacements ofa number of amino acids that are essential ligands for the cata-lytic Mn4CaO5metal center for water oxidation by PSII. At least30 cyanobacterial strains, most of which are known to havenitrogen fixing abilities, have similarpsbAorthologs. Weexpressed the c-psbA4gene fromCyanothece51142 in a 4E-3mutant strain of the model non-nitrogen-fixing cyanobacte-riumSynechocystissp. PCC 6803, which lacks anypsbAgene.The resultant strain could not grow photoautotrophically.Moreover, theseSynechocystis6803 cells were incapable of PSII-mediated oxygen evolution. Based on our findings, we havenamed this physiologically relevant, unusual D1 isoform senti-nel D1. Sentinel D1 represents a new class of D1 protein that,when incorporated in a PSII complex, ensures that PSII cannotmediate water oxidation, thus allowing oxygen-sensitive pro-cesses such as nitrogen fixation to occur in cyanobacterial cells."
   ]
  },
  {
   "cell_type": "markdown",
   "metadata": {},
   "source": [
    "# Genomics and Genetic Transformation in the Unicellular Diazotrophic Cyanobacterium Cyanothece sp. ATCC 51142\n",
    "\n",
    "H. MinE. A. WelshH. B. PakrasiL. A. Sherman\n",
    "    \n",
    "https://link.springer.com/chapter/10.1007/978-1-4020-8252-8_145\n",
    "\n",
    "\"Cyanothece sp. ATCC 51142, is a unicellular, diazotrophic cyanobacterium with a versatile metabolism and very pronounced diurnal rhythms. When grown under 12 h light-dark (LD) periods, it performs photosynthesis during the day and N2 fixation and respiration at night. Such interesting metabolism and regulation has led to the sequencing of its genome. The genome includes a large cluster that contains all of the genes required for nitrogenase assembly and function. We have developed a genetic transformation system for Cyanothece by using electroporation and CaCl2 treatment. The effectiveness of the treatment and the efficiency of the transformation depend upon metabolic modes of growth.\""
   ]
  },
  {
   "cell_type": "markdown",
   "metadata": {},
   "source": [
    "# Reconstruction and Comparison of the Metabolic Potential of Cyanobacteria Cyanothecesp. ATCC 51142 and Synechocystis sp. PCC 6803\n",
    "\n",
    "Rajib Saha\n",
    "\n",
    "https://digitalcommons.unl.edu/cgi/viewcontent.cgi?article=1047&context=chemengall\n",
    "\n",
    "\" Here we assemble, update and compare genome-scale models (iCyt773 andiSyn731) for twophylogenetically related cyanobacterial species, namelyCyanothecesp. ATCC 51142 andSynechocystissp. PCC 6803. Allreactions are elementally and charge balanced and localized into four different intracellular compartments (i.e., periplasm,cytosol, carboxysome and thylakoid lumen) and biomass descriptions are derived based on experimental measurements.Newly added reactions absent in earlier models (266 and 322, respectively) span most metabolic pathways with anemphasis on lipid biosynthesis. All thermodynamically infeasible loops are identified and eliminated from both models.Comparisons of model predictions against gene essentiality data reveal a specificity of 0.94 (94/100) and a sensitivity of 1(19/19) for theSynechocystis   iSyn731 model. The diurnal rhythm ofCyanothece51142 metabolism is modeled byconstructing separate (light/dark) biomass equations and introducing regulatory restrictions over light and dark phases.Specific metabolic pathway differences between the two cyanobacteria alluding to different bio-production potentials arereflected in both models.\""
   ]
  },
  {
   "cell_type": "markdown",
   "metadata": {},
   "source": [
    "# Comparison of cyclic genes between Cyanothece 51142 and Synechococcus 7942.\n",
    "\n",
    "S. Krishnakumar Sandeep B. Gaudana Nguyen X. Vinh Ganesh A. Viswanathan Madhu Chetty Pramod P. Wangikar\n",
    "\n",
    "https://figshare.com/articles/_Comparison_of_cyclic_genes_between_Cyanothece_51142_and_Synechococcus_7942_/1414839/1\n",
    "\n",
    "Comparison of cyclic genes between Cyanothece 51142 and Synechococcus 7942."
   ]
  },
  {
   "cell_type": "markdown",
   "metadata": {},
   "source": [
    "# Proteome analyses of strains ATCC 51142 and PCC 7822 of the diazotrophic cyanobacterium Cyanothece sp. under culture conditions resulting in enhanced H₂ production.\n",
    "\n",
    "Aryal UK1,Callister SJ,Mishra S,Zhang X,Shutthanandan JI,Angel TE,Shukla AK,Monroe ME,Moore RJ,Koppenaal DW,Smith RD,Sherman L\n",
    "\n",
    "http://europepmc.org/article/PMC/3568600\n",
    "\n",
    "\"we performed quantitative proteome analysis of Cyanothece sp. strains ATCC 51142 and PCC 7822 grown under 8 different nutritional conditions. Nitrogenase expression was limited to N(2)-fixing conditions, and in the absence of glycerol, nitrogenase gene expression was linked to the dark period. However, glycerol induced expression of nitrogenase during part of the light period, together with cytochrome c oxidase (Cox), glycogen phosphorylase (Glp), and glycolytic and pentose phosphate pathway (PPP) enzymes. This indicated that nitrogenase expression in the light was facilitated via higher levels of respiration and glycogen breakdown. Key enzymes of the Calvin cycle were inhibited in Cyanothece ATCC 51142 in the presence of glycerol under H(2)-producing conditions, suggesting a competition between these sources of carbon. However, in Cyanothece PCC 7822, the Calvin cycle still played a role in cofactor recycling during H(2) production. Our data comprise the first comprehensive profiling of proteome changes in Cyanothece PCC 7822 and allow an in-depth comparative analysis of major physiological and biochemical processes that influence H(2) production in both strains. Our results revealed many previously uncharacterized proteins that may play a role in nitrogenase activity and in other metabolic pathways and may provide suitable targets for genetic manipulation that would lead to improvement of large-scale H(2) production.\""
   ]
  },
  {
   "cell_type": "markdown",
   "metadata": {},
   "source": [
    "# Temporal Changes in State Transitions and Photosystem Organization in the Unicellular, Diazotrophic Cyanobacterium Cyanothece sp. ATCC 51142 \n",
    "\n",
    "Pascal C. Meunier, Milagros S. Colón-López and Louis A. Sherman \n",
    "\n",
    "https://www.jstor.org/stable/4277977?seq=1\n"
   ]
  },
  {
   "cell_type": "markdown",
   "metadata": {},
   "source": [
    "# - Transcriptional and Translational Regulation of Nitrogenase in Light-Dark- and Continuous-Light-Grown Cultures of the Unicellular Cyanobacterium Cyanothece sp. Strain ATCC 51142\n",
    "\n",
    "MILAGROS S. COLO ́N-LO ́PEZ,1† DEBRA M. SHERMAN,2ANDLOUIS A. SHERMAN1\n",
    "\n",
    "http://citeseerx.ist.psu.edu/viewdoc/download?doi=10.1.1.615.1083&rep=rep1&type=pdf\n",
    "\n",
    "\"Nitrogenase mRNAwas synthesized from thenifHDKoperon during the first4hofthedark period under light-dark conditions orduring the first6hofthesubjective-dark period when grown in continuous light. The nitrogenase NifH andNifDK subunits reached a maximum level at 4 to 10 h in the dark or subjective-dark periods and were shownby Western blotting and electron microscopy immunocytochemistry to be thoroughly degraded toward the endof the dark periods. An exception is the NifDK protein (MoFe-protein), which appeared not to be completelydegraded under continuous-light conditions. We hypothesize that cellular O2levels were kept low by decreasingphotosynthesis and by increasing respiration in the early dark or subjective-dark periods to permit nitrogenaseactivity. The subsequent increase in O2levels resulted in nitrogenase damage and eventual degradation.\"\n",
    "\n",
    "**Worked with the nifHDK operon and saw the transcript levels during various phases. Suggests high rates of respiration and decreased photosynthesis. Nothing about TFs.**"
   ]
  },
  {
   "cell_type": "markdown",
   "metadata": {},
   "source": [
    "# - Rapid construction of metabolic models for a family of Cyanobacteria using a multiple source annotation workflow\n",
    "\n",
    "Thomas J Mueller, Bertram M Berla, Himadri B Pakrasi & Costas D Maranas\n",
    "\n",
    "https://bmcsystbiol.biomedcentral.com/articles/10.1186/1752-0509-7-142\n",
    "\n",
    "\" we reconstruct and subsequently analyze and compare the metabolism of five Cyanothece strains, namely Cyanothece sp. PCC 7424, 7425, 7822, 8801 and 8802, as the genome-scale metabolic reconstructions i Cyc792, i Cyn731, i Cyj826, i Cyp752, and i Cyh755 respectively. We compare these phylogenetically related Cyanothece strains to assess their bio-production potential. A systematic workflow is introduced for integrating and prioritizing annotation information from the Universal Protein Resource (Uniprot), NCBI Protein Clusters, and the Rapid Annotations using Subsystems Technology (RAST) method. The genome-scale metabolic models include fully traced photosynthesis reactions and respiratory chains, as well as balanced reactions and GPR associations. Metabolic differences between the organisms are highlighted such as the non-fermentative pathway for alcohol production found in only Cyanothece 7424, 8801, and 8802.\""
   ]
  },
  {
   "cell_type": "markdown",
   "metadata": {},
   "source": [
    "# - Analysis of Protein Complexes in the Unicellular Cyanobacterium Cyanothece ATCC 51142\n",
    "\n",
    "Uma K. Aryal*Ziyun DingVictoria HedrickTiago José Paschoal SobreiraDaisuke KiharaLouis A. Sherman\n",
    "\n",
    "https://pubs.acs.org/doi/10.1021/acs.jproteome.8b00170?mobileUi=0\n",
    "\n",
    "\"Here, we combined size-exclusion chromatography (SEC) with label-free quantitative mass spectrometry (MS) and bioinformatics to characterize many protein complexes from Cyanothece 51142 cells grown under a 12 h light–dark cycle. We identified 1386 proteins in duplicate biological replicates, and 64% of those proteins were identified as putative complexes. Pairwise computational prediction of protein–protein interaction (PPI) identified 74 822 putative interactions, of which 2337 interactions were highly correlated with published protein coexpressions. Many sequential glycolytic and TCA cycle enzymes were identified as putative complexes. We also identified many membrane complexes that contain cytoplasmic domains. Subunits of NDH-1 complex eluted in a fraction with an approximate mass of ∼669 kDa, and subunits composition revealed coexistence of distinct forms of NDH-1 complex subunits responsible for respiration, electron flow, and CO2 uptake. The complex form of the phycocyanin beta subunit was nonphosphorylated, and the monomer form was phosphorylated at Ser20, suggesting phosphorylation-dependent deoligomerization of the phycocyanin beta subunit. This study provides an analytical platform for future studies to reveal how these complexes assemble and disassemble as a function of diurnal and circadian rhythms.\""
   ]
  },
  {
   "cell_type": "markdown",
   "metadata": {},
   "source": [
    "# - Model helps pinpoint cyanobacterial genes that capture the sun's energy\n",
    "\n",
    "https://www.sciencedaily.com/releases/2011/06/110623151223.htm"
   ]
  },
  {
   "cell_type": "markdown",
   "metadata": {},
   "source": [
    "# - Continuous Co-Production of H2 and Biomass From Cyanothece 51142 Cultivated in a Two-Stage Chemostat\n",
    "\n",
    "P. Dechatiwongse, G.C. Maitland and K. Hellgardt \n",
    "\n",
    "https://www.aiche.org/conferences/aiche-annual-meeting/2013/proceeding/paper/401e-continuous-co-production-h2-and-biomass-cyanothece-51142-cultivated-two-stage-chemostat-1\n",
    "\n",
    "\"In our study, we demonstrate a two-stage Chemostat cultivation\n",
    "system, which enables the continuous co-production of H2 and biomass\n",
    "from Cyanothece 51142. The cyanobacterial culture in the primary tubular\n",
    "growth bioreactor is continuously fed with an optimised rate of nutrient. Cells\n",
    "from the growth reactor are then transferred into a flat-plate reactor. This\n",
    "secondary bioreactor is equipped with a customised membrane system [8],\n",
    "allowing the efficient separation of gaseous H2 product from the\n",
    "aqueous culture. \""
   ]
  },
  {
   "cell_type": "markdown",
   "metadata": {},
   "source": [
    "# - A Study of the Growth and Hydrogen Production of Cyanothece sp. ATCC 51142\n",
    "\n",
    "Pongsathorn Dechatiwongse\n",
    "\n",
    "https://core.ac.uk/download/pdf/77002562.pdf"
   ]
  }
 ],
 "metadata": {
  "kernelspec": {
   "display_name": "Python 3",
   "language": "python",
   "name": "python3"
  },
  "language_info": {
   "codemirror_mode": {
    "name": "ipython",
    "version": 3
   },
   "file_extension": ".py",
   "mimetype": "text/x-python",
   "name": "python",
   "nbconvert_exporter": "python",
   "pygments_lexer": "ipython3",
   "version": "3.7.4"
  }
 },
 "nbformat": 4,
 "nbformat_minor": 2
}
