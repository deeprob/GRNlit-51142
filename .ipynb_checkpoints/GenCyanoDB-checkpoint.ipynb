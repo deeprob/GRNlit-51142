{
 "cells": [
  {
   "cell_type": "markdown",
   "metadata": {},
   "source": [
    "# Imported the entire genome of cyanothece 51142"
   ]
  },
  {
   "cell_type": "code",
   "execution_count": 1,
   "metadata": {},
   "outputs": [],
   "source": [
    "import numpy as np\n",
    "import pandas as pd\n",
    "import itertools"
   ]
  },
  {
   "cell_type": "code",
   "execution_count": 2,
   "metadata": {},
   "outputs": [],
   "source": [
    "GenCyano = pd.read_excel(\"0 - EAWData/GenSeq.xlsx\",index_col=0).reset_index(drop=True)"
   ]
  },
  {
   "cell_type": "code",
   "execution_count": 3,
   "metadata": {},
   "outputs": [
    {
     "data": {
      "text/html": [
       "<div>\n",
       "<style scoped>\n",
       "    .dataframe tbody tr th:only-of-type {\n",
       "        vertical-align: middle;\n",
       "    }\n",
       "\n",
       "    .dataframe tbody tr th {\n",
       "        vertical-align: top;\n",
       "    }\n",
       "\n",
       "    .dataframe thead th {\n",
       "        text-align: right;\n",
       "    }\n",
       "</style>\n",
       "<table border=\"1\" class=\"dataframe\">\n",
       "  <thead>\n",
       "    <tr style=\"text-align: right;\">\n",
       "      <th></th>\n",
       "      <th>ORF</th>\n",
       "      <th>Function</th>\n",
       "      <th>CommonName</th>\n",
       "    </tr>\n",
       "  </thead>\n",
       "  <tbody>\n",
       "    <tr>\n",
       "      <td>0</td>\n",
       "      <td>cce_0001</td>\n",
       "      <td>hypothetical protein</td>\n",
       "      <td>cce_0001</td>\n",
       "    </tr>\n",
       "    <tr>\n",
       "      <td>1</td>\n",
       "      <td>cce_0002</td>\n",
       "      <td>alcohol dehydrogenase</td>\n",
       "      <td>cce_0002</td>\n",
       "    </tr>\n",
       "    <tr>\n",
       "      <td>2</td>\n",
       "      <td>cce_0003</td>\n",
       "      <td>hypothetical protein</td>\n",
       "      <td>cce_0003</td>\n",
       "    </tr>\n",
       "    <tr>\n",
       "      <td>3</td>\n",
       "      <td>cce_0004</td>\n",
       "      <td>cation efflux system membrane protein</td>\n",
       "      <td>czcA</td>\n",
       "    </tr>\n",
       "    <tr>\n",
       "      <td>4</td>\n",
       "      <td>cce_0005</td>\n",
       "      <td>conserved hypothetical protein</td>\n",
       "      <td>cce_0005</td>\n",
       "    </tr>\n",
       "  </tbody>\n",
       "</table>\n",
       "</div>"
      ],
      "text/plain": [
       "        ORF                               Function CommonName\n",
       "0  cce_0001                   hypothetical protein   cce_0001\n",
       "1  cce_0002                  alcohol dehydrogenase   cce_0002\n",
       "2  cce_0003                   hypothetical protein   cce_0003\n",
       "3  cce_0004  cation efflux system membrane protein       czcA\n",
       "4  cce_0005         conserved hypothetical protein   cce_0005"
      ]
     },
     "execution_count": 3,
     "metadata": {},
     "output_type": "execute_result"
    }
   ],
   "source": [
    "GenCyano.head()"
   ]
  },
  {
   "cell_type": "markdown",
   "metadata": {},
   "source": [
    "# Gathered all the identified regulators in cyanothece 51142 for their cyclicity and the bottlenecks to capture their expression time\n",
    "Source: \n",
    "\n",
    "2. A model of cyclic transcriptomic behavior in the cyanobacterium Cyanothece sp. ATCC 51142†\n",
    "\n",
    "Jason E. McDermott,*a Christopher S. Oehmen,a Lee Ann McCue,a Eric Hill,b Daniel M. Choi,a Jana Stöckel,c Michelle Liberton,c Himadri B. Pakrasic and Louis A. Shermand\n",
    "\n",
    "https://pubs.rsc.org/en/content/articlelanding/2011/MB/c1mb05006k#!divAbstract"
   ]
  },
  {
   "cell_type": "code",
   "execution_count": 4,
   "metadata": {},
   "outputs": [],
   "source": [
    "import tabula"
   ]
  },
  {
   "cell_type": "code",
   "execution_count": 5,
   "metadata": {},
   "outputs": [],
   "source": [
    "df = tabula.read_pdf(\"2 - JEMData/c1mb05006k.pdf\", pages=['10','11','12','13'])\n",
    "df.fillna(\"unknown\",inplace=True)\n",
    "trandf = tabula.read_pdf(\"Papers/2.pdf\",pages=[\"5\"])\n",
    "new_header = trandf.iloc[0]\n",
    "trandf = trandf.iloc[1:26]\n",
    "trandf.columns = new_header\n",
    "trandf = trandf[trandf.Transition!='*']"
   ]
  },
  {
   "cell_type": "markdown",
   "metadata": {},
   "source": [
    "# Added their cyclicity and expression"
   ]
  },
  {
   "cell_type": "code",
   "execution_count": 6,
   "metadata": {},
   "outputs": [],
   "source": [
    "def funcparse(orf):\n",
    "    if orf in df['ORF'].values and orf in trandf['ID'].values:\n",
    "        return pd.Series({'TfBool':True,\n",
    "                          'Cyclicity':df.loc[df.ORF==orf,'Cyclicity'].values[0],\n",
    "                          'Expression': trandf.loc[trandf.ID==orf,'Transition'].values[0]})\n",
    "    elif orf in df['ORF'].values:\n",
    "        return pd.Series({'TfBool':True,\n",
    "                          'Cyclicity':df.loc[df.ORF==orf,'Cyclicity'].values[0],\n",
    "                          'Expression': 'unknown'})\n",
    "\n",
    "    elif orf in trandf['ID'].values:\n",
    "        return pd.Series({'TfBool':False,\n",
    "                          'Cyclicity':'unknown',\n",
    "                          'Expression': trandf.loc[trandf.ID==orf,'Transition'].values[0]})\n",
    "    else:\n",
    "        return pd.Series({'TfBool':False,\n",
    "                          'Cyclicity':'unknown',\n",
    "                          'Expression':'unknown'})\n",
    "    \n",
    "GenCyano = GenCyano.merge(GenCyano.ORF.apply(funcparse),left_index=True,right_index=True)"
   ]
  },
  {
   "cell_type": "code",
   "execution_count": 7,
   "metadata": {},
   "outputs": [
    {
     "data": {
      "text/html": [
       "<div>\n",
       "<style scoped>\n",
       "    .dataframe tbody tr th:only-of-type {\n",
       "        vertical-align: middle;\n",
       "    }\n",
       "\n",
       "    .dataframe tbody tr th {\n",
       "        vertical-align: top;\n",
       "    }\n",
       "\n",
       "    .dataframe thead th {\n",
       "        text-align: right;\n",
       "    }\n",
       "</style>\n",
       "<table border=\"1\" class=\"dataframe\">\n",
       "  <thead>\n",
       "    <tr style=\"text-align: right;\">\n",
       "      <th></th>\n",
       "      <th>ORF</th>\n",
       "      <th>Function</th>\n",
       "      <th>CommonName</th>\n",
       "      <th>TfBool</th>\n",
       "      <th>Cyclicity</th>\n",
       "      <th>Expression</th>\n",
       "    </tr>\n",
       "  </thead>\n",
       "  <tbody>\n",
       "    <tr>\n",
       "      <td>0</td>\n",
       "      <td>cce_0001</td>\n",
       "      <td>hypothetical protein</td>\n",
       "      <td>cce_0001</td>\n",
       "      <td>False</td>\n",
       "      <td>unknown</td>\n",
       "      <td>unknown</td>\n",
       "    </tr>\n",
       "    <tr>\n",
       "      <td>1</td>\n",
       "      <td>cce_0002</td>\n",
       "      <td>alcohol dehydrogenase</td>\n",
       "      <td>cce_0002</td>\n",
       "      <td>False</td>\n",
       "      <td>unknown</td>\n",
       "      <td>unknown</td>\n",
       "    </tr>\n",
       "    <tr>\n",
       "      <td>2</td>\n",
       "      <td>cce_0003</td>\n",
       "      <td>hypothetical protein</td>\n",
       "      <td>cce_0003</td>\n",
       "      <td>False</td>\n",
       "      <td>unknown</td>\n",
       "      <td>unknown</td>\n",
       "    </tr>\n",
       "    <tr>\n",
       "      <td>3</td>\n",
       "      <td>cce_0004</td>\n",
       "      <td>cation efflux system membrane protein</td>\n",
       "      <td>czcA</td>\n",
       "      <td>False</td>\n",
       "      <td>unknown</td>\n",
       "      <td>unknown</td>\n",
       "    </tr>\n",
       "    <tr>\n",
       "      <td>4</td>\n",
       "      <td>cce_0005</td>\n",
       "      <td>conserved hypothetical protein</td>\n",
       "      <td>cce_0005</td>\n",
       "      <td>False</td>\n",
       "      <td>unknown</td>\n",
       "      <td>unknown</td>\n",
       "    </tr>\n",
       "  </tbody>\n",
       "</table>\n",
       "</div>"
      ],
      "text/plain": [
       "        ORF                               Function CommonName  TfBool  \\\n",
       "0  cce_0001                   hypothetical protein   cce_0001   False   \n",
       "1  cce_0002                  alcohol dehydrogenase   cce_0002   False   \n",
       "2  cce_0003                   hypothetical protein   cce_0003   False   \n",
       "3  cce_0004  cation efflux system membrane protein       czcA   False   \n",
       "4  cce_0005         conserved hypothetical protein   cce_0005   False   \n",
       "\n",
       "  Cyclicity Expression  \n",
       "0   unknown    unknown  \n",
       "1   unknown    unknown  \n",
       "2   unknown    unknown  \n",
       "3   unknown    unknown  \n",
       "4   unknown    unknown  "
      ]
     },
     "execution_count": 7,
     "metadata": {},
     "output_type": "execute_result"
    }
   ],
   "source": [
    "GenCyano.head()"
   ]
  },
  {
   "cell_type": "code",
   "execution_count": 8,
   "metadata": {},
   "outputs": [],
   "source": [
    "GenCyano['TFTG'] = [dict() if GenCyano.loc[i,'TfBool']==True else np.nan for i in range(len(GenCyano)) ]"
   ]
  },
  {
   "cell_type": "markdown",
   "metadata": {},
   "source": [
    "# From the 6 papers, include the interactions  "
   ]
  },
  {
   "cell_type": "markdown",
   "metadata": {},
   "source": [
    " The number -1 is inhibitor, +1 is activator and 0 is an unknown interaction."
   ]
  },
  {
   "cell_type": "markdown",
   "metadata": {},
   "source": [
    "**1. A model of the circadian clock in the cyanobacterium Cyanothece sp. ATCC 51142**\n",
    "\n",
    "Nguyen Xuan Vinh, Madhu Chetty, Ross Coppel, Sandeep Gaudana & Pramod P Wangikar\n",
    "\n",
    "https://bmcbioinformatics.biomedcentral.com/articles/10.1186/1471-2105-14-S2-S14\n"
   ]
  },
  {
   "cell_type": "code",
   "execution_count": 9,
   "metadata": {},
   "outputs": [],
   "source": [
    "# include the clock mechanism\n",
    "# only included the interaction with valid images or files \n",
    "GenCyano.loc[GenCyano.ORF == 'cce_0424', 'TFTG'].values[0].update({'1': {'cce_2350':1,'cce_4751':1}})\n",
    "GenCyano.loc[GenCyano.ORF == 'cce_0423', 'TFTG'].values[0].update({'1':{'cce_0145':1}})\n",
    "GenCyano.loc[GenCyano.ORF == 'cce_0435', 'TFTG'].values[0].update({'1':{'cce_0423':1,'cce_1751':1}})\n",
    "GenCyano.loc[GenCyano.ORF == 'cce_4716', 'TFTG'].values[0].update({'1':{'cce_0424':1,'cce_0422':1,'cce_3317':1,'cce_0298':1}})\n",
    "GenCyano.loc[GenCyano.ORF == 'cce_0298', 'TFTG'].values[0].update({'1':{'cce_0435':1,'cce_2642':1}})\n",
    "GenCyano.loc[GenCyano.ORF == 'cce_1751', 'TFTG'].values[0].update({'1':{'cce_4716':1}})"
   ]
  },
  {
   "cell_type": "markdown",
   "metadata": {},
   "source": [
    "**2. A model of cyclic transcriptomic behavior in the cyanobacterium Cyanothece sp. ATCC 51142†**\n",
    "\n",
    "Jason E. McDermott,*a Christopher S. Oehmen,a Lee Ann McCue,a Eric Hill,b Daniel M. Choi,a Jana Stöckel,c Michelle Liberton,c Himadri B. Pakrasic and Louis A. Shermand\n",
    "\n",
    "https://pubs.rsc.org/en/content/articlelanding/2011/MB/c1mb05006k#!divAbstract"
   ]
  },
  {
   "cell_type": "code",
   "execution_count": 10,
   "metadata": {},
   "outputs": [],
   "source": [
    "# inferring multiple things from 2 methods, have taken the common ones among them\n",
    "GenCyano.loc[GenCyano.ORF == 'cce_0298', 'TFTG'].values[0].update({'2': {'cce_3378':1,'cce_2330':1,'cce_3594':1,'cce_0461':1}})\n",
    "GenCyano.loc[GenCyano.ORF == 'cce_1898', 'TFTG'].values[0].update({'2': {'cce_0298':-1,'cce_0461':-1,'cce_0559':1,'cce_0560':1,'cce_0561':1}})\n",
    "GenCyano.loc[GenCyano.ORF == 'cce_0644', 'TFTG'].values[0].update({'2': {'cce_0461':1}})\n",
    "GenCyano.loc[GenCyano.ORF == 'cce_3298', 'TFTG'].values[0].update({'2': {'cce_0644':1,'cce_0461':1}})\n",
    "GenCyano.loc[GenCyano.ORF == 'cce_4141', 'TFTG'].values[0].update({'2': {'cce_3298':1}})\n",
    "GenCyano.loc[GenCyano.ORF == 'cce_0678', 'TFTG'].values[0].update({'2': {'cce_3164':1, 'cce_3166':1}})"
   ]
  },
  {
   "cell_type": "markdown",
   "metadata": {},
   "source": [
    "**3. Metabolic Rhythms of the Cyanobacterium Cyanothece sp. ATCC 51142 Correlate with Modeled Dynamics of Circadian Clock**\n",
    "\n",
    "Jan Cˇervený* and Ladislav Nedbal*,†\n",
    "\n",
    "https://journals.sagepub.com/doi/pdf/10.1177/0748730409338367"
   ]
  },
  {
   "cell_type": "markdown",
   "metadata": {},
   "source": [
    "**4. Global transcriptomic analysis of Cyanothece 51142 reveals robust diurnal oscillation of central metabolic processes**\n",
    "\n",
    "Jana Stöckel, Eric A. Welsh, Michelle Liberton, Rangesh Kunnvakkam, Rajeev Aurora, and Himadri B. Pakrasi\n",
    "\n",
    "https://www.pnas.org/content/105/16/6156"
   ]
  },
  {
   "cell_type": "code",
   "execution_count": 11,
   "metadata": {},
   "outputs": [],
   "source": [
    "# import the expression and metabolic pathway file\n",
    "jsdf = pd.read_excel(\"4 - JSData/EPinfo.xlsx\",index_col=0,usecols=[0,1,3,4])"
   ]
  },
  {
   "cell_type": "code",
   "execution_count": 12,
   "metadata": {},
   "outputs": [],
   "source": [
    "jsdf['ORF'] = jsdf['ORF'].str.strip()"
   ]
  },
  {
   "cell_type": "markdown",
   "metadata": {},
   "source": [
    "Add pathway information and only if expression data is not given, then add expression information. TO add new value for a specific index at a new column, follow the way given below."
   ]
  },
  {
   "cell_type": "code",
   "execution_count": 13,
   "metadata": {},
   "outputs": [
    {
     "name": "stdout",
     "output_type": "stream",
     "text": [
      "Contig0_4506_4631407\n"
     ]
    }
   ],
   "source": [
    "for orf in jsdf['ORF']:\n",
    "    if orf in GenCyano.ORF.values:\n",
    "        GenCyano.loc[GenCyano.index[GenCyano.ORF == orf][0],'pathway'] \\\n",
    "        = jsdf.loc[jsdf.ORF==orf,'pathway'].values[0]\n",
    "        if GenCyano.loc[GenCyano.ORF == orf,'Expression'].values[0] == 'unknown':\n",
    "            GenCyano.loc[GenCyano.ORF == orf,'Expression'] \\\n",
    "            = jsdf.loc[jsdf.ORF==orf,'Expression'].values[0]\n",
    "    else:\n",
    "        print(orf)"
   ]
  },
  {
   "cell_type": "markdown",
   "metadata": {},
   "source": [
    "**5. Identifying Regulatory Changes to Facilitate Nitrogen Fixation in the Nondiazotroph Synechocystis sp. PCC 6803**\n",
    "\n",
    "Thomas J. Mueller†Eric A. Welsh‡Himadri B. Pakrasi§∥Costas D. Maranas*†\n",
    "\n",
    "https://pubs.acs.org/doi/full/10.1021/acssynbio."
   ]
  },
  {
   "cell_type": "code",
   "execution_count": 14,
   "metadata": {},
   "outputs": [
    {
     "data": {
      "text/plain": [
       "{'cce_0556', 'cce_2943', 'cce_4219'}"
      ]
     },
     "execution_count": 14,
     "metadata": {},
     "output_type": "execute_result"
    }
   ],
   "source": [
    "# import TJM data file made before\n",
    "\n",
    "tjmdf = pd.read_excel(\"5 - TJMData/interTJM.xlsx\",index_col=0)\n",
    "\n",
    "alltfs = GenCyano.loc[GenCyano.TfBool==True,'ORF']\n",
    "a = set(alltfs)\n",
    "tjmtfs = tjmdf['TF ORF']\n",
    "b = set(tjmtfs)\n",
    "b-a"
   ]
  },
  {
   "cell_type": "code",
   "execution_count": 15,
   "metadata": {},
   "outputs": [
    {
     "data": {
      "text/plain": [
       "{'cce_0556', 'cce_2943', 'cce_4219'}"
      ]
     },
     "execution_count": 15,
     "metadata": {},
     "output_type": "execute_result"
    }
   ],
   "source": [
    "alltfs = GenCyano.loc[GenCyano.TfBool==True,'ORF']\n",
    "a = set(alltfs)\n",
    "tjmtfs = tjmdf['TF ORF']\n",
    "b = set(tjmtfs)\n",
    "b-a"
   ]
  },
  {
   "cell_type": "markdown",
   "metadata": {},
   "source": [
    "Found 1 ferrodoxin and 2 kinases. Will eliminate them. "
   ]
  },
  {
   "cell_type": "code",
   "execution_count": 16,
   "metadata": {},
   "outputs": [],
   "source": [
    "for tforf in b-(b-a):\n",
    "    #find the interaction\n",
    "    tglist = list(tjmdf.loc[tjmdf.loc[:,'TF ORF']==tforf]['TG ORF'])\n",
    "    wlist  = list(tjmdf.loc[tjmdf.loc[:,'TF ORF']==tforf]['cjval'])\n",
    "    innerdict  = {tg:w for tg,w in zip(tglist,wlist)}\n",
    "    GenCyano.loc[GenCyano.ORF == tforf, 'TFTG'].values[0].update({'5': innerdict})"
   ]
  },
  {
   "cell_type": "markdown",
   "metadata": {},
   "source": [
    "**6. TRANSCRIPTIONAL ANALYSIS OF THE UNICELLULAR, DIAZOTROPHIC CYANOBACTERIUM CYANOTHECE SP. ATCC 51142 GROWN UNDER SHORT DAY/NIGHT CYCLES**\n",
    "\n",
    "Jo¨rg Toepel Jason E. McDermott Tina C. Summerfield Louis A. Sherman\n",
    "\n",
    "https://onlinelibrary.wiley.com/doi/full/10.1111/j.1529-8817.2009.00674.x"
   ]
  },
  {
   "cell_type": "markdown",
   "metadata": {},
   "source": [
    "The paper has specified in Table 1 some genes under diurnal/circadian rhythm and if they are light/dark expressed. Our objective is to manually check if those details have already been included in our model and to inlcude them if not. "
   ]
  },
  {
   "cell_type": "code",
   "execution_count": 17,
   "metadata": {},
   "outputs": [],
   "source": [
    "def numRange(x,y):\n",
    "    '''Takes in a range of numbers for ORF and spills out a modified \n",
    "     string ORF'''\n",
    "    nums = list(range(x,y+1))\n",
    "    for idx in range(len(nums)):\n",
    "        pre = '0' * (4-int(len(str(nums[idx]))))\n",
    "        nums[idx] = pre+str(nums[idx])\n",
    "    ORF = ['cce_'+num for num in nums]\n",
    "    return ORF"
   ]
  },
  {
   "cell_type": "markdown",
   "metadata": {},
   "source": [
    "include Diurnal D up-regulated genes"
   ]
  },
  {
   "cell_type": "code",
   "execution_count": 18,
   "metadata": {},
   "outputs": [],
   "source": [
    "ORFS = numRange(2315,2319) + ['cce_3746','cce_2536'] + numRange(2236,2237) \\\n",
    "        + numRange(32,33) + numRange(1854,1856)\n",
    "\n",
    "for orf in ORFS:\n",
    "    if orf in GenCyano.ORF.values:\n",
    "\n",
    "        if GenCyano.loc[GenCyano.ORF == orf,'Expression'].values[0] == 'unknown':\n",
    "            GenCyano.loc[GenCyano.ORF == orf,'Expression'] \\\n",
    "            = 'D'\n",
    "        if GenCyano.loc[GenCyano.ORF == orf,'Cyclicity'].values[0] == 'unknown':\n",
    "            GenCyano.loc[GenCyano.ORF == orf,'Cyclicity'] \\\n",
    "            = 'diurnal'\n",
    "    else:\n",
    "        print(orf)"
   ]
  },
  {
   "cell_type": "markdown",
   "metadata": {},
   "source": [
    "include Diurnal L up-regulated genes"
   ]
  },
  {
   "cell_type": "code",
   "execution_count": 19,
   "metadata": {},
   "outputs": [],
   "source": [
    "# PSI and PSII genes w/o reaction centers\n",
    "def CycFunc(row):\n",
    "    if 'reaction center' not in row['Function']:\n",
    "            row['Cyclicity'] = 'diurnal'\n",
    "            row['Expression'] = 'L'\n",
    "    return row\n",
    "\n",
    "GenCyano.loc[GenCyano.pathway=='Photosystem I'] = \\\n",
    "    GenCyano.loc[GenCyano.pathway=='Photosystem I'].apply(CycFunc,axis=1)\n",
    "\n",
    "GenCyano.loc[GenCyano.pathway=='Photosystem II'] = \\\n",
    "    GenCyano.loc[GenCyano.pathway=='Photosystem II'].apply(CycFunc,axis=1)"
   ]
  },
  {
   "cell_type": "code",
   "execution_count": 20,
   "metadata": {},
   "outputs": [],
   "source": [
    "ORFS = ['cce_0636'] + ['cce_1214','cce_1222','cce_1223'] + numRange(1681,1689) \\\n",
    "        + numRange(1690,1693)\n",
    "\n",
    "for orf in ORFS:\n",
    "    if orf in GenCyano.ORF.values:\n",
    "\n",
    "        if GenCyano.loc[GenCyano.ORF == orf,'Expression'].values[0] == 'unknown':\n",
    "            GenCyano.loc[GenCyano.ORF == orf,'Expression'] \\\n",
    "            = 'L'\n",
    "        if GenCyano.loc[GenCyano.ORF == orf,'Cyclicity'].values[0] == 'unknown':\n",
    "            GenCyano.loc[GenCyano.ORF == orf,'Cyclicity'] \\\n",
    "            = 'diurnal'\n",
    "    else:\n",
    "        print(orf)"
   ]
  },
  {
   "cell_type": "markdown",
   "metadata": {},
   "source": [
    "include Circadian L up-regulated genes"
   ]
  },
  {
   "cell_type": "code",
   "execution_count": 21,
   "metadata": {},
   "outputs": [],
   "source": [
    "ORFS = numRange(2908,2909) + numRange(2651,2656) + numRange(2812,2813) \\\n",
    "         + numRange(4482,4489) + numRange(989,990) + ['cce_0267'] + \\\n",
    "        numRange(2106,2112) + numRange(969,970) + ['cce_4542']\n",
    "\n",
    "for orf in ORFS:\n",
    "    if orf in GenCyano.ORF.values:\n",
    "\n",
    "        if GenCyano.loc[GenCyano.ORF == orf,'Expression'].values[0] == 'unknown':\n",
    "            GenCyano.loc[GenCyano.ORF == orf,'Expression'] \\\n",
    "            = 'L'\n",
    "        if GenCyano.loc[GenCyano.ORF == orf,'Cyclicity'].values[0] == 'unknown':\n",
    "            GenCyano.loc[GenCyano.ORF == orf,'Cyclicity'] \\\n",
    "            = 'circadian'\n",
    "    else:\n",
    "        print(orf)"
   ]
  },
  {
   "cell_type": "markdown",
   "metadata": {},
   "source": [
    "include Circadian D up-regulated genes"
   ]
  },
  {
   "cell_type": "code",
   "execution_count": 22,
   "metadata": {},
   "outputs": [],
   "source": [
    "ORFS = numRange(1975,1977) +  ['cce_1603'] + ['cce_3465'] + ['cce_3477'] + \\\n",
    "     ['cce_3126'] +numRange(1063,1064) +numRange(545,588) + numRange(575,576) \\\n",
    "    + ['cce_0298']\n",
    "\n",
    "for orf in ORFS:\n",
    "    if orf in GenCyano.ORF.values:\n",
    "\n",
    "        if GenCyano.loc[GenCyano.ORF == orf,'Expression'].values[0] == 'unknown':\n",
    "            GenCyano.loc[GenCyano.ORF == orf,'Expression'] \\\n",
    "            = 'D'\n",
    "        if GenCyano.loc[GenCyano.ORF == orf,'Cyclicity'].values[0] == 'unknown':\n",
    "            GenCyano.loc[GenCyano.ORF == orf,'Cyclicity'] \\\n",
    "            = 'circadian'\n",
    "    else:\n",
    "        print(orf)"
   ]
  },
  {
   "cell_type": "code",
   "execution_count": 23,
   "metadata": {},
   "outputs": [
    {
     "data": {
      "text/html": [
       "<div>\n",
       "<style scoped>\n",
       "    .dataframe tbody tr th:only-of-type {\n",
       "        vertical-align: middle;\n",
       "    }\n",
       "\n",
       "    .dataframe tbody tr th {\n",
       "        vertical-align: top;\n",
       "    }\n",
       "\n",
       "    .dataframe thead th {\n",
       "        text-align: right;\n",
       "    }\n",
       "</style>\n",
       "<table border=\"1\" class=\"dataframe\">\n",
       "  <thead>\n",
       "    <tr style=\"text-align: right;\">\n",
       "      <th></th>\n",
       "      <th>ORF</th>\n",
       "      <th>Function</th>\n",
       "      <th>CommonName</th>\n",
       "      <th>TfBool</th>\n",
       "      <th>Cyclicity</th>\n",
       "      <th>Expression</th>\n",
       "      <th>TFTG</th>\n",
       "      <th>pathway</th>\n",
       "    </tr>\n",
       "  </thead>\n",
       "  <tbody>\n",
       "    <tr>\n",
       "      <td>574</td>\n",
       "      <td>cce_0576</td>\n",
       "      <td>ferrous iron transport protein A</td>\n",
       "      <td>feoA2</td>\n",
       "      <td>False</td>\n",
       "      <td>circadian</td>\n",
       "      <td>D</td>\n",
       "      <td>NaN</td>\n",
       "      <td>NaN</td>\n",
       "    </tr>\n",
       "  </tbody>\n",
       "</table>\n",
       "</div>"
      ],
      "text/plain": [
       "          ORF                          Function CommonName  TfBool  Cyclicity  \\\n",
       "574  cce_0576  ferrous iron transport protein A      feoA2   False  circadian   \n",
       "\n",
       "    Expression TFTG pathway  \n",
       "574          D  NaN     NaN  "
      ]
     },
     "execution_count": 23,
     "metadata": {},
     "output_type": "execute_result"
    }
   ],
   "source": [
    "GenCyano.loc[GenCyano.ORF=='cce_0576']"
   ]
  },
  {
   "cell_type": "markdown",
   "metadata": {},
   "source": [
    "# The Final Dataframe to excel for use by the class"
   ]
  },
  {
   "cell_type": "code",
   "execution_count": 24,
   "metadata": {},
   "outputs": [],
   "source": [
    "GenCyano.to_excel('GRNCyanoDB/GenCyanoDB.xlsx')"
   ]
  }
 ],
 "metadata": {
  "kernelspec": {
   "display_name": "Python 3",
   "language": "python",
   "name": "python3"
  },
  "language_info": {
   "codemirror_mode": {
    "name": "ipython",
    "version": 3
   },
   "file_extension": ".py",
   "mimetype": "text/x-python",
   "name": "python",
   "nbconvert_exporter": "python",
   "pygments_lexer": "ipython3",
   "version": "3.7.4"
  }
 },
 "nbformat": 4,
 "nbformat_minor": 2
}
