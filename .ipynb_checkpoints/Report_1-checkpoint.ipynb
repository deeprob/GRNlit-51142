{
 "cells": [
  {
   "cell_type": "markdown",
   "metadata": {},
   "source": [
    "# Summary\n",
    "\n",
    "1. Identified multiple transcription factor(tf), target gene(tg) mappings from various literature sources. \n",
    "2. Created a cytoscape model depicting the identified tf-tg interactions.\n",
    "3. Most of the papers lack a single mapping between a specific tf and it's tg. They are mainly working with clusters of tfs or tgs. I have avoided including such interactions in the above model. \n",
    "4. The inference networks in the literature sources are developed mainly from microarray experimental data using co-expression based methods. "
   ]
  },
  {
   "cell_type": "markdown",
   "metadata": {},
   "source": [
    "# The cytoscape model"
   ]
  },
  {
   "cell_type": "markdown",
   "metadata": {},
   "source": [
    "![Figure_1](Cs-visualization/1_visual.png \"Figure 1\")"
   ]
  },
  {
   "cell_type": "markdown",
   "metadata": {},
   "source": [
    "The above figure shows the model visualization grouped into 3 different literature sources. By clicking on these sources, the model expands and shows the entire network as shown below:  "
   ]
  },
  {
   "cell_type": "markdown",
   "metadata": {},
   "source": [
    "![Figure_2](Cs-visualization/2_visual.png \"Figure 2\")"
   ]
  },
  {
   "cell_type": "markdown",
   "metadata": {},
   "source": [
    "Here, the diamond boxes are the individual genes and the oval box is an operon. The directed arrow represents positive interaction between the tf-tg pair. The T-arrow shows negative interactions between the same. "
   ]
  },
  {
   "cell_type": "markdown",
   "metadata": {},
   "source": [
    "# Path Forward\n",
    "\n",
    "1. Go through more literature sources to find further interactions.\n",
    "2. Can include tf cluster-tg cluster interactions. \n",
    "3. Can combine various micro-array data from the literature sources and develop a Gene Regulatory Network based on newer techniques like GRENITS [1](#tag_1), GENIE3 [2](#tag_2) or maybe a combination of various methods [3](#tag_3).  "
   ]
  },
  {
   "cell_type": "markdown",
   "metadata": {},
   "source": [
    "1. <a id='tag_1'>https://bioconductor.org/packages/release/bioc/html/GRENITS.html</a>\n",
    "2. <a id='tag_2'>https://bioconductor.org/packages/release/bioc/html/GENIE3.html</a>\n",
    "3. <a id='tag_3'>https://www.frontiersin.org/articles/10.3389/fpls.2018.01770/full#B21</a>"
   ]
  }
 ],
 "metadata": {
  "kernelspec": {
   "display_name": "Python 3",
   "language": "python",
   "name": "python3"
  },
  "language_info": {
   "codemirror_mode": {
    "name": "ipython",
    "version": 3
   },
   "file_extension": ".py",
   "mimetype": "text/x-python",
   "name": "python",
   "nbconvert_exporter": "python",
   "pygments_lexer": "ipython3",
   "version": "3.7.4"
  }
 },
 "nbformat": 4,
 "nbformat_minor": 2
}
