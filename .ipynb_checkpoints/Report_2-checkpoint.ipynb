{
 "cells": [
  {
   "cell_type": "markdown",
   "metadata": {},
   "source": [
    "# Summary\n",
    "\n",
    "1. Built a Gene Regulatory Network that captures the interactions between transcription factors and target genes of Cyanothece 51142 obtained from 7 literature sources specified below. \n",
    "2. The network has been updated to include the cyclicity, function, expression period and participation in a metabolic pathway of transcription factors or target genes as available in literature. \n",
    "3. All the interactions are predicted by using microarray experiment data. I will include a detailed review of the algorithms used to predict the interactions in my next report as suggested by you in our previous meeting. \n",
    "4. The network is sparse due to limited literature on Cyanothece 51142. "
   ]
  },
  {
   "cell_type": "markdown",
   "metadata": {},
   "source": [
    "# Gene Regulatory Network"
   ]
  },
  {
   "cell_type": "markdown",
   "metadata": {},
   "source": [
    "In the networks shown below, \n",
    "\n",
    "\n",
    "1. The Transcription Factors are the green pentagons.\n",
    "2. The Target Genes are the yellow ellipses.\n",
    "3. A red arrow denotes an activation.\n",
    "4. A blue arrow denotes an inhibition. "
   ]
  },
  {
   "cell_type": "markdown",
   "metadata": {},
   "source": [
    "## The entire network is presented below:\n",
    "![Figure_1](GRNimages/pGRN.png \"Figure 1\")"
   ]
  },
  {
   "cell_type": "markdown",
   "metadata": {},
   "source": [
    "The description of the transcriptions factors and their associated target genes of this network are in [Appendix A](#tag_1)."
   ]
  },
  {
   "cell_type": "markdown",
   "metadata": {},
   "source": [
    "## Only those transcription factor and target gene that are predicted to be under *circadian rhythm* and their interactions with other transcription factors and target genes are in the network:\n",
    "\n",
    "![Figure_2](GRNimages/cGRN.png \"Figure 2\")"
   ]
  },
  {
   "cell_type": "markdown",
   "metadata": {},
   "source": [
    "The description of the transcriptions factors and their associated target genes of this network are in [Appendix B](#tag_2)."
   ]
  },
  {
   "cell_type": "markdown",
   "metadata": {},
   "source": [
    "## Only those transcription factor and target gene that are predicted to be under *diurnal rhythm* and their interactions with other transcription factors and target genes are in this network:\n",
    "\n",
    "![Figure_3](GRNimages/dGRN.png \"Figure 3\")"
   ]
  },
  {
   "cell_type": "markdown",
   "metadata": {},
   "source": [
    "The description of the transcriptions factors and their associated target genes of this network are in [Appendix C](#tag_3)."
   ]
  },
  {
   "cell_type": "markdown",
   "metadata": {},
   "source": [
    "## Transcription factors and target genes that are expressed during the *light to dark* transition phase and their interactions with other transcription factors and target genes are in this network:\n",
    "\n",
    "![Figure_4](GRNimages/fGRN.png \"Figure 4\")"
   ]
  },
  {
   "cell_type": "markdown",
   "metadata": {},
   "source": [
    "The description of the transcriptions factors and their associated target genes of this network are in [Appendix D](#tag_4)."
   ]
  },
  {
   "cell_type": "markdown",
   "metadata": {},
   "source": [
    "# Sources\n",
    "\n",
    "\n",
    "0. The genome of Cyanothece 51142, a unicellular diazotrophic cyanobacterium important in the marine nitrogen cycle\n",
    "\n",
    "Eric A. Welsh, Michelle Liberton, [...], and Himadri B. Pakrasi\n",
    "\n",
    "\n",
    "\n",
    "1. A model of the circadian clock in the cyanobacterium Cyanothece sp. ATCC 51142\n",
    "\n",
    "Nguyen Xuan Vinh, Madhu Chetty, Ross Coppel, Sandeep Gaudana & Pramod P Wangikar\n",
    "\n",
    "\n",
    "\n",
    "2. A model of cyclic transcriptomic behavior in the cyanobacterium Cyanothece sp. ATCC 51142†\n",
    "\n",
    "Jason E. McDermott,*a Christopher S. Oehmen,a Lee Ann McCue,a Eric Hill,b Daniel M. Choi,a Jana Stöckel,c Michelle Liberton,c Himadri B. Pakrasic and Louis A. Shermand\n",
    "\n",
    "\n",
    "\n",
    "3. Metabolic Rhythms of the Cyanobacterium Cyanothece sp. ATCC 51142 Correlate with Modeled Dynamics of Circadian Clock\n",
    "\n",
    "Jan Cˇervený* and Ladislav Nedbal*,†\n",
    "\n",
    "\n",
    "\n",
    "4. Global transcriptomic analysis of Cyanothece 51142 reveals robust diurnal oscillation of central metabolic processes\n",
    "\n",
    "Jana Stöckel, Eric A. Welsh, Michelle Liberton, Rangesh Kunnvakkam, Rajeev Aurora, and Himadri B. Pakrasi\n",
    "\n",
    "\n",
    "\n",
    "5. Identifying Regulatory Changes to Facilitate Nitrogen Fixation in the Nondiazotroph Synechocystis sp. PCC 6803\n",
    "\n",
    "Thomas J. Mueller†Eric A. Welsh‡Himadri B. Pakrasi§∥Costas D. Maranas*†\n",
    "\n",
    "\n",
    "\n",
    "6. TRANSCRIPTIONAL ANALYSIS OF THE UNICELLULAR, DIAZOTROPHIC CYANOBACTERIUM CYANOTHECE SP. ATCC 51142 GROWN UNDER SHORT DAY/NIGHT CYCLES\n",
    "\n",
    "Jo¨rg Toepel Jason E. McDermott Tina C. Summerfield Louis A. Sherman\n",
    "\n"
   ]
  },
  {
   "cell_type": "markdown",
   "metadata": {},
   "source": [
    "# <a id='tag_1'>Appendix A</a>"
   ]
  },
  {
   "cell_type": "markdown",
   "metadata": {},
   "source": [
    "<div>\n",
    "<img src=\"GRNimages/pGRNtable.png\">\n",
    "</div>"
   ]
  },
  {
   "cell_type": "markdown",
   "metadata": {},
   "source": [
    "# <a id='tag_2'>Appendix B</a>"
   ]
  },
  {
   "cell_type": "markdown",
   "metadata": {},
   "source": [
    "<div>\n",
    "<img src=\"GRNimages/cGRNtable.png\">\n",
    "</div>"
   ]
  },
  {
   "cell_type": "markdown",
   "metadata": {},
   "source": [
    "# <a id='tag_3'>Appendix C</a>"
   ]
  },
  {
   "cell_type": "markdown",
   "metadata": {},
   "source": [
    "<div>\n",
    "<img src=\"GRNimages/dGRNtable.png\">\n",
    "</div>"
   ]
  },
  {
   "cell_type": "markdown",
   "metadata": {},
   "source": [
    "# <a id='tag_4'>Appendix D</a>"
   ]
  },
  {
   "cell_type": "markdown",
   "metadata": {},
   "source": [
    "<div>\n",
    "<img src=\"GRNimages/fGRNtable.png\">\n",
    "</div>"
   ]
  }
 ],
 "metadata": {
  "kernelspec": {
   "display_name": "Python 3",
   "language": "python",
   "name": "python3"
  },
  "language_info": {
   "codemirror_mode": {
    "name": "ipython",
    "version": 3
   },
   "file_extension": ".py",
   "mimetype": "text/x-python",
   "name": "python",
   "nbconvert_exporter": "python",
   "pygments_lexer": "ipython3",
   "version": "3.7.4"
  }
 },
 "nbformat": 4,
 "nbformat_minor": 2
}
